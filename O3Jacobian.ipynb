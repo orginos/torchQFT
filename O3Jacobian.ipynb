{
 "cells": [
  {
   "cell_type": "code",
   "execution_count": 1,
   "id": "f8409a6f-e13e-4b2d-b3ad-614428940cb2",
   "metadata": {},
   "outputs": [
    {
     "name": "stdout",
     "output_type": "stream",
     "text": [
      "3.12.6 (main, Sep  6 2024, 19:03:47) [Clang 16.0.0 (clang-1600.0.26.3)]\n"
     ]
    }
   ],
   "source": [
    "import os\n",
    "import glob\n",
    "import sys\n",
    "import numpy as np\n",
    "import matplotlib\n",
    "#matplotlib.use('agg')\n",
    "import matplotlib.pyplot as plt\n",
    "import torch as tr\n",
    "import torch.nn as nn\n",
    "import torch.optim as optim\n",
    "from torch import distributions\n",
    "from torch.nn.parameter import Parameter\n",
    "print(sys.version)\n",
    "dtype = tr.float64\n",
    "tr.set_default_dtype(dtype)"
   ]
  },
  {
   "cell_type": "code",
   "execution_count": 2,
   "id": "51e6a4b4-87df-4817-82e6-1549436d8658",
   "metadata": {},
   "outputs": [],
   "source": [
    "#O(3) generators\n",
    "L  = tr.tensor([[[  0,  0,  0],\n",
    "                 [  0,  0, -1],\n",
    "                 [  0,  1,  0]],\n",
    "                [[  0,  0,  1],\n",
    "                 [  0,  0,  0],\n",
    "                 [ -1,  0,  0]],\n",
    "                [[  0, -1,  0],\n",
    "                 [  1,  0,  0],\n",
    "                 [ 0,  0,  0]]],dtype=dtype)\n",
    "\n",
    "levi_civita = tr.zeros(3, 3, 3)\n",
    "levi_civita[0, 1, 2] = levi_civita[1, 2, 0] = levi_civita[2, 0, 1] = 1\n",
    "levi_civita[0, 2, 1] = levi_civita[2, 1, 0] = levi_civita[1, 0, 2] = -1\n",
    "\n",
    "def mult(x,y):\n",
    "    return x@y\n",
    "\n",
    "#adjoint action\n",
    "def ad(x,y):\n",
    "    return x@y- y@x\n",
    "\n",
    "def c(n):\n",
    "        return 1.0/tr.math.factorial(n)\n",
    "\n",
    "def expo(x,Ntaylor = 10):\n",
    "    #horner scheme\n",
    "    one = tr.eye(x.shape[0])\n",
    "    #print(one)\n",
    "    r = 1.0/tr.math.factorial(Ntaylor)*one\n",
    "    for k in range(Ntaylor-1,0,-1):\n",
    "        #print(k,r)\n",
    "        r = r@x + 1.0/tr.math.factorial(k)*one\n",
    "    #print(k,r)\n",
    "    r = r@x + one\n",
    "    #print(k,r)\n",
    "    return r\n",
    "\n",
    "def dexpo(x,y,Ntaylor = 10):\n",
    "    #horner scheme\n",
    "    r = (-1)**(Ntaylor%2)/tr.math.factorial(Ntaylor+1)*y\n",
    "    for k in range(Ntaylor-1,0,-1):\n",
    "        #print(k,r)\n",
    "        r = ad(x,r) + (-1)**(k%2)/tr.math.factorial(k+1)*y\n",
    "    #print(k,r)\n",
    "    r = ad(x,r) + y\n",
    "    #print(k,r)\n",
    "    return r\n",
    "    \n",
    "def LieProject(x):\n",
    "    x = 0.5*(x - x.T)\n",
    "    return  x - 0.5*tr.eye(x.shape[0])*tr.trace(x)\n",
    "\n",
    "def expo_so3(X):\n",
    "    R = tr.eye(3)\n",
    "    nX = X.norm()/np.sqrt(2)\n",
    "    if (nX<tr.finfo(X.dtype).eps):\n",
    "        return R\n",
    "    return R + tr.sin(nX)/nX*X + (1-tr.cos(nX))/(nX*nX)*(X@X)\n",
    "\n",
    "def dexpo_so3(X,Y):\n",
    "    nX = X.norm()/np.sqrt(2)\n",
    "    if (nX<tr.finfo(X.dtype).eps):\n",
    "        return Y\n",
    "    adj = ad(X,Y)\n",
    "    nX2= nX**2\n",
    "    return Y - (1-tr.cos(nX))/(nX2)*adj + (1 - tr.sin(nX)/nX)/(nX2) * ad(X,adj)\n",
    "\n",
    "\n",
    "# rotation of v to u\n",
    "def rotation(v,u):\n",
    "    A = tr.einsum('s,r->sr',u,v) - tr.einsum('s,r->sr',v,u) \n",
    "    dd = tr.dot(u,v)\n",
    "    return tr.eye(3) + A  + (A@A)/(1+dd)\n",
    "    #return tr.eye(3) + A  + (A@A)*(1.0-dd)/(1-dd**2)"
   ]
  },
  {
   "cell_type": "code",
   "execution_count": 3,
   "id": "ac2f63ab-7163-40d2-9308-74ed1aec73c5",
   "metadata": {},
   "outputs": [],
   "source": [
    "class PolyLayer(nn.Module):\n",
    "    def __init__(self,cc):\n",
    "        super(PolyLayer, self).__init__()\n",
    "        self.cc =tr.nn.Parameter(tr.tensor(cc),requires_grad=True)\n",
    "    def forward(self,x):\n",
    "        val = tr.zeros_like(x)\n",
    "        for k in range(self.cc.shape[0]-1):\n",
    "            val = (val + self.cc[k])*x\n",
    "        val+=self.cc[-1]\n",
    "        return val\n",
    "    def deriv(self,x):\n",
    "        val = tr.zeros_like(x) \n",
    "        if(self.cc.shape[0]==1):\n",
    "            return tr.zeros_like(x)\n",
    "        N = self.cc.shape[0]-1.0\n",
    "        for k in range(self.cc.shape[0]-2):\n",
    "            val = (val + (N-k)*self.cc[k])*x\n",
    "        val+=self.cc[-2]\n",
    "        return val"
   ]
  },
  {
   "cell_type": "code",
   "execution_count": 4,
   "id": "e08611f0-b65b-4e37-b94e-8da6a82a753a",
   "metadata": {},
   "outputs": [
    {
     "data": {
      "text/plain": [
       "[<matplotlib.lines.Line2D at 0x124643fb0>,\n",
       " <matplotlib.lines.Line2D at 0x1248d22d0>]"
      ]
     },
     "execution_count": 4,
     "metadata": {},
     "output_type": "execute_result"
    },
    {
     "data": {
      "image/png": "[encoded data removed]",
      "text/plain": [
       "<Figure size 640x480 with 1 Axes>"
      ]
     },
     "metadata": {},
     "output_type": "display_data"
    }
   ],
   "source": [
    "P = PolyLayer([1.0,-1.0,2.0,2.0])\n",
    "xx = tr.linspace(-2,2,100)\n",
    "#print(P(xx))\n",
    "plt.plot(xx, P(xx).detach().numpy(),xx,P.deriv(xx).detach().numpy())"
   ]
  },
  {
   "cell_type": "code",
   "execution_count": 5,
   "id": "6ded3d42-d118-47ca-b621-621ade32a8b0",
   "metadata": {},
   "outputs": [],
   "source": [
    "x = tr.randn(3,3)\n",
    "x = LieProject(x)\n",
    "y = tr.randn(3,3)\n",
    "y = LieProject(y)"
   ]
  },
  {
   "cell_type": "code",
   "execution_count": 6,
   "id": "2ebc162b-2e04-4bdb-b3e0-a3e73710dc83",
   "metadata": {},
   "outputs": [],
   "source": [
    "U = expo(x)"
   ]
  },
  {
   "cell_type": "code",
   "execution_count": 7,
   "id": "4843a49f-6bfb-4815-b693-0a03703b51a1",
   "metadata": {},
   "outputs": [],
   "source": [
    "dU =dexpo(x,y)"
   ]
  },
  {
   "cell_type": "code",
   "execution_count": 8,
   "id": "62c1ed11-a2d7-4729-9586-03dc24c60886",
   "metadata": {},
   "outputs": [
    {
     "data": {
      "text/plain": [
       "tensor([[ 1.0000e+00, -2.4373e-08,  1.2283e-08],\n",
       "        [-2.4373e-08,  1.0000e+00,  6.4765e-09],\n",
       "        [ 1.2283e-08,  6.4765e-09,  1.0000e+00]])"
      ]
     },
     "execution_count": 8,
     "metadata": {},
     "output_type": "execute_result"
    }
   ],
   "source": [
    "U.T@U "
   ]
  },
  {
   "cell_type": "code",
   "execution_count": 9,
   "id": "201e8ce9-ad60-4c7d-ab3b-d0040e4b527e",
   "metadata": {},
   "outputs": [
    {
     "data": {
      "text/plain": [
       "tensor([[ 0.8725,  0.3902,  0.2942],\n",
       "        [-0.0044,  0.6084, -0.7937],\n",
       "        [-0.4886,  0.6911,  0.5325]])"
      ]
     },
     "execution_count": 9,
     "metadata": {},
     "output_type": "execute_result"
    }
   ],
   "source": [
    "U"
   ]
  },
  {
   "cell_type": "code",
   "execution_count": 10,
   "id": "5d95a963-e90e-4f9d-99ac-ec9d474d0d46",
   "metadata": {},
   "outputs": [
    {
     "data": {
      "text/plain": [
       "tensor([[ 0.0000,  0.4815, -1.6832],\n",
       "        [-0.4815,  0.0000, -1.0058],\n",
       "        [ 1.6832,  1.0058,  0.0000]])"
      ]
     },
     "execution_count": 10,
     "metadata": {},
     "output_type": "execute_result"
    }
   ],
   "source": [
    "dU"
   ]
  },
  {
   "cell_type": "code",
   "execution_count": 11,
   "id": "b4dab778-3167-44c4-b896-d2c08f9d1669",
   "metadata": {},
   "outputs": [
    {
     "data": {
      "text/plain": [
       "tensor(5.4077e-08)"
      ]
     },
     "execution_count": 11,
     "metadata": {},
     "output_type": "execute_result"
    }
   ],
   "source": [
    "(expo(x,Ntaylor=10) - expo(x,Ntaylor=20)).norm()"
   ]
  },
  {
   "cell_type": "code",
   "execution_count": 12,
   "id": "1751f9f4-960f-4c95-9fa7-6bec6a2bdf35",
   "metadata": {},
   "outputs": [
    {
     "data": {
      "text/plain": [
       "tensor([[ 5.0767e-12, -7.3668e-12,  4.4880e-12],\n",
       "        [-7.9900e-12,  1.5591e-11,  8.6764e-13],\n",
       "        [ 3.2515e-12,  3.2129e-12,  1.8611e-11]])"
      ]
     },
     "execution_count": 12,
     "metadata": {},
     "output_type": "execute_result"
    }
   ],
   "source": [
    "expo(x,Ntaylor=13)-expo_so3(x)"
   ]
  },
  {
   "cell_type": "code",
   "execution_count": 13,
   "id": "43fa1785-bc2a-4fff-b730-908855de7174",
   "metadata": {},
   "outputs": [
    {
     "data": {
      "text/plain": [
       "tensor(9.4732e-09)"
      ]
     },
     "execution_count": 13,
     "metadata": {},
     "output_type": "execute_result"
    }
   ],
   "source": [
    "(dexpo(x,y,Ntaylor=10) - dexpo(x,y,Ntaylor=20)).norm()"
   ]
  },
  {
   "cell_type": "code",
   "execution_count": 14,
   "id": "d22e20eb-33e5-422e-9ede-522bb8be2cae",
   "metadata": {},
   "outputs": [
    {
     "data": {
      "text/plain": [
       "tensor([[ 0.0000e+00, -1.1102e-16,  2.2204e-16],\n",
       "        [ 1.1102e-16,  0.0000e+00,  2.2204e-16],\n",
       "        [-2.2204e-16, -2.2204e-16,  0.0000e+00]])"
      ]
     },
     "execution_count": 14,
     "metadata": {},
     "output_type": "execute_result"
    }
   ],
   "source": [
    "dexpo_so3(x,y)-dexpo(x,y,Ntaylor=19)"
   ]
  },
  {
   "cell_type": "code",
   "execution_count": 15,
   "id": "7a8e094f-d74d-40f8-91c7-66964ee91405",
   "metadata": {},
   "outputs": [
    {
     "data": {
      "text/plain": [
       "tensor([[ 0.0000, -1.6918, -1.2271],\n",
       "        [ 1.6918,  0.0000, -1.0965],\n",
       "        [ 1.2271,  1.0965,  0.0000]])"
      ]
     },
     "execution_count": 15,
     "metadata": {},
     "output_type": "execute_result"
    }
   ],
   "source": [
    "ad(x,ad(x,ad(x,y)))"
   ]
  },
  {
   "cell_type": "code",
   "execution_count": 16,
   "id": "350891ec-762c-47be-b08f-66dada084ec9",
   "metadata": {},
   "outputs": [
    {
     "data": {
      "text/plain": [
       "1"
      ]
     },
     "execution_count": 16,
     "metadata": {},
     "output_type": "execute_result"
    }
   ],
   "source": [
    "(-1)**(10%2)"
   ]
  },
  {
   "cell_type": "code",
   "execution_count": 17,
   "id": "90de8ec0-c49b-4b45-9330-2b15806d266f",
   "metadata": {},
   "outputs": [],
   "source": [
    "tt_dU = tr.eye(3) \n",
    "tt_dU += -1/tr.math.factorial(2) * ad(x,y) \n",
    "tt_dU += +1/tr.math.factorial(3) * ad(x,ad(x,y) )"
   ]
  },
  {
   "cell_type": "code",
   "execution_count": 18,
   "id": "49f47424-2acb-422c-99d3-02e6e4b6f411",
   "metadata": {},
   "outputs": [],
   "source": [
    "tt_U = tr.eye(3) \n",
    "tt_U += 1/tr.math.factorial(1) * x\n",
    "tt_U += 1/tr.math.factorial(2) * x@x\n",
    "tt_U += 1/tr.math.factorial(3) * x@x@x\n"
   ]
  },
  {
   "cell_type": "code",
   "execution_count": 19,
   "id": "ce7d4d47-e552-4ac5-a8ff-694fb441ebdb",
   "metadata": {},
   "outputs": [
    {
     "data": {
      "text/plain": [
       "tensor([[0.0000e+00, 0.0000e+00, 0.0000e+00],\n",
       "        [1.0408e-17, 0.0000e+00, 0.0000e+00],\n",
       "        [5.5511e-17, 0.0000e+00, 0.0000e+00]])"
      ]
     },
     "execution_count": 19,
     "metadata": {},
     "output_type": "execute_result"
    }
   ],
   "source": [
    "tt_U - expo(x,Ntaylor=3)"
   ]
  },
  {
   "cell_type": "code",
   "execution_count": 20,
   "id": "cf01417e-bab3-442d-910b-7246476a93ac",
   "metadata": {},
   "outputs": [
    {
     "data": {
      "text/plain": [
       "tensor([[ 1.0000, -1.4325,  1.4241],\n",
       "        [ 1.4325,  1.0000,  0.6165],\n",
       "        [-1.4241, -0.6165,  1.0000]])"
      ]
     },
     "execution_count": 20,
     "metadata": {},
     "output_type": "execute_result"
    }
   ],
   "source": [
    "tt_dU - dexpo(x,y,Ntaylor=2)"
   ]
  },
  {
   "cell_type": "code",
   "execution_count": 21,
   "id": "3b0f4465-efce-4259-9a04-0ed93856e5d1",
   "metadata": {},
   "outputs": [],
   "source": [
    "h=tr.randn(3)\n",
    "s = tr.randn(3)\n",
    "s = s/tr.norm(s)"
   ]
  },
  {
   "cell_type": "code",
   "execution_count": 22,
   "id": "d09a1784-4ebd-41cf-bb76-74f876b100f4",
   "metadata": {},
   "outputs": [
    {
     "data": {
      "text/plain": [
       "tensor(0.3773)"
      ]
     },
     "execution_count": 22,
     "metadata": {},
     "output_type": "execute_result"
    }
   ],
   "source": [
    "h@s/tr.norm(h)"
   ]
  },
  {
   "cell_type": "markdown",
   "id": "c205f0b3-e323-4819-80cc-3f0c8909e205",
   "metadata": {},
   "source": [
    "I am going to consider the partition function of a single spin $s$ in the external field $h$.\n",
    "$$\n",
    "Z[h] = \\int ds e^{h\\cdot s}\n",
    "$$\n",
    "where $s$ is a unit vector in $R^3$ and the measure $ds = \\sin(\\theta) d\\theta d \\phi$ with $\\theta \\in [0,\\pi) $ and $\\phi \\in [0,2\\pi)$.\n",
    "\n",
    "This integral can be rewriten as\n",
    "$$\n",
    "Z[h] = 2\\pi\\int_{-1}^{1} dx e^{|h|x} = \\int_{e^{-h}/h}^{e^h/h} d y = 4\\pi \\frac{\\sinh(|h|)}{|h|}\n",
    "$$\n",
    "The map that trivializes the integral is\n",
    "$$\n",
    "y = \\frac{e^{|h| x}}{|h|} = \\frac{e^{|h| \\cos(\\theta)} }{|h|} \n",
    "$$\n",
    "\n",
    "The expectation value of a spin is\n",
    "$$\n",
    "\\langle s \\rangle = \\frac{1}{Z[h]} \\int ds\\; s\\; e^{h\\cdot s} = \\left[\\coth(|h|) - \\frac{1}{|h|}\\right] \\hat h\n",
    "$$\n",
    "which we can sample via Monte Carlo by uniform sampling of the variable $y$. In the above $\\hat h$ is the unit vector in the direction of $h$."
   ]
  },
  {
   "cell_type": "code",
   "execution_count": 23,
   "id": "c7de8f80-568b-4b8b-9ea5-7765eccb9212",
   "metadata": {},
   "outputs": [],
   "source": [
    "nh = tr.norm(h)\n",
    "eh = tr.exp(-nh)"
   ]
  },
  {
   "cell_type": "code",
   "execution_count": 24,
   "id": "df0f2e7f-ea8b-4f05-ba02-8d55e8a97807",
   "metadata": {},
   "outputs": [
    {
     "name": "stdout",
     "output_type": "stream",
     "text": [
      "      <x> =  0.43225777193623705 +/- 4.7601794772364844e-05\n",
      "exact <x> =  0.43226368952125727\n"
     ]
    }
   ],
   "source": [
    "y = 2*tr.sinh(nh)/nh*tr.rand(100000000) + tr.exp(-nh)/nh\n",
    "x = tr.log(y * nh )/nh\n",
    "mx = x.mean().numpy()\n",
    "ex = (x.std()/np.sqrt(y.shape[0])).numpy()\n",
    "exact_x = (1/tr.tanh(nh)- 1/nh).numpy()\n",
    "print(\"      <x> = \",mx,\"+/-\",ex)\n",
    "print(\"exact <x> = \",exact_x)\n"
   ]
  },
  {
   "cell_type": "markdown",
   "id": "aef22935-eff3-4ac0-9445-2fcb95cf03e9",
   "metadata": {},
   "source": [
    "The above result confirms the analytic formula.\n",
    "I will now try to find the map that trivializes the integral in a coordinate-independent manner. By following Luscher's trivializing map methodology it is easy to see that the flow action will be polynomial in $h\\cdot h$ and $ h\\cdot s$.\n",
    "A continuous flow with generated by such flow action will result in a trivialization of the integral at hand. Therefore we will attempt to discover a discrete flow with \n",
    "rotation steps given by\n",
    "$$\n",
    "R = e^{\\epsilon (hs^T - sh^T) f_p(h\\cdot s, h\\cdot h)}\n",
    "$$\n",
    "with $f_p$ a polynomium that depends on parameters $p$. I will now try to compute the jacobian of such transformation.\n",
    "\n",
    "Let's consider that the spin $s$ is related by a rotation $R_0$ to some reference spin $v$. \n",
    "$$\n",
    " s = R_0 v = \\left({\\bf 1} + X_0 + X_0^2 \\frac{1}{1+v^T s}\\right)v\n",
    "$$\n",
    "where $X_0 = sv^T - vs^T$.\n",
    "\n",
    "The Jacobian by such a transformation is given by\n",
    "$$\n",
    "J^{ab} = - \\frac{1}{2}{\\rm Tr}\\left( \\partial^b (R R_0) (R R_0)^T L^a \\right)\n",
    "$$\n",
    "\n",
    "which results in\n",
    "$$\n",
    "J^{ab} = - \\frac{1}{2}{\\rm Tr}\\left( \\partial^b R R^T L^a \\right) - \\frac{1}{2}{\\rm Tr}\\left( R \\partial^b R_0 R_0^T R^T L^a \\right) \n",
    "$$\n",
    "However, we have\n",
    "$$\n",
    "\\partial^b R_0 = L^b R_0\n",
    "$$\n",
    "Remeber that in our formulation the primary variables are rotations not spins. Given thsi property of the rotation we have that\n",
    "$$\n",
    "\\partial^b  s = \\partial^b R_0 v = L^b R_0 v = L^b s\n",
    "$$\n",
    "\n",
    "Then the Jacobian matrix becomes\n",
    "$$\n",
    "J^{ab} = - \\frac{1}{2}{\\rm Tr}\\left( \\partial^b R R^T L^a \\right) - \\frac{1}{2}{\\rm Tr}\\left( R L^b R^T L^a \\right) \n",
    "$$"
   ]
  },
  {
   "cell_type": "code",
   "execution_count": null,
   "id": "9827bbb3-4270-4605-8496-446a60057409",
   "metadata": {},
   "outputs": [],
   "source": []
  },
  {
   "cell_type": "code",
   "execution_count": null,
   "id": "a81af7f3-720d-4368-bbe2-0c4c8d994749",
   "metadata": {},
   "outputs": [],
   "source": []
  },
  {
   "cell_type": "code",
   "execution_count": 25,
   "id": "2b019e3a-7290-42e6-9785-8506521b42d4",
   "metadata": {},
   "outputs": [],
   "source": [
    "P = PolyLayer([1.0,-1.0,2.0,2.0])\n",
    "eps = 0.1\n",
    "h = tr.randn(3)\n",
    "s = tr.randn(3)\n",
    "s = s/s.norm()\n",
    "X = tr.einsum('a,b->ab',h,s)\n",
    "X = LieProject(X)\n",
    "X = eps*X*P(h@s)\n",
    "dX = -tr.einsum('s,r,rka->ska',h,s,L)\n",
    "dX = dX-dX.transpose(0,1)\n",
    "dX = eps*dX*P(h@s) + tr.einsum('sr,k,kla,l->sra',X,h,L,s)*P.deriv(h@s)\n"
   ]
  },
  {
   "cell_type": "code",
   "execution_count": 26,
   "id": "9d84dc95-cad4-4bd9-bd66-4f0fcb94b654",
   "metadata": {},
   "outputs": [],
   "source": [
    "s0 = tr.tensor([1.,0.,0.])\n",
    "R0 = rotation(s0,s)\n",
    "R = expo(X)"
   ]
  },
  {
   "cell_type": "code",
   "execution_count": 27,
   "id": "03fe8597-0bce-46f6-b2fb-dea321c12759",
   "metadata": {},
   "outputs": [],
   "source": [
    "dexpo_dX = tr.zeros_like(L)\n",
    "for a in range(3):\n",
    "    dexpo_dX[:,:,a] = dexpo(X,dX[:,:,a])"
   ]
  },
  {
   "cell_type": "code",
   "execution_count": 28,
   "id": "d8cd8c1c-851c-44ba-a5a2-f1aa432505db",
   "metadata": {},
   "outputs": [
    {
     "data": {
      "text/plain": [
       "tensor([[-0.0802, -0.7141, -1.4437],\n",
       "        [-0.7720, -0.1435, -1.2375],\n",
       "        [-0.2968, -1.0751, -0.3377]], grad_fn=<SubBackward0>)"
      ]
     },
     "execution_count": 28,
     "metadata": {},
     "output_type": "execute_result"
    }
   ],
   "source": [
    "J =-0.5*tr.einsum('sk,kla,ml,msb->ab',R0,L,R0,L) -0.5*tr.einsum('sk,kma,nm,nsb->ab',R,dexpo_dX,R,L)\n",
    "J"
   ]
  },
  {
   "cell_type": "code",
   "execution_count": 29,
   "id": "8da283bd-3d8b-475f-808c-dab37860979c",
   "metadata": {},
   "outputs": [
    {
     "data": {
      "text/plain": [
       "tensor(-1.1101, grad_fn=<LinalgDetBackward0>)"
      ]
     },
     "execution_count": 29,
     "metadata": {},
     "output_type": "execute_result"
    }
   ],
   "source": [
    "tr.det(J)"
   ]
  },
  {
   "cell_type": "code",
   "execution_count": 30,
   "id": "3211ab08-7688-4ddf-80ca-ee17c8fd3f62",
   "metadata": {},
   "outputs": [
    {
     "data": {
      "text/plain": [
       "(tensor(-0.8803), tensor(2.8945))"
      ]
     },
     "execution_count": 30,
     "metadata": {},
     "output_type": "execute_result"
    }
   ],
   "source": [
    "h@s,h.norm()"
   ]
  },
  {
   "cell_type": "code",
   "execution_count": 31,
   "id": "f4680672-849b-40e7-8544-fc10bf3a68ba",
   "metadata": {},
   "outputs": [],
   "source": [
    "dexpo_L = tr.zeros_like(L)\n",
    "for a in range(3):\n",
    "    dexpo_L[:,:,a] = dexpo(X,L[:,:,a])"
   ]
  },
  {
   "cell_type": "code",
   "execution_count": 32,
   "id": "255cd794-3c94-4642-815b-68d240e2f660",
   "metadata": {},
   "outputs": [],
   "source": [
    "ttJ =-0.5*tr.einsum('sk,kla,ml,msb->ab',R0,L,R0,L) -0.5*tr.einsum('sra,rsb->ab',dX,dexpo_L)"
   ]
  },
  {
   "cell_type": "code",
   "execution_count": 33,
   "id": "01c77ab8-064e-4a41-9405-8d3733052448",
   "metadata": {},
   "outputs": [
    {
     "data": {
      "text/plain": [
       "(tensor(-1.1101, grad_fn=<LinalgDetBackward0>),\n",
       " tensor(-1.1101, grad_fn=<LinalgDetBackward0>))"
      ]
     },
     "execution_count": 33,
     "metadata": {},
     "output_type": "execute_result"
    }
   ],
   "source": [
    "tr.det(ttJ),tr.det(J)\n",
    "# this confirms the two equivalent ways to compute the jacobian"
   ]
  },
  {
   "cell_type": "code",
   "execution_count": 34,
   "id": "a4f6dd99-3e4d-45af-9f08-eabb9313f391",
   "metadata": {},
   "outputs": [],
   "source": [
    "def dexpo_func(a,X,Y):\n",
    "    E =expo(a*X)\n",
    "    return tr.einsum('ks,kl,lr->sr',E,Y,E)"
   ]
  },
  {
   "cell_type": "code",
   "execution_count": 35,
   "id": "ab7e9b3f-f606-42ac-a460-34242901d9c0",
   "metadata": {},
   "outputs": [],
   "source": [
    "Y = tr.randn(3,3)\n",
    "Y = LieProject(Y)"
   ]
  },
  {
   "cell_type": "code",
   "execution_count": 36,
   "id": "caebbcfc-eda9-4ed2-beb5-c5730948dc1b",
   "metadata": {},
   "outputs": [],
   "source": [
    "\n",
    "a_points = np.linspace(0,1,1000)\n",
    "S = 0.0\n",
    "for a in list(a_points):\n",
    "    S += dexpo_func(a,X,Y)\n",
    "\n",
    "S -= 0.5*dexpo_func(0.,X,Y) + 0.5*dexpo_func(1.,X,Y)\n",
    "S *= a_points[1] - a_points[0]"
   ]
  },
  {
   "cell_type": "code",
   "execution_count": 37,
   "id": "d213392b-6519-42e4-ae33-e3108964850a",
   "metadata": {},
   "outputs": [
    {
     "data": {
      "text/plain": [
       "tensor([[ 5.2867e-20,  9.2179e-01,  1.7561e-01],\n",
       "        [-9.2179e-01,  3.5988e-19, -1.3949e+00],\n",
       "        [-1.7561e-01,  1.3949e+00,  2.7791e-19]], grad_fn=<MulBackward0>)"
      ]
     },
     "execution_count": 37,
     "metadata": {},
     "output_type": "execute_result"
    }
   ],
   "source": [
    "S"
   ]
  },
  {
   "cell_type": "code",
   "execution_count": 38,
   "id": "89ea63ff-be46-4043-b197-a0be01feb378",
   "metadata": {},
   "outputs": [
    {
     "data": {
      "text/plain": [
       "tensor([[-5.2867e-20,  2.4520e-09,  1.3347e-10],\n",
       "        [-2.4520e-09, -3.5988e-19, -3.0687e-09],\n",
       "        [-1.3347e-10,  3.0687e-09, -2.7791e-19]], grad_fn=<SubBackward0>)"
      ]
     },
     "execution_count": 38,
     "metadata": {},
     "output_type": "execute_result"
    }
   ],
   "source": [
    "dexpo(X,Y)-S"
   ]
  },
  {
   "cell_type": "code",
   "execution_count": 39,
   "id": "c642bfb5-8823-460b-82ff-9a9d0ef8dd9e",
   "metadata": {},
   "outputs": [
    {
     "data": {
      "text/plain": [
       "tensor([[ 0.0000e+00,  2.2204e-16,  1.1102e-16],\n",
       "        [-2.2204e-16,  0.0000e+00,  0.0000e+00],\n",
       "        [-1.1102e-16,  0.0000e+00,  0.0000e+00]], grad_fn=<SubBackward0>)"
      ]
     },
     "execution_count": 39,
     "metadata": {},
     "output_type": "execute_result"
    }
   ],
   "source": [
    "dexpo(X,Y,Ntaylor=20)-dexpo_so3(X,Y)"
   ]
  },
  {
   "cell_type": "code",
   "execution_count": 40,
   "id": "70ce3ddd-e9ae-49f7-9f7b-c358a90e55d7",
   "metadata": {},
   "outputs": [],
   "source": [
    "eps = 0.0001\n",
    "dexpo_Y = (expo(X+eps*Y) - expo(X))/eps"
   ]
  },
  {
   "cell_type": "code",
   "execution_count": 41,
   "id": "433f679a-b0ed-4b01-becf-d840c815f48c",
   "metadata": {},
   "outputs": [
    {
     "data": {
      "text/plain": [
       "tensor([[ 5.2233e-05, -2.2753e-05,  7.0890e-05],\n",
       "        [-1.4973e-05,  1.3704e-04,  8.9547e-06],\n",
       "        [ 6.0485e-05,  1.9310e-05,  9.2652e-05]], grad_fn=<SubBackward0>)"
      ]
     },
     "execution_count": 41,
     "metadata": {},
     "output_type": "execute_result"
    }
   ],
   "source": [
    "expo(X)@dexpo(X,Y)-dexpo_Y\n",
    "#yep my dexpo works!"
   ]
  },
  {
   "cell_type": "code",
   "execution_count": 42,
   "id": "f892a6a0-0887-4a7f-92ec-e68a68860751",
   "metadata": {},
   "outputs": [
    {
     "data": {
      "text/plain": [
       "tensor([[ 0.0000,  0.1161,  0.2186],\n",
       "        [-0.1161,  0.0000,  0.1324],\n",
       "        [-0.2186, -0.1324,  0.0000]], grad_fn=<SubBackward0>)"
      ]
     },
     "execution_count": 42,
     "metadata": {},
     "output_type": "execute_result"
    }
   ],
   "source": [
    "ad(X,Y)"
   ]
  },
  {
   "cell_type": "code",
   "execution_count": 43,
   "id": "6cdca2d7-1ca9-455f-907e-fb0ad679d884",
   "metadata": {},
   "outputs": [
    {
     "data": {
      "text/plain": [
       "tensor([[ 0.0000e+00,  0.0000e+00, -8.6736e-19],\n",
       "        [ 0.0000e+00,  0.0000e+00, -8.6736e-19],\n",
       "        [ 8.6736e-19,  8.6736e-19,  0.0000e+00]], grad_fn=<AddBackward0>)"
      ]
     },
     "execution_count": 43,
     "metadata": {},
     "output_type": "execute_result"
    }
   ],
   "source": [
    "ad(X,ad(X,ad(X,Y))) + ad(X,Y)*X.norm()**2/2"
   ]
  },
  {
   "cell_type": "markdown",
   "id": "c6d96db5-a6d5-4eaa-8678-20a492eed99c",
   "metadata": {},
   "source": [
    "This establishes that for $\\mathfrak{so}(3)$\n",
    "$$\n",
    "ad_X^3(Y) = [X,[X,[X,Y]]] = -|X|_2^2 [X,Y]\n",
    "$$\n",
    "and\n",
    "$$\n",
    "ad_X^4(Y)  = -|X|_2^2 ad_X^2(Y), ad_X^5(Y)  = |X|_2^4 ad_X(Y)\n",
    "$$\n",
    "\n",
    "In general\n",
    "$$\n",
    "ad_X^{2k}(Y) = (-1)^{k-1} |X|_2^{2(k-1)} ad_X^2(Y)\n",
    "$$\n",
    "and\n",
    "$$\n",
    "ad_X^{2k+1}(Y) = (-1)^{k} |X|_2^{2k} ad_X(Y)\n",
    "$$\n",
    "\n",
    "I can use this to derive the closed for formula for\n",
    "$$\n",
    "\\frac{1 - e^{-ad_X}}{ad_X} = {\\bf 1} - \\frac{1 - \\cos(|X|)}{|X|^2} X + \\frac{1 - \\frac{\\sin(|X|)}{|X|}}{|X|^2} X^2\n",
    "$$\n",
    "\n",
    "In addition the exact exponentiation is\n",
    "$$\n",
    "e^X = {\\bf 1} + \\frac{\\sin(|X|)}{|X|} X + \\frac{1-\\cos(|X|)}{|X|^2} X^2 = {\\bf 1} + \\frac{\\sin(|X|)}{|X|} X + \\frac{2\\sin^2(\\frac{|X|}{2})}{|X|^2} X^2 \n",
    "$$\n",
    "\n",
    "In the above $|X|$ is the the $l-2$ norm of $X$ which is $ |X|_{fro}/\\sqrt{2}$  where $ |X|_{fro}$ is the Frobenius norm of $X$. It turns out that for $X \\in \\mathfrak{so}(3)$ $|X|_{fro} = |X|_2$.\n",
    "Note that there is no singularity at $|X|=0$ however, numerical implementation needs to handle this point.\n",
    "I set $e^X = {\\bf 1}$ if  $|X|<\\epsilon$ with $\\epsilon$ being the machine precision. Also not that torch returns the Frobenius norm of a matrix.\n",
    "\n",
    "Note that $|X|^2 = \\sum_a X_a^2$ with $X_a = -\\frac{1}{2}\\, Tr( X L^a)$ \n",
    "\n",
    "See https://ethaneade.com/exp_diff.pdf for details\n",
    "\n",
    "Also a comprehensive paper is: \n",
    "https://www.researchgate.net/publication/376116615_Highly_accurate_differentiation_of_the_exponential_map_and_its_tangent_operator\n",
    "\n",
    "These papers have interesting formulas although I do not understand thier notation."
   ]
  },
  {
   "cell_type": "code",
   "execution_count": 44,
   "id": "6a802426-e4a0-45fb-b988-4e936f5f2142",
   "metadata": {},
   "outputs": [],
   "source": [
    "xx = -0.5*tr.einsum('sk,ksa->a',X,L)"
   ]
  },
  {
   "cell_type": "code",
   "execution_count": 45,
   "id": "94a4d622-10e6-475e-ba5a-b4f3609475e7",
   "metadata": {},
   "outputs": [
    {
     "data": {
      "text/plain": [
       "tensor([0.0795, 0.1040, 0.1051], grad_fn=<MulBackward0>)"
      ]
     },
     "execution_count": 45,
     "metadata": {},
     "output_type": "execute_result"
    }
   ],
   "source": [
    "xx"
   ]
  },
  {
   "cell_type": "code",
   "execution_count": 46,
   "id": "dddaee8e-ec8a-4e95-bd2e-45fd0eebb9cc",
   "metadata": {},
   "outputs": [
    {
     "data": {
      "text/plain": [
       "tensor([[-0.0000e+00, -4.3368e-19,  0.0000e+00],\n",
       "        [ 4.3368e-19, -0.0000e+00,  4.3368e-19],\n",
       "        [ 0.0000e+00, -4.3368e-19, -0.0000e+00]], grad_fn=<SubBackward0>)"
      ]
     },
     "execution_count": 46,
     "metadata": {},
     "output_type": "execute_result"
    }
   ],
   "source": [
    "-tr.norm(xx)**2*ad(X,Y) - ad(X,ad(X,ad(X,Y)))"
   ]
  },
  {
   "cell_type": "markdown",
   "id": "febe3892-3bdf-4740-9f00-a648645f1811",
   "metadata": {},
   "source": [
    "The notebook checks up to here. \n",
    "\n",
    "\n",
    "Be careful that in python\n",
    "<p>\n",
    "<b>\n",
    "(L[a]@s).T = (L[a]@s) \n",
    "</b>\n",
    "</p>\n",
    "which I thought should be \n",
    "<p>\n",
    "<b>\n",
    "(L[a]@s).T = s.T@L[a].T = -s.T@L[a]\n",
    "</b>\n",
    "</p>\n",
    "due to the anti-symmetry of the generators $L$. The problem is that in python <b>s=s.T</b>.\n",
    "\n",
    "However, by using einsum and proper index manipulations... all mathematical formulas work just fine.\n",
    "\n",
    "The remaining of the problems where just minor bugs."
   ]
  },
  {
   "cell_type": "code",
   "execution_count": 47,
   "id": "74dc48d5-3e10-4b6e-80d5-0afe1935f9eb",
   "metadata": {},
   "outputs": [],
   "source": [
    "def x_rot_map(s,h,dt,f):\n",
    "    X = tr.einsum('s,r->sr',h,s)\n",
    "    X = X-X.transpose(0,1)\n",
    "    return dt*f(h@s)*X\n",
    "def dx_rot_map(s,h,dt,f):\n",
    "    xX = tr.einsum('s,r->sr',h,s) - tr.einsum('s,r->sr',s,h)\n",
    "    dX = -tr.einsum('s,r,rka->ska',h,s,L) - tr.einsum('ska,k,r->sra',L,s,h)\n",
    "    #print(dX)\n",
    "    #print(dX.transpose(0,1))\n",
    "    #dX = dX-dX.transpose(0,1)\n",
    "    #print(dX)\n",
    "    dX=dX*f(h@s) + tr.einsum('sr,k,kla,l->sra',xX,h,L,s)*f.deriv(h@s)\n",
    "    return dt*dX\n",
    "def rot_map(s,h,dt,f):\n",
    "    return expo_so3(x_rot_map(s,h,dt,f))\n"
   ]
  },
  {
   "cell_type": "code",
   "execution_count": 48,
   "id": "24bebe50-db0f-4031-9eca-3f025b0eee09",
   "metadata": {},
   "outputs": [],
   "source": [
    "#P=PolyLayer([3.,2.,1.0]) \n",
    "P=PolyLayer([.3,.2,0.]) \n",
    "Rm= rot_map(s,h,0.25,P)\n",
    "X = x_rot_map(s,h,0.25,P)"
   ]
  },
  {
   "cell_type": "code",
   "execution_count": 49,
   "id": "8f1ca4ea-de73-44c0-bf3a-3a17eef8fdab",
   "metadata": {},
   "outputs": [],
   "source": [
    "eps=1.0e-5\n",
    "d_rot_map_1 = tr.zeros_like(L)\n",
    "d_rot_map_2 = tr.zeros_like(L)\n",
    "dX_num_1 = tr.zeros_like(L)\n",
    "dX_num_2 = tr.zeros_like(L)\n",
    "Rm_p = tr.zeros_like(L)\n",
    "Rm_m = tr.zeros_like(L)\n",
    "for a in range(3):\n",
    "    sp = expo(eps*L[:,:,a])@s\n",
    "    sm = expo(-eps*L[:,:,a])@s\n",
    "    d_rot_map_2[:,:,a]= 0.5* (rot_map(sp,h,0.25,P) - rot_map(sm,h,0.25,P))/eps\n",
    "    d_rot_map_1[:,:,a]=      (rot_map(sp,h,0.25,P) - rot_map(s,h,0.25,P))/eps\n",
    "    dX_num_1[:,:,a] = (x_rot_map(sp,h,0.25,P) - x_rot_map(s,h,0.25,P))/eps\n",
    "    dX_num_2[:,:,a] =0.5* (x_rot_map(sp,h,0.25,P) - x_rot_map(sm,h,0.25,P))/eps\n",
    "    Rm_p[:,:,a] = rot_map(sp,h,0.25,P) \n",
    "    Rm_m[:,:,a] = rot_map(sm,h,0.25,P) \n",
    "                   \n",
    "dX = dx_rot_map(s,h,0.25,P)    "
   ]
  },
  {
   "cell_type": "code",
   "execution_count": 50,
   "id": "58eeb154-1d4a-481b-9a32-7c694d430f4c",
   "metadata": {},
   "outputs": [
    {
     "data": {
      "text/plain": [
       "tensor([[[-4.1654e-07, -5.9508e-07, -7.8231e-07],\n",
       "         [ 1.8400e-06,  1.4113e-06,  4.4836e-06],\n",
       "         [-9.0058e-07, -2.0988e-06, -3.3017e-06]],\n",
       "\n",
       "        [[-1.6213e-06, -7.7768e-07, -3.9831e-06],\n",
       "         [-2.8538e-07, -5.6826e-07, -5.7769e-07],\n",
       "         [-5.1947e-07,  4.9963e-06,  1.7556e-06]],\n",
       "\n",
       "        [[ 1.1450e-06,  2.6874e-06,  3.8304e-06],\n",
       "         [ 9.3525e-07, -4.4015e-06, -9.7394e-07],\n",
       "         [-2.4770e-07, -6.2381e-07, -5.3796e-07]]], grad_fn=<SubBackward0>)"
      ]
     },
     "execution_count": 50,
     "metadata": {},
     "output_type": "execute_result"
    }
   ],
   "source": [
    "d_rot_map_1-d_rot_map_2"
   ]
  },
  {
   "cell_type": "code",
   "execution_count": null,
   "id": "25d1ad75-8626-4282-9bae-b340f938ce2d",
   "metadata": {},
   "outputs": [],
   "source": []
  },
  {
   "cell_type": "code",
   "execution_count": 51,
   "id": "429867b7-41fb-43c6-837b-b50eb27cbf2e",
   "metadata": {},
   "outputs": [
    {
     "name": "stdout",
     "output_type": "stream",
     "text": [
      "Numerical check of dX:  tensor(1.4892e-10, grad_fn=<DivBackward0>)\n"
     ]
    }
   ],
   "source": [
    "print(\"Numerical check of dX: \",tr.norm(dX_num_2 - dX)/tr.norm(dX))\n",
    "#dX_num_1[:,:,2],dX_num_2[:,:,2],dX[:,:,2]\n",
    "# test passed"
   ]
  },
  {
   "cell_type": "code",
   "execution_count": 52,
   "id": "7387a25f-61ab-40e5-b772-74f185e9ef90",
   "metadata": {},
   "outputs": [],
   "source": [
    "X  =  x_rot_map(s,h,0.25,P)\n",
    "dX = dx_rot_map(s,h,0.25,P)\n",
    "Rm =    rot_map(s,h,0.25,P)\n",
    "d_rot_map_ex = tr.zeros_like(L)\n",
    "for a in range(3):\n",
    "    d_rot_map_ex[:,:,a] = Rm@dexpo(X,dX[:,:,a])"
   ]
  },
  {
   "cell_type": "code",
   "execution_count": 53,
   "id": "4822e82e-41ac-44c3-a873-081a03f5b284",
   "metadata": {},
   "outputs": [
    {
     "data": {
      "text/plain": [
       "tensor([[ 4.1655e-07, -1.8400e-06,  9.0055e-07],\n",
       "        [ 1.6213e-06,  2.8538e-07,  5.1951e-07],\n",
       "        [-1.1450e-06, -9.3529e-07,  2.4770e-07]], grad_fn=<SubBackward0>)"
      ]
     },
     "execution_count": 53,
     "metadata": {},
     "output_type": "execute_result"
    }
   ],
   "source": [
    "d_rot_map_ex[:,:,0]-d_rot_map_1[:,:,0]"
   ]
  },
  {
   "cell_type": "code",
   "execution_count": 54,
   "id": "384eaf94-6a47-4348-976c-fbe44f544286",
   "metadata": {},
   "outputs": [
    {
     "data": {
      "text/plain": [
       "tensor([[ 5.6568e-12,  2.4859e-11, -3.0295e-11],\n",
       "        [-2.3921e-11,  3.4839e-14,  3.4863e-11],\n",
       "        [ 3.0215e-11, -3.9660e-11,  6.7246e-13]], grad_fn=<SubBackward0>)"
      ]
     },
     "execution_count": 54,
     "metadata": {},
     "output_type": "execute_result"
    }
   ],
   "source": [
    "d_rot_map_ex[:,:,0]-d_rot_map_2[:,:,0]"
   ]
  },
  {
   "cell_type": "code",
   "execution_count": 55,
   "id": "5ae7c2d7-d0a8-4d35-96d4-f8a06daa9cb9",
   "metadata": {},
   "outputs": [
    {
     "name": "stdout",
     "output_type": "stream",
     "text": [
      "Numerical check of dX:  tensor(1.4892e-10, grad_fn=<DivBackward0>)\n"
     ]
    }
   ],
   "source": [
    "print(\"Numerical check of dX: \",tr.norm(dX_num_2 - dX)/tr.norm(dX))"
   ]
  },
  {
   "cell_type": "markdown",
   "id": "7daaf308-7278-4fd3-b7f4-e37db59d5d00",
   "metadata": {},
   "source": [
    "<u><b> New try </b></u>\n",
    "\n",
    "I want to compute the differential of a rotation matrix given by:\n",
    "$$\n",
    " R = e^X\n",
    "$$\n",
    "where \n",
    "$$\n",
    "X = (hs^T - sh^T) f(s\\cdot h,h\\cdot h)\n",
    "$$\n",
    "\n",
    "We know that \n",
    "$$\n",
    "d R = \\int_0^1 dt e^{(1-t) X} dX e^{tX}  = e^X \\int_0^1 dt e^{-t X} dX e^{tX}\n",
    "$$\n",
    "\n",
    "However, we know that\n",
    "\n",
    "$$\n",
    "{\\rm dexp}(X)Y = \\int_0^1 da e^{-a X} Y e^{aX}\n",
    "$$\n",
    "\n",
    "\n",
    "Therefore\n",
    "$$\n",
    "d R =  e^X  {\\rm dexp}(X) dX  = R {\\rm dexp}(X) dX \n",
    "$$\n",
    "\n",
    "I will integrate numerically the formula above to computer $d R$ as a check but also use the $\\rm dexp$ formula with the implementation of $\\rm dexp$ from earlier in the notebook.\n",
    "\n",
    "We can easily check that\n",
    "$$\n",
    "d R = \\int_0^1 dt e^{(1-t) X} dX e^{tX}  = \\int_0^1 dt e^{t X} dX e^{(1-t)X} = \\int_0^1 dt e^{t X} dX e^{-tX} e^X \n",
    "$$\n",
    "or\n",
    "$$\n",
    "d R =  e^X  {\\rm dexp}(X) dX   =   {\\rm dexp}(-X)dX\\,\\,\\,  e^X \n",
    "$$\n"
   ]
  },
  {
   "cell_type": "code",
   "execution_count": 56,
   "id": "b212eef9-e55b-42cb-b54e-2cffc3bca405",
   "metadata": {},
   "outputs": [],
   "source": [
    "def integal_formula_dR(s,h,dt,f,N=100):\n",
    "    X = x_rot_map(s,h,dt,f)\n",
    "    dX = dx_rot_map(s,h,dt,f)\n",
    "    def ff(t):\n",
    "        foo = tr.empty_like(dX)\n",
    "        E1= expo_so3((1.0-t)*X)\n",
    "        E0 = expo_so3(t*X)\n",
    "        for a in range(dX.shape[2]):\n",
    "            foo[:,:,a] =  E1 @ dX[:,:,a] @ E0\n",
    "            #foo[:,:,a] =  E0 @ dX[:,:,a] @ E1\n",
    "        return foo\n",
    "\n",
    "    I = 0.5*(ff(0) + ff(1))\n",
    "    time = np.linspace(0.0,1.0,N+1)\n",
    "    #print(time)\n",
    "    for t in time[1:time.shape[0]-1]:\n",
    "        I += ff(t)\n",
    "    return I*(time[1]-time[0])\n",
    "\n",
    "def numerical_dR(s,h,dt,f,eps=1.0e-3):\n",
    "    #R = expo_so3(rot_map(s,h,dt,f))\n",
    "    R_p = tr.zeros(3,3,3)\n",
    "    R_m = tr.zeros(3,3,3)\n",
    "    for a in range(3):\n",
    "        sp = expo_so3(eps*L[:,:,a])@s\n",
    "        sm = expo_so3(-eps*L[:,:,a])@s\n",
    "        #sp = expo_so3(eps*L[:,a,:])@s\n",
    "        #sm = expo_so3(-eps*L[:,a,:])@s\n",
    "        R_p[:,:,a] = rot_map(sp,h,dt,f) \n",
    "        R_m[:,:,a] = rot_map(sm,h,dt,f) \n",
    "    return 0.5*(R_p - R_m)/eps\n",
    "\n",
    "def dexpo_formula_dR(s,h,dt,f):\n",
    "    X = x_rot_map(s,h,dt,f)\n",
    "    dX = dx_rot_map(s,h,dt,f)\n",
    "    dR=tr.empty(3,3,3)\n",
    "    for a in range(dX.shape[2]):\n",
    "        dR[:,:,a] = expo_so3(X)@dexpo_so3(X,dX[:,:,a])\n",
    "    return dR\n",
    "\n",
    "def dexpo_formula_dR_m(s,h,dt,f):\n",
    "    X = x_rot_map(s,h,dt,f)\n",
    "    dX = dx_rot_map(s,h,dt,f)\n",
    "    dR=tr.empty(3,3,3)\n",
    "    for a in range(dX.shape[2]):\n",
    "        dR[:,:,a] = dexpo_so3(-X,dX[:,:,a])@expo_so3(X)\n",
    "    return dR"
   ]
  },
  {
   "cell_type": "code",
   "execution_count": 57,
   "id": "3ccb3991-e204-4336-becc-97c327161376",
   "metadata": {},
   "outputs": [],
   "source": [
    "if ( False ):\n",
    "# my expo is faster...  both the exact and the taylor. My taylor seems more accurate \n",
    "    %timeit tr_expo = tr.matrix_exp(x_rot_map(s,h,.25,P))\n",
    "    %timeit my_expo = expo(x_rot_map(s,h,.25,P))\n",
    "    %timeit so3_expo = expo_so3(x_rot_map(s,h,.25,P))\n",
    "    tr_expo = tr.matrix_exp(x_rot_map(s,h,.25,P))\n",
    "    my_expo = expo(x_rot_map(s,h,.25,P))\n",
    "    so3_expo = expo_so3(x_rot_map(s,h,.25,P))\n",
    "\n",
    "    print(tr.norm(my_expo-so3_expo)/tr.norm(so3_expo),tr.norm(tr_expo-so3_expo)/tr.norm(so3_expo))"
   ]
  },
  {
   "cell_type": "code",
   "execution_count": 58,
   "id": "fa2f1d5e-6abd-4f13-8be4-815e17879b7a",
   "metadata": {},
   "outputs": [],
   "source": [
    "dR = integal_formula_dR(s,h,0.25,P,N=1000)\n",
    "num_dR = numerical_dR(s,h,0.25,P,eps=1e-6)\n",
    "dexpo_dR = dexpo_formula_dR(s,h,0.25,P)\n",
    "dexpo_dR_m = dexpo_formula_dR_m(s,h,0.25,P)"
   ]
  },
  {
   "cell_type": "code",
   "execution_count": 59,
   "id": "76521194-4532-4b1d-bd71-fcda2fac0684",
   "metadata": {},
   "outputs": [
    {
     "name": "stdout",
     "output_type": "stream",
     "text": [
      "Difference from numerical formula  :  tensor(1.1836e-10, grad_fn=<DivBackward0>)\n",
      "Difference from dexpo     formula  :  tensor(8.3962e-12, grad_fn=<DivBackward0>)\n",
      "Difference from dexpo_m   formula  :  tensor(8.3963e-12, grad_fn=<DivBackward0>)\n",
      "\n",
      "Difference dexpo - dexpo_m formula  :  tensor(2.1310e-16, grad_fn=<DivBackward0>)\n"
     ]
    }
   ],
   "source": [
    "print(\"Difference from numerical formula  : \",tr.norm(dR- num_dR)/tr.norm(dR))\n",
    "print(\"Difference from dexpo     formula  : \",tr.norm(dR- dexpo_dR)/tr.norm(dR))\n",
    "print(\"Difference from dexpo_m   formula  : \",tr.norm(dR- dexpo_dR_m)/tr.norm(dR))\n",
    "print(\"\\nDifference dexpo - dexpo_m formula  : \",tr.norm(dexpo_dR_m - dexpo_dR)/tr.norm(dexpo_dR))"
   ]
  },
  {
   "cell_type": "code",
   "execution_count": 60,
   "id": "48211f6e-37c6-46d8-aae3-58a25e582298",
   "metadata": {},
   "outputs": [],
   "source": [
    "#success!"
   ]
  },
  {
   "cell_type": "markdown",
   "id": "c0e8aaa8-ba7f-4a65-9eb7-a23305e1ff8e",
   "metadata": {},
   "source": [
    "<u><b>Check the formulas for the Jacobian</b></u>\n",
    "\n",
    "As mentioned above:\n",
    "$$\n",
    "J^{ab} = - \\frac{1}{2}{\\rm Tr}\\left( \\partial^b R R^T L^a \\right) - \\frac{1}{2}{\\rm Tr}\\left( R L^b R^T L^a \\right) = - \\frac{1}{2}{\\rm Tr}\\left( R {\\rm dexpo}(X) dX^b R^T L^a \\right) - \\frac{1}{2}{\\rm Tr}\\left( R L^b R^T L^a \\right)\n",
    "$$\n",
    "This now becomes:\n",
    "$$\n",
    "J^{ab} =  - \\frac{1}{2}{\\rm Tr}\\left(  {\\rm dexpo}(-X) dX^b R R^T L^a \\right) - \\frac{1}{2}{\\rm Tr}\\left( R L^b R^T L^a \\right)\n",
    "$$\n",
    "\n",
    "or\n",
    "$$\n",
    "J^{ab} =  - \\frac{1}{2}{\\rm Tr}\\left(  {\\rm dexpo}(-X) dX^b L^a \\right) - \\frac{1}{2}{\\rm Tr}\\left( R L^b R^T L^a \\right)\n",
    "$$\n",
    "\n",
    "Let's break up the two contributions as\n",
    "$$\n",
    "J^{ab}_1 =  - \\frac{1}{2}{\\rm Tr}\\left[  {\\rm dexpo}(-X) dX^b L^a \\right]  = \\frac{1}{2}{\\rm Tr}\\left[ dX^b \\left({\\rm dexpo}(X)L^a\\right)^T \\right] \n",
    "$$\n",
    "$$\n",
    "J^{ab}_2 = - \\frac{1}{2}{\\rm Tr}\\left( R L^b R^T L^a \\right)\n",
    "$$\n",
    "\n",
    "First I will explicitly compute these terms."
   ]
  },
  {
   "cell_type": "code",
   "execution_count": 61,
   "id": "4fd2aefe-38e3-4d14-b1eb-a7afae2948f3",
   "metadata": {},
   "outputs": [],
   "source": [
    "# J_1 term:\n",
    "def J_1(s,h,dt,f):\n",
    "    jJ_1 = tr.zeros(3,3)\n",
    "    X = x_rot_map(s,h,dt,f)\n",
    "    dX = dx_rot_map(s,h,dt,f)\n",
    "    for a in range(3):\n",
    "        for b in range(3):\n",
    "             jJ_1[a,b] = -0.5*tr.trace(dexpo_so3(-X,dX[:,:,b])@L[:,:,a])\n",
    "    return jJ_1\n",
    "\n",
    "def J_1_alt(s,h,dt,f):\n",
    "    jJ_1 = tr.zeros(3,3)\n",
    "    X = x_rot_map(s,h,dt,f)\n",
    "    dX = dx_rot_map(s,h,dt,f)\n",
    "    for a in range(3):\n",
    "        for b in range(3):\n",
    "             jJ_1[a,b] = 0.5*tr.trace(dX[:,:,b]@(dexpo_so3(X,L[:,:,a])).T)\n",
    "    return jJ_1\n",
    "    \n",
    "def J_1_explicit(s,h,dt,f):\n",
    "    jJ_1 = tr.zeros(3,3)\n",
    "    X = x_rot_map(s,h,dt,f)\n",
    "    dX = dx_rot_map(s,h,dt,f)\n",
    "    dR = dexpo_formula_dR(s,h,dt,f)\n",
    "    R = expo_so3(X)\n",
    "    for a in range(3):\n",
    "        for b in range(3):\n",
    "            jJ_1[a,b] = -0.5*tr.trace(dR[:,:,b]@R.T@L[:,:,a])\n",
    "    return jJ_1\n",
    "\n",
    "\n",
    "def J_2(s,h,dt,f):\n",
    "    R = expo_so3(x_rot_map(s,h,dt,f))\n",
    "    return -0.5*tr.einsum('sr,rlb,kl,ksa->ab',R,L,R,L)\n",
    "\n",
    "def J_2_old(s,h,dt,f):\n",
    "    R = expo_so3(x_rot_map(s,h,dt,f))\n",
    "    J2 = tr.zeros(3,3)\n",
    "    for a in range(3):\n",
    "        for b in range(3):\n",
    "            J2[a,b] = -0.5*tr.trace(R@L[:,:,b]@R.T@L[:,:,a])\n",
    "    return J2\n",
    "\n",
    "def J(s,h,dt,f):\n",
    "    return J_1(s,h,dt,f) + J_2(s,h,dt,f)"
   ]
  },
  {
   "cell_type": "code",
   "execution_count": 62,
   "id": "390c5c2e-dacb-4564-956b-92aa38dc7783",
   "metadata": {},
   "outputs": [
    {
     "data": {
      "text/plain": [
       "tensor(1.1108e-16, grad_fn=<LinalgVectorNormBackward0>)"
      ]
     },
     "execution_count": 62,
     "metadata": {},
     "output_type": "execute_result"
    }
   ],
   "source": [
    "jj_1 = J_1(s,h,0.25,P)\n",
    "jj_1_exp = J_1_explicit(s,h,0.25,P)\n",
    "jj_1_alt = J_1_alt(s,h,0.25,P)\n",
    "jj_2 = J_2(s,h,0.25,P)\n",
    "jjj_2 = J_2_old(s,h,0.25,P)\n",
    "(jjj_2 - jj_2).norm()"
   ]
  },
  {
   "cell_type": "code",
   "execution_count": 63,
   "id": "e90dfefb-b785-4e74-8f1a-1be096e629e1",
   "metadata": {},
   "outputs": [
    {
     "data": {
      "text/plain": [
       "tensor(0.3931, grad_fn=<LinalgDetBackward0>)"
      ]
     },
     "execution_count": 63,
     "metadata": {},
     "output_type": "execute_result"
    }
   ],
   "source": [
    "tr.linalg.det(jj_1+jj_2)"
   ]
  },
  {
   "cell_type": "code",
   "execution_count": null,
   "id": "3758d81e-6a06-4e2c-b20a-6ccd0a1d1507",
   "metadata": {},
   "outputs": [],
   "source": []
  },
  {
   "cell_type": "code",
   "execution_count": 64,
   "id": "75aabd2b-e347-48e9-9b7a-74b8a0c1caa1",
   "metadata": {},
   "outputs": [],
   "source": [
    "def checks(s,h,dt,f):\n",
    "    jJ_1 = tr.zeros(3,3)\n",
    "    X = x_rot_map(s,h,dt,f)\n",
    "    dX = dx_rot_map(s,h,dt,f)\n",
    "    dR = dexpo_formula_dR(s,h,dt,f)\n",
    "    R = expo_so3(X)\n",
    "    for a in range(3):\n",
    "        print(a,\" dR@R.T diff: \",tr.norm( dR[:,:,a]@R.T - dexpo_so3(-X,dX[:,:,a])) )\n",
    "\n",
    "    for a in range(3):\n",
    "        print(a,\" dR  diff: \",tr.norm( dR[:,:,a]-  R@dexpo_so3(X,dX[:,:,a])) )\n",
    "\n",
    "if (False):\n",
    "    checks(s,h,0.25,P)"
   ]
  },
  {
   "cell_type": "code",
   "execution_count": 65,
   "id": "d9655bd0-670b-48a9-9acc-a13b9a43e3cf",
   "metadata": {},
   "outputs": [
    {
     "data": {
      "text/plain": [
       "(tensor(1.6184e-16, grad_fn=<LinalgVectorNormBackward0>),\n",
       " tensor(6.2063e-17, grad_fn=<LinalgVectorNormBackward0>))"
      ]
     },
     "execution_count": 65,
     "metadata": {},
     "output_type": "execute_result"
    }
   ],
   "source": [
    "(jj_1-jj_1_exp).norm(),(jj_1-jj_1_alt).norm()"
   ]
  },
  {
   "cell_type": "markdown",
   "id": "bb1c0956-26a9-4e5a-ace0-84b0eb1d3739",
   "metadata": {},
   "source": [
    "<u><b>Further Manipulations</b></u>\n",
    "\n",
    "\n",
    "Let $X_a = -\\frac{1}{2} {\\rm Tr}(L^a X)$\n",
    "\n",
    "Then $X = \\sum_a X_a L^a$\n",
    "\n",
    "With this we can show that\n",
    "$$\n",
    "ad_X L^a = -\\sum_{bc} L^c \\epsilon_{cab} X_b\n",
    "$$\n",
    "\n",
    "Defining:\n",
    "$$\n",
    "[ad_X]_{ab} = -  \\sum_{c}  \\epsilon_{abc} X_c \n",
    "$$\n",
    "\n",
    "we can write:\n",
    "$$\n",
    "ad_X L^a = \\sum_{c} L^c [ad_X]_{ca}\n",
    "$$\n",
    "\n",
    "Let's now define the matrix\n",
    "$$\n",
    "dX^b_a = -\\frac{1}{2} {\\rm Tr}(dX^b L^a) = (h^T L^a L^b s) f(s\\cdot h) + (h^TL^as) (h^T L^b s) f'(s\\cdot h) \n",
    "$$\n",
    "\n",
    "and\n",
    "$$\n",
    "dX^b = \\sum_a dX^b_a L^a\n",
    "$$\n",
    "\n",
    "We can also compute:\n",
    "$$\n",
    "[dE_X]_{ab} = [dexp(X)L^a]_b = -\\frac{1}{2}{\\rm Tr}(dexp(X)L^a L^b) = \\delta_{a,b} + \\frac{1 - \\cos(|X|)}{|X|^2} [ad_X]_{ab} + \\frac{1 - \\frac{\\sin(|X|)}{|X|}}{|X|^2} ([ad_X][ad_X])_{ab}\n",
    "$$\n",
    "\n",
    "With this definition:\n",
    "$$\n",
    " dexp(X)L^a = \\sum_b [dE_X]_{ab} L^b\n",
    "$$\n",
    "\n",
    "and as a result:\n",
    "$$\n",
    "J^{ab}_1  = \\frac{1}{2}{\\rm Tr}\\left[ dX^b \\left(\\sum_c [dE_X]_{ac} L^c\\right)^T \\right]  = - \\frac{1}{2}{\\rm Tr}\\left[ \\sum_d dX^b_d L^d \\sum_c [dE_X]_{ac} L^c\\right] = \\sum_c dX^b_c [dE_X]_{ac}\n",
    "$$\n",
    "or\n",
    "$$\n",
    "J^{ab}_1  = \\left([dX] [dE_X]^T \\right)^{ba}\n",
    "$$"
   ]
  },
  {
   "cell_type": "code",
   "execution_count": 66,
   "id": "9373f2f3-3172-4011-b58b-53dbc16275c2",
   "metadata": {},
   "outputs": [
    {
     "name": "stdout",
     "output_type": "stream",
     "text": [
      "Component formula checks if zero:  0.0\n"
     ]
    }
   ],
   "source": [
    "# check the component formula\n",
    "cX = tr.tensor([-0.5 * tr.trace(L[:,:,a]@X) for a in range(3)])\n",
    "print(\"Component formula checks if zero: \",tr.norm(tr.einsum('a,...a->...',cX,L)- X).detach().numpy().item())"
   ]
  },
  {
   "cell_type": "code",
   "execution_count": 67,
   "id": "1a29eb71-a6ff-4e59-ac8e-33e089d28e2e",
   "metadata": {},
   "outputs": [],
   "source": [
    "def adX_mat_v0(X):\n",
    "    cX = tr.tensor([-0.5 * tr.trace(L[:,:,a]@X) for a in range(3)])\n",
    "    AdX = -tr.einsum('abc,c->ab',levi_civita,cX)\n",
    "    return AdX\n",
    "\n",
    "def adX_mat(X):\n",
    "    return 0.5*tr.einsum('abc,rsc,sr->ab',levi_civita,L,X)\n",
    "\n",
    "#check ad_X formula\n",
    "def checks_adX(s,h,dt,f):\n",
    "    X = x_rot_map(s,h,dt,f)\n",
    "    cX = tr.tensor([-0.5 * tr.trace(L[:,:,a]@X) for a in range(3)])\n",
    "    #AdX = -tr.einsum('abc,c->ab',levi_civita,cX)\n",
    "    AdX = adX_mat(X)\n",
    "    #print(AdX)\n",
    "    matrix_ad = tr.einsum('...c,ca->...a',L,AdX)\n",
    "    matrix_ad2 = tr.einsum('...c,ca->...a',L,AdX@AdX)\n",
    "    explicit_ad = tr.zeros_like(matrix_ad)\n",
    "    explicit_ad2 = tr.zeros_like(matrix_ad)\n",
    "    for a in range(3):\n",
    "        explicit_ad[:,:,a] = ad(X,L[:,:,a])\n",
    "        explicit_ad2[:,:,a] = ad(X,ad(X,L[:,:,a]))\n",
    "    print(\"Check two versions of AdX: \",(adX_mat_v0(X) - adX_mat(X)).norm().detach().item())\n",
    "    print(\"\\n\")\n",
    "    print(\"Check matrix adjoint   formula: \",(explicit_ad-matrix_ad).norm().detach().item())\n",
    "    print(\"Check matrix adjoint^2 formula: \",(explicit_ad2-matrix_ad2).norm().detach().item())"
   ]
  },
  {
   "cell_type": "code",
   "execution_count": 68,
   "id": "7726adb4-caec-4df7-9122-8507ae150688",
   "metadata": {},
   "outputs": [
    {
     "name": "stdout",
     "output_type": "stream",
     "text": [
      "Check two versions of AdX:  0.0\n",
      "\n",
      "\n",
      "Check matrix adjoint   formula:  0.0\n",
      "Check matrix adjoint^2 formula:  3.0665868333667484e-19\n"
     ]
    }
   ],
   "source": [
    "checks_adX(s,h,0.25,P)"
   ]
  },
  {
   "cell_type": "code",
   "execution_count": 69,
   "id": "f98606ff-4b22-4ca8-9283-30a6a90a1dfd",
   "metadata": {},
   "outputs": [],
   "source": [
    "def dX_matrix(s,h,dt,f):\n",
    "    dX = dx_rot_map(s,h,dt,f)\n",
    "    return -0.5*tr.einsum('rsb,sra->ba',dX,L)\n",
    "\n",
    "def dX_matrix_spin(s,h,dt,f):\n",
    "    sh = s@h\n",
    "    ffo = tr.einsum('s,ska,krb,r->ba',h,L,L,s) *f(sh)\n",
    "    #ffo = ffo+ffo.T\n",
    "    hLs = tr.einsum('s,sra,r->a',h,L,s)\n",
    "    return dt*(ffo + tr.outer(hLs,hLs)*f.deriv(sh))\n",
    "\n",
    "# \n",
    "def dX_matrix_spin2(s,h,dt,f):\n",
    "    dX_ba =  tr.einsum('r,rka,ksb,s->ba',h,L,L,s)\n",
    "    #foo = tr.einsum('k,kla,l->a',h,L,s)\n",
    "    #dX=dX_ba*f(h@s) + tr.einsum('a,b->ab',foo,foo)*f.deriv(h@s)\n",
    "    dX=dX_ba*f(h@s) + tr.einsum('k,kla,l,m,mnb,n->ab ',h,L,s,h,L,s)*f.deriv(h@s)\n",
    "    return dt*dX\n",
    "    \n",
    "#just for checking algebra\n",
    "def dx_rot_map_and_matrix(s,h,dt,f):\n",
    "    xX = tr.einsum('s,r->sr',h,s) - tr.einsum('s,r->sr',s,h)\n",
    "    dX = -tr.einsum('s,r,rka->ska',h,s,L) - tr.einsum('ska,k,r->sra',L,s,h)\n",
    "    term1 = -0.5*tr.einsum('srb,rsa->ba',dX,L)*f(h@s)*dt\n",
    "    #tt_term1 = 0.5*f(h@s)*dt*(tr.einsum('...b,...a->ba',\n",
    "    #    (tr.einsum('s,r,rka->ska',h,s,L) + tr.einsum('ska,k,r->sra',L,s,h)),L))\n",
    "    \n",
    "    #tt_term1 = -0.5*f(h@s)*dt*(tr.einsum('s,r,rkb,ksa->ba',h,s,L,L) + tr.einsum('skb,k,r,rsa->ba',L,s,h,L))\n",
    "    #tt_term1 = -0.5*f(h@s)*dt*(tr.einsum('r,rkb,ksa,s->ba',s,L,L,h) + tr.einsum('r,rsa,skb,k->ba',h,L,L,s))\n",
    "    tt_term1 = f(h@s)*dt*tr.einsum('r,rkb,ksa,s->ba',s,L,L,h)\n",
    "    print((tt_term1-term1).norm())\n",
    "    #print(tt_term1,term1)\n",
    "    #print(dX)\n",
    "    #print(dX.transpose(0,1))\n",
    "    #dX = dX-dX.transpose(0,1)\n",
    "    #print(dX)\n",
    "    ttX = tr.einsum('sr,k,kla,l->sra',xX,h,L,s)\n",
    "    term2 = -0.5*tr.einsum('srb,rsa->ba',ttX,L)*f.deriv(h@s)*dt\n",
    "    #tt_term2=-0.5*tr.einsum('...b,...a->ba',tr.einsum('sr,k,kla,l->sra',tr.einsum('s,r->sr',h,s) - tr.einsum('s,r->sr',s,h),h,L,s),L)*f.deriv(h@s)*dt\n",
    "    #tt_term2=-tr.einsum('...b,...a->ba',tr.einsum('sr,k,kla,l->sra',tr.einsum('s,r->sr',h,s),h,L,s),L)*f.deriv(h@s)*dt\n",
    "    tt_term2=tr.einsum('s,sra,r,k,klb,l->ba',h,L,s,h,L,s)*f.deriv(h@s)*dt\n",
    "    \n",
    "    print((term2-tt_term2).norm())\n",
    "    dX=dX*f(h@s) + tr.einsum('sr,k,kla,l->sra',xX,h,L,s)*f.deriv(h@s)\n",
    "    return dt*dX,term1+term2,tt_term1+tt_term2"
   ]
  },
  {
   "cell_type": "code",
   "execution_count": 70,
   "id": "538408b5-30ac-4558-b3d0-be74d4d752fa",
   "metadata": {},
   "outputs": [
    {
     "name": "stdout",
     "output_type": "stream",
     "text": [
      "tensor(4.3368e-19, grad_fn=<LinalgVectorNormBackward0>)\n",
      "tensor(9.2055e-17, grad_fn=<LinalgVectorNormBackward0>)\n"
     ]
    }
   ],
   "source": [
    "dX_mat  = dX_matrix(s,h,0.25,P)\n",
    "dX_mat_sp = dX_matrix_spin(s,h,0.25,P)\n",
    "\n",
    "dX_mat_sp2 = dX_matrix_spin2(s,h,0.25,P)\n",
    "\n",
    "dX,foo,boo = dx_rot_map_and_matrix(s,h,0.25,P)"
   ]
  },
  {
   "cell_type": "code",
   "execution_count": 71,
   "id": "7cc713e6-f882-4172-b8c4-02cf03ab5854",
   "metadata": {},
   "outputs": [
    {
     "data": {
      "text/plain": [
       "(tensor([[-0.1197, -0.1815, -0.1923],\n",
       "         [-0.2058, -0.2313, -0.2204],\n",
       "         [-0.1682, -0.2388, -0.2481]], grad_fn=<MulBackward0>),\n",
       " tensor([[-0.1197, -0.1815, -0.1923],\n",
       "         [-0.2058, -0.2313, -0.2204],\n",
       "         [-0.1682, -0.2388, -0.2481]], grad_fn=<MulBackward0>),\n",
       " tensor([[-0.1197, -0.1815, -0.1923],\n",
       "         [-0.2058, -0.2313, -0.2204],\n",
       "         [-0.1682, -0.2388, -0.2481]], grad_fn=<MulBackward0>),\n",
       " tensor([[-0.1197, -0.1815, -0.1923],\n",
       "         [-0.2058, -0.2313, -0.2204],\n",
       "         [-0.1682, -0.2388, -0.2481]], grad_fn=<AddBackward0>),\n",
       " tensor([[-0.1197, -0.1815, -0.1923],\n",
       "         [-0.2058, -0.2313, -0.2204],\n",
       "         [-0.1682, -0.2388, -0.2481]], grad_fn=<AddBackward0>),\n",
       " tensor(0., grad_fn=<LinalgVectorNormBackward0>),\n",
       " tensor(9.2055e-17, grad_fn=<LinalgVectorNormBackward0>))"
      ]
     },
     "execution_count": 71,
     "metadata": {},
     "output_type": "execute_result"
    }
   ],
   "source": [
    "dX_mat, dX_mat_sp,dX_mat_sp2,foo,boo,(dX_mat-foo).norm(),(dX_mat-boo).norm()"
   ]
  },
  {
   "cell_type": "code",
   "execution_count": 72,
   "id": "0fa90d6f-2700-4584-bbce-6cafc4b63db8",
   "metadata": {},
   "outputs": [
    {
     "data": {
      "text/plain": [
       "(tensor(0., grad_fn=<LinalgVectorNormBackward0>),\n",
       " tensor(9.2055e-17, grad_fn=<LinalgVectorNormBackward0>))"
      ]
     },
     "execution_count": 72,
     "metadata": {},
     "output_type": "execute_result"
    }
   ],
   "source": [
    "(dX_mat-dX_mat_sp).norm(),(dX_mat-dX_mat_sp2).norm()"
   ]
  },
  {
   "cell_type": "code",
   "execution_count": 73,
   "id": "0c940045-afc2-4c70-b7fc-c3e4e7aee374",
   "metadata": {},
   "outputs": [
    {
     "data": {
      "text/plain": [
       "tensor(0., grad_fn=<LinalgVectorNormBackward0>)"
      ]
     },
     "execution_count": 73,
     "metadata": {},
     "output_type": "execute_result"
    }
   ],
   "source": [
    "rr=tr.einsum('ba,...a->...b',dX_mat_sp,L)\n",
    "(rr-dX).norm()"
   ]
  },
  {
   "cell_type": "code",
   "execution_count": 74,
   "id": "d1927cca-f699-4aef-8770-fa05638e37ed",
   "metadata": {},
   "outputs": [],
   "source": [
    "def dexpo_matrix_explicit(X):\n",
    "    dE= tr.zeros(3,3)\n",
    "    for a in range(3):\n",
    "        dE[a,:] =-0.5* tr.einsum('rs,srb->b', dexpo_so3(X,L[:,:,a]),L)\n",
    "    return dE\n",
    "\n",
    "def dexpo_matrix_so3(X):\n",
    "    dE = tr.eye(3)\n",
    "    nX = X.norm()/np.sqrt(2)\n",
    "    nX2 = nX**2\n",
    "    if (nX<tr.finfo(X.dtype).eps):\n",
    "        return dE\n",
    "    # transpose is needed due to the ordering of the indices in the definition of AdX matrix\n",
    "    # I should change that so that I do not need a transpose here...\n",
    "    adj = adX_mat(X).T\n",
    "    dE += (1 - tr.sin(nX)/nX)/(nX2)*(adj@adj) - (1-tr.cos(nX))/(nX2)*adj\n",
    "    return dE\n",
    "# If I eliminate the transpose here, I will not need the transpose in the J_1 formula!\n",
    "# so the decision to change or not to change the definition of AdX is not easy..."
   ]
  },
  {
   "cell_type": "code",
   "execution_count": 75,
   "id": "52e1dcb3-ada8-490d-a780-b2b5badff5e4",
   "metadata": {},
   "outputs": [],
   "source": [
    "X = x_rot_map(s,h,0.25,P)\n"
   ]
  },
  {
   "cell_type": "code",
   "execution_count": 76,
   "id": "677490fa-01c3-4ab8-9b8b-a2e30240a00c",
   "metadata": {},
   "outputs": [
    {
     "data": {
      "text/plain": [
       "(tensor([[ 0.9998,  0.0122, -0.0120],\n",
       "         [-0.0121,  0.9998,  0.0093],\n",
       "         [ 0.0121, -0.0091,  0.9998]], grad_fn=<CopySlices>),\n",
       " tensor([[ 0.9998,  0.0122, -0.0120],\n",
       "         [-0.0121,  0.9998,  0.0093],\n",
       "         [ 0.0121, -0.0091,  0.9998]], grad_fn=<AddBackward0>))"
      ]
     },
     "execution_count": 76,
     "metadata": {},
     "output_type": "execute_result"
    }
   ],
   "source": [
    "dexpo_matrix_explicit(X) , dexpo_matrix_so3(X)"
   ]
  },
  {
   "cell_type": "code",
   "execution_count": 77,
   "id": "57d4aa71-2286-437e-ac85-84df48228507",
   "metadata": {},
   "outputs": [
    {
     "data": {
      "text/plain": [
       "tensor(0., grad_fn=<LinalgVectorNormBackward0>)"
      ]
     },
     "execution_count": 77,
     "metadata": {},
     "output_type": "execute_result"
    }
   ],
   "source": [
    "(dexpo_matrix_explicit(X) - dexpo_matrix_so3(X)).norm()"
   ]
  },
  {
   "cell_type": "markdown",
   "id": "a39120af-6291-4b96-be5d-32cc1a124fa4",
   "metadata": {},
   "source": [
    "# New Day\n",
    "\n",
    "* Compute the $J_1$ term with matrix and explicit form and make sure they agree\n",
    "    * <b>Check</b>\n",
    "* Compute the $J_2$ term explicitely and with matrix form using the adjoint map tricks and make sure they agree\n",
    "    * $$\n",
    "J^{ab}_2 = - \\frac{1}{2}{\\rm Tr}\\left( e^X L^b e^{-X} L^a  \\right) =- \\frac{1}{2}{\\rm Tr}\\left( e^{ad_X} L^b L^a  \\right) = (e^{[ad_X]})_{ba}\n",
    "$$\n",
    "    * it turns out that it is $J^{ab}_2 = (e^{[ad_X]})_{ab}$ ... I did not track down\n",
    "      \n",
    "* Compute the full jacobian as $\\det J = \\det ( J_1 + J_2)$\n",
    "    * $J_{ab} = (e^{[ad_X]})_{ab} + \\left([dX] [dE_X]^T \\right)_{ba}$\n",
    "    * $ J = e^{[ad_X]} + [dE_X] [dX]^T $\n",
    "    * <b>Check</b>\n",
    "    \n",
    "* Finally compute the integral under a change of variables.\n",
    "    * $s' = R(s,h) s$ ... I need to understand how to effectively do this\n",
    "    * I think that positivity of the jacobian is required because if it turns negative there exist points for which it is zero. In that case the transformation is singular and perhaps not single valued. i.e. not a <b>global diffeomorphism</b> which is required for the change of variables we want."
   ]
  },
  {
   "cell_type": "code",
   "execution_count": 78,
   "id": "97ca1d22-7185-463e-b30b-f92075b110b9",
   "metadata": {},
   "outputs": [],
   "source": [
    "# the matrix computation for J_1\n",
    "def J_1_mat(s,h,dt,f):\n",
    "    dX = dX_matrix_spin(s,h,dt,f)\n",
    "    dE = dexpo_matrix_so3(x_rot_map(s,h,dt,f))\n",
    "    return tr.einsum('bx,ax->ab',dX,dE) # we compute (dX dE^T)_ba = (J_1)_ab\n",
    "\n",
    "def J_2_mat(s,h,dt,f):\n",
    "    return expo_so3(adX_mat(x_rot_map(s,h,dt,f)))\n",
    "\n",
    "\n",
    "def J_mat(s,h,dt,f):\n",
    "    X = x_rot_map(s,h,dt,f)\n",
    "    dX = dX_matrix_spin(s,h,dt,f)\n",
    "    dE = dexpo_matrix_so3(X)\n",
    "    return tr.einsum('bx,ax->ab',dX,dE) + expo_so3(adX_mat(X))"
   ]
  },
  {
   "cell_type": "code",
   "execution_count": 79,
   "id": "aad9fa29-6ea4-4384-a534-6a88d90931f9",
   "metadata": {},
   "outputs": [
    {
     "name": "stdout",
     "output_type": "stream",
     "text": [
      " Zero if matrix and explicit J_1 match:  5.003707553108401e-17\n",
      " Zero if matrix and explicit J_2 match:  1.3768940732700483e-16\n",
      "\n",
      "\n",
      " Zero if matrix and explicit J   match:  1.6184142622847344e-16\n"
     ]
    }
   ],
   "source": [
    "print(\" Zero if matrix and explicit J_1 match: \",(J_1_mat(s,h,0.25,P)-J_1(s,h,0.25,P)).norm().detach().item())\n",
    "print(\" Zero if matrix and explicit J_2 match: \",(J_2_mat(s,h,0.25,P)-J_2(s,h,0.25,P)).norm().detach().item())\n",
    "print(\"\\n\")\n",
    "print(\" Zero if matrix and explicit J   match: \",(J_mat(s,h,0.25,P)-J(s,h,0.25,P)).norm().detach().item())\n",
    "\n"
   ]
  },
  {
   "cell_type": "code",
   "execution_count": 80,
   "id": "489cf319-75ae-4cc1-963e-8148cecb5562",
   "metadata": {},
   "outputs": [
    {
     "data": {
      "text/plain": [
       "tensor(0.2700, grad_fn=<LinalgDetBackward0>)"
      ]
     },
     "execution_count": 80,
     "metadata": {},
     "output_type": "execute_result"
    }
   ],
   "source": [
    "#tr.linalg.det(J_mat(s,h,0.5867209447251724,P))\n",
    "tr.linalg.det(J_mat(s,h,0.3,P))"
   ]
  },
  {
   "cell_type": "markdown",
   "id": "a8006d8f-428d-4b4a-b744-a7048438e39a",
   "metadata": {},
   "source": [
    "# strategy for checking correctness of Jacobian\n",
    "\n",
    "Let $F(s)$ be a map from $O(3) \\rightarrow \\cal R$. To be concrete:\n",
    "$$\n",
    "F(s) = f(v\\cdot s) \\,\\,\\; {\\rm with} \\,\\,\\; f(x) = \\cos(x)  \\,\\,\\; {\\rm and} \\,\\,\\; f'(x) = \\sin(x)\n",
    "$$\n",
    "with $v \\in {\\cal R}^3$.\n",
    "\n",
    "we know that\n",
    "$$\n",
    "dF = \\sum_a \\theta^a \\partial_a F = \\sum_a \\theta^a f'(v\\cdot s) (v\\cdot L_a \\cdot s )\n",
    "$$\n",
    "\n",
    "Now consider the change of variabes from $\\sigma $ to $s$ as:\n",
    "$$\n",
    "s = R(\\sigma,h,dt) \\sigma\n",
    "$$\n",
    "with $h \\in R^3$ as before. The parameter $dt$ is there to make sure the map is invertible (see how it is used to define R from above).\n",
    "\n",
    "We now have:\n",
    "\n",
    "$$\n",
    "F'(\\sigma) = F(R \\sigma) = f(v\\cdot ( R\\sigma)) = f(\\hat v(\\sigma) \\cdot \\sigma)\n",
    "$$\n",
    "with $\\hat v(\\sigma) = R(\\sigma)^T v$. Note that $ v(\\sigma) \\cdot \\sigma = v \\cdot s$.\n",
    "The total differential is now:\n",
    "$$\n",
    "dF' = \\sum_a \\hat\\theta^a \\hat\\partial_a F' = \\sum_a \\hat\\theta^a f'(\\hat v(\\sigma) \\cdot \\sigma) [(\\hat v(\\sigma)\\cdot L_a \\cdot \\sigma ) + v\\cdot(\\hat\\partial_a R )\\cdot \\sigma]\n",
    "$$\n",
    "which can be simplified as:\n",
    "$$\n",
    "dF' = \\sum_a \\hat\\theta^a f'(v \\cdot s) [(v\\cdot R \\cdot L_a \\cdot \\sigma ) + v\\cdot(\\hat\\partial_a R )\\cdot \\sigma]\n",
    "$$\n",
    "\n",
    "\n",
    "\n"
   ]
  },
  {
   "cell_type": "markdown",
   "id": "f20fa97b-2a5d-4a90-80fe-a1efc544f603",
   "metadata": {},
   "source": [
    "The equality of total differentials implies:\n",
    "$$\n",
    "\\sum_a \\theta^a f'(v\\cdot s) (v\\cdot L_a \\cdot s ) = \\sum_a \\hat\\theta^a f'(v \\cdot s) [(v\\cdot R \\cdot L_a \\cdot \\sigma ) + v\\cdot(\\hat\\partial_a R )\\cdot \\sigma]\n",
    "$$\n",
    "\n",
    "or\n",
    "$$\n",
    "\\sum_a \\theta^a  (v\\cdot L_a \\cdot s ) = \\sum_a \\hat\\theta^a  [(v\\cdot R \\cdot L_a \\cdot \\sigma ) + v\\cdot(\\hat\\partial_a R )\\cdot \\sigma]\n",
    "$$\n",
    "However \n",
    "$$\n",
    " \\theta^a = \\sum_b J^{ab}  \\hat \\theta^b \n",
    "$$\n",
    "or\n",
    "$$\n",
    "\\hat \\theta = J^{-1} \\theta\n",
    "$$\n",
    "\n",
    "Furthermore,\n",
    "$$\n",
    "\\sum_{ab}J^{ab}\\hat \\theta^b (v\\cdot L_a \\cdot s ) = \\sum_a \\hat\\theta^a  [(v\\cdot R \\cdot L_a \\cdot \\sigma ) + v\\cdot(\\hat\\partial_a R )\\cdot \\sigma]\n",
    "$$\n",
    "which implies:\n",
    "$$\n",
    "\\sum_{b}J^{ba}  (v\\cdot L_b \\cdot s ) = [(v\\cdot R \\cdot L_a \\cdot \\sigma ) + v\\cdot(\\hat\\partial_a R )\\cdot \\sigma]\n",
    "$$\n",
    "\n",
    "This is an interesting identity that does not depend on the function used.  We can preceed even more. Since the identity holds for any $v$ the by chosing $v$ in $[e_1,e_2,e_3]$ with $e_i$ the unit vectors we obtain:\n",
    "$$\n",
    "\\sum_{b} J^{ba}  L_b \\cdot R(\\sigma)\\cdot \\sigma  =  R(\\sigma) \\cdot L_a \\cdot \\sigma  + (\\hat\\partial_a R(\\sigma) )\\cdot \\sigma\n",
    "$$"
   ]
  },
  {
   "cell_type": "markdown",
   "id": "f27050ff-b844-4630-8533-50970181c6d6",
   "metadata": {},
   "source": [
    "The formula for the Jacobian I used is:\n",
    "$$\n",
    "J^{ab} = - \\frac{1}{2}{\\rm Tr}\\left( \\hat\\partial^b R R^T L^a \\right) - \\frac{1}{2}{\\rm Tr}\\left( R L^b R^T L^a \\right)\n",
    "$$\n",
    "Here $\\sigma$ plays the role of $s$.\n",
    "\n",
    "$$\n",
    "\\sum_{b} J^{ba}  L_b  = - \\frac{1}{2} \\sum_{b}\\left[ {\\rm Tr}\\left( \\hat\\partial^a R R^T L^b \\right) - \\frac{1}{2}{\\rm Tr}\\left( R L^a R^T L^b \\right)  \\right] L^b \n",
    "$$\n",
    "which is\n",
    "$$\n",
    "\\sum_{b} J^{ba}  L_b  =\\left[ \\left( \\hat\\partial^a R R^T  \\right) + \\left( R L^a R^T \\right)  \\right]\n",
    "$$\n",
    "\n",
    "Plugging into the above equation we get the formula to check analytically... so it should hold nuperically. I should do this test next"
   ]
  },
  {
   "cell_type": "code",
   "execution_count": 92,
   "id": "69c94fdd-93fd-4b1c-b0bf-4d23eaa30b75",
   "metadata": {},
   "outputs": [
    {
     "name": "stdout",
     "output_type": "stream",
     "text": [
      "If zero the Jacobian matrix identity holds:  2.7928509224031823e-16\n"
     ]
    }
   ],
   "source": [
    "dR = dexpo_formula_dR_m(s,h,0.25,P)\n",
    "R = expo_so3(x_rot_map(s,h,0.25,P))\n",
    "jac = J_mat(s,h,0.25,P)\n",
    "lhs = tr.einsum('ba,rsb,s->ra',jac,L,R@s)\n",
    "rhs = tr.einsum('rs,ska,k->ra',R,L,s) + tr.einsum('rsa,s->ra',dR,s)\n",
    "print(\"If zero the Jacobian matrix identity holds: \",(lhs-rhs).norm().detach().numpy().item())"
   ]
  },
  {
   "cell_type": "markdown",
   "id": "b95f2ddf-422e-47ea-95bc-1841efa5bd27",
   "metadata": {},
   "source": [
    "# Success! \n",
    "Everything checks. So all analytic formulas about the Jacobian matrix are correct. I can now assume that the jacobian determinant is what I need to change variables in the integral. I should be ready to proceed with the construction of a trivializing map for the single spin integral"
   ]
  },
  {
   "cell_type": "code",
   "execution_count": null,
   "id": "0c4330ae-f29b-4781-ac73-109d947ddb61",
   "metadata": {},
   "outputs": [],
   "source": []
  }
 ],
 "metadata": {
  "kernelspec": {
   "display_name": "Python 3 (ipykernel)",
   "language": "python",
   "name": "python3"
  },
  "language_info": {
   "codemirror_mode": {
    "name": "ipython",
    "version": 3
   },
   "file_extension": ".py",
   "mimetype": "text/x-python",
   "name": "python",
   "nbconvert_exporter": "python",
   "pygments_lexer": "ipython3",
   "version": "3.12.6"
  }
 },
 "nbformat": 4,
 "nbformat_minor": 5
}
