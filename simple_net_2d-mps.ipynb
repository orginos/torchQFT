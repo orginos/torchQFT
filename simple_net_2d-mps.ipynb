{
 "cells": [
  {
   "cell_type": "code",
   "execution_count": 1,
   "id": "113f0522-7251-4ed8-9e2f-867f4d5462f6",
   "metadata": {},
   "outputs": [
    {
     "name": "stderr",
     "output_type": "stream",
     "text": [
      "Matplotlib is building the font cache; this may take a moment.\n"
     ]
    },
    {
     "name": "stdout",
     "output_type": "stream",
     "text": [
      "Torch Version:  2.3.0\n",
      "Numpy Version:  1.26.4\n"
     ]
    }
   ],
   "source": [
    "import torch as tr\n",
    "import torch.nn as nn\n",
    "import torch.nn.functional as F\n",
    "from torch import distributions\n",
    "from torch.nn.parameter import Parameter\n",
    "\n",
    "import numpy as np\n",
    "\n",
    "import matplotlib.pyplot as plt\n",
    "%matplotlib inline\n",
    "\n",
    "import time\n",
    "print(\"Torch Version: \",tr.__version__)\n",
    "print(\"Numpy Version: \",np.__version__)"
   ]
  },
  {
   "cell_type": "code",
   "execution_count": 2,
   "id": "59db1f09-f802-4373-96a3-e991422b9cca",
   "metadata": {},
   "outputs": [],
   "source": [
    "if tr.backends.mps.is_available():\n",
    "    device = tr.device(\"mps\")\n",
    "else:\n",
    "    print (\"MPS device not found.\")\n",
    "    device = \"cpu\""
   ]
  },
  {
   "cell_type": "code",
   "execution_count": 3,
   "id": "430047d7-d370-45cd-ae12-75bb34548dbc",
   "metadata": {},
   "outputs": [],
   "source": [
    "mass = -0.5\n",
    "lam = 1.5\n",
    "Nd =2\n",
    "mtil = mass +2 *Nd \n",
    "def action(phi):\n",
    "        phi2 = phi*phi\n",
    "        A = 0.5*mtil*tr.sum(phi2,dim=(1,2)) + (lam/24.0)*tr.sum(phi2*phi2,dim=(1,2))\n",
    "        for mu in range(1,Nd+1):\n",
    "            A = A - tr.sum(phi*tr.roll(phi,shifts=-1,dims=mu),dim=(1,2))\n",
    "        return A\n"
   ]
  },
  {
   "cell_type": "code",
   "execution_count": 4,
   "id": "3ef8cfa3-3c6a-441f-ae5e-210c67618e6c",
   "metadata": {},
   "outputs": [],
   "source": [
    "class RealNVP(nn.Module):\n",
    "    def __init__(self, nets, nett, mask, prior):\n",
    "        super(RealNVP, self).__init__()\n",
    "        self.prior = prior\n",
    "        self.mask = nn.Parameter(mask, requires_grad=False)\n",
    "        self.t = tr.nn.ModuleList([nett() for _ in range(len(masks))])\n",
    "        self.s = tr.nn.ModuleList([nets() for _ in range(len(masks))])\n",
    "    \n",
    "    # this is the forward start from noise target\n",
    "    def g(self, z):\n",
    "        x = z\n",
    "        for i in range(len(self.t)):\n",
    "            x_ = x*self.mask[i]\n",
    "            s = self.s[i](x_)*(1 - self.mask[i])\n",
    "            t = self.t[i](x_)*(1 - self.mask[i])\n",
    "            x = x_ + (1 - self.mask[i]) * (x * tr.exp(s) + t)\n",
    "        return x\n",
    "    \n",
    "    # this is backward from target to noise\n",
    "    def f(self, x):\n",
    "        log_det_J, z = x.new_zeros(x.shape[0]), x\n",
    "        for i in reversed(range(len(self.t))):\n",
    "            z_ = self.mask[i] * z\n",
    "            s = self.s[i](z_) * (1-self.mask[i])\n",
    "            t = self.t[i](z_) * (1-self.mask[i])\n",
    "            z = (1 - self.mask[i]) * (z - t) * tr.exp(-s) + z_\n",
    "            log_det_J -= s.sum(dim=1)\n",
    "        return z, log_det_J\n",
    "    \n",
    "    def log_prob(self,x):\n",
    "        z, logp = self.f(x)\n",
    "        return self.prior.log_prob(z) + logp #+ self.C\n",
    "        \n",
    "    def sample(self, batchSize): \n",
    "        z = self.prior.sample((batchSize, 1))\n",
    "        #logp = self.prior.log_prob(z)\n",
    "        x = self.g(z)\n",
    "        return x\n",
    "    "
   ]
  },
  {
   "cell_type": "code",
   "execution_count": 5,
   "id": "e9ac163a-b18f-40fb-bb31-138657440ea6",
   "metadata": {},
   "outputs": [],
   "source": [
    "L=32 # the length of the lattice which is going to be L x L torus\n",
    "V=L*L # the volume"
   ]
  },
  {
   "cell_type": "code",
   "execution_count": 6,
   "id": "aefe5de4-a641-46c7-a445-2494c2e3ff27",
   "metadata": {},
   "outputs": [
    {
     "data": {
      "text/plain": [
       "array([[0, 1, 0, ..., 1, 0, 1],\n",
       "       [1, 0, 1, ..., 0, 1, 0],\n",
       "       [0, 1, 0, ..., 1, 0, 1],\n",
       "       ...,\n",
       "       [1, 0, 1, ..., 0, 1, 0],\n",
       "       [0, 1, 0, ..., 1, 0, 1],\n",
       "       [1, 0, 1, ..., 0, 1, 0]])"
      ]
     },
     "execution_count": 6,
     "metadata": {},
     "output_type": "execute_result"
    }
   ],
   "source": [
    "X = np.array(np.arange(L))[:,np.newaxis]\n",
    "Y = np.array(np.arange(L))[np.newaxis,:]\n",
    "#X = X[:,np.newaxis]\n",
    "\n",
    "X = np.repeat(X,L,axis=1)\n",
    "Y = np.repeat(Y,L,axis=0)\n",
    "mm = (X+Y)%2\n",
    "mm"
   ]
  },
  {
   "cell_type": "code",
   "execution_count": 7,
   "id": "30e79661-d57b-464f-8d93-0cb4d0471be8",
   "metadata": {},
   "outputs": [],
   "source": [
    "lm = mm.reshape(V)"
   ]
  },
  {
   "cell_type": "code",
   "execution_count": 8,
   "id": "7156cb30-9d38-4189-ae7b-4ad0d42733b6",
   "metadata": {},
   "outputs": [
    {
     "data": {
      "text/plain": [
       "tensor([-1454.6458, -1450.2324, -1477.0165, -1455.0109, -1416.9612, -1459.4607,\n",
       "        -1447.3936, -1448.1881, -1499.1704, -1438.3655], device='mps:0')"
      ]
     },
     "execution_count": 8,
     "metadata": {},
     "output_type": "execute_result"
    }
   ],
   "source": [
    "tt = distributions.Normal(tr.zeros(V).to(device),tr.ones(V).to(device))\n",
    "prior= distributions.Independent(tt, 1)\n",
    "z = prior.sample((10,1)).squeeze()\n",
    "z.shape\n",
    "prior.log_prob(z)"
   ]
  },
  {
   "cell_type": "code",
   "execution_count": 9,
   "id": "4bfab531-a92a-4146-8da5-162011858da1",
   "metadata": {},
   "outputs": [],
   "source": [
    "# this are functions returning nets\n",
    "#nets = lambda: nn.Sequential(nn.Linear(V, 256), nn.LeakyReLU(), nn.Linear(256, 256), nn.LeakyReLU(), nn.Linear(256, V), nn.Tanh())\n",
    "#nett = lambda: nn.Sequential(nn.Linear(V, 256), nn.LeakyReLU(), nn.Linear(256, 256), nn.LeakyReLU(), nn.Linear(256, V))\n",
    "nets = lambda: nn.Sequential(nn.Linear(V, 2*V), nn.LeakyReLU(), nn.Linear(2*V, V), nn.Tanh())\n",
    "nett = lambda: nn.Sequential(nn.Linear(V, 2*V), nn.LeakyReLU(), nn.Linear(2*V, V))\n",
    "\n",
    "\n",
    "# the number of masks determines layers\n",
    "masks = tr.from_numpy(np.array([lm, 1-lm] * 3).astype(np.float32))\n",
    "normal = distributions.Normal(tr.zeros(V,device=device),tr.ones(V,device=device))\n",
    "prior= distributions.Independent(normal, 1)\n",
    "flow = RealNVP(nets, nett, masks, prior)\n",
    "flow =flow.to(device)"
   ]
  },
  {
   "cell_type": "code",
   "execution_count": 10,
   "id": "a6a97c5f-0fa4-4f54-940c-7e0192e1307f",
   "metadata": {},
   "outputs": [
    {
     "name": "stdout",
     "output_type": "stream",
     "text": [
      "iter 0: loss = 1297.109 time = 1.156 seconds\n",
      "iter 500: loss = -429.729 time = 15.179 seconds\n",
      "iter 1000: loss = -435.044 time = 15.366 seconds\n",
      "iter 1500: loss = -437.356 time = 15.339 seconds\n",
      "iter 2000: loss = -440.156 time = 15.366 seconds\n",
      "iter 2500: loss = -441.085 time = 15.870 seconds\n",
      "iter 3000: loss = -443.810 time = 15.586 seconds\n",
      "iter 3500: loss = -443.637 time = 15.585 seconds\n",
      "iter 4000: loss = -445.045 time = 15.557 seconds\n",
      "iter 4500: loss = -445.339 time = 15.526 seconds\n",
      "iter 5000: loss = -445.850 time = 15.513 seconds\n"
     ]
    }
   ],
   "source": [
    "batch_size = 256\n",
    "optimizer = tr.optim.Adam([p for p in flow.parameters() if p.requires_grad==True], lr=1e-4)\n",
    "tic=time.perf_counter()\n",
    "for t in range(5001):   \n",
    "    #with torch.no_grad():\n",
    "    z = prior.sample((batch_size, 1)).squeeze()\n",
    "    x = flow.g(z) # generate a sample\n",
    "    loss = (flow.log_prob(x)+action(x.view(batch_size,L,L))).mean() # KL divergence (or not?)\n",
    "    optimizer.zero_grad()\n",
    "    loss.backward(retain_graph=True)\n",
    "    optimizer.step() \n",
    "    if t % 500 == 0:\n",
    "        toc=time.perf_counter()\n",
    "        #print(z.shape)\n",
    "        print('iter %s:' % t, 'loss = %.3f' % loss,'time = %.3f' % (toc-tic),'seconds')\n",
    "        tic=time.perf_counter()"
   ]
  },
  {
   "cell_type": "code",
   "execution_count": 11,
   "id": "8bc34970-6abe-4dad-9169-1c12d2e4649a",
   "metadata": {},
   "outputs": [
    {
     "data": {
      "text/plain": [
       "(torch.Size([256]), torch.Size([256]))"
      ]
     },
     "execution_count": 11,
     "metadata": {},
     "output_type": "execute_result"
    }
   ],
   "source": [
    "z = prior.sample((batch_size, 1)).squeeze()\n",
    "x = flow.g(z)\n",
    "x.shape\n",
    "x,j = flow.f(z)\n",
    "prior.log_prob(z).shape,j.shape"
   ]
  },
  {
   "cell_type": "code",
   "execution_count": 12,
   "id": "122ec0ce-1421-403a-8542-b36ba0c128ca",
   "metadata": {},
   "outputs": [],
   "source": [
    "z = prior.sample((10, 1)).squeeze()\n",
    "x = flow.g(z)"
   ]
  },
  {
   "cell_type": "code",
   "execution_count": 13,
   "id": "88411847-c3b4-4e19-bac9-41ed982730d6",
   "metadata": {},
   "outputs": [],
   "source": [
    "zz,j=flow.f(x)"
   ]
  },
  {
   "cell_type": "code",
   "execution_count": 14,
   "id": "79333093-f1a4-4c6a-aa56-01bcfffd5cb9",
   "metadata": {},
   "outputs": [
    {
     "name": "stdout",
     "output_type": "stream",
     "text": [
      "True False\n"
     ]
    }
   ],
   "source": [
    "print(zz.requires_grad,z.requires_grad)"
   ]
  },
  {
   "cell_type": "code",
   "execution_count": 15,
   "id": "9f380ba6-7b78-45b3-983b-7249ba5a0d5f",
   "metadata": {},
   "outputs": [
    {
     "name": "stdout",
     "output_type": "stream",
     "text": [
      "tensor(3.7317e-06, device='mps:0', grad_fn=<DivBackward0>)\n"
     ]
    }
   ],
   "source": [
    "print(tr.sum(tr.abs(zz-z))/V)"
   ]
  },
  {
   "cell_type": "code",
   "execution_count": 16,
   "id": "34ebef39-138f-43e9-b5c4-f6b10a0e51e2",
   "metadata": {},
   "outputs": [
    {
     "name": "stdout",
     "output_type": "stream",
     "text": [
      "tensor([-446.4604, -450.7317, -448.6096, -444.6945, -437.8997, -437.4899,\n",
      "        -446.0758, -440.6611, -446.4775, -437.6321], device='mps:0',\n",
      "       grad_fn=<AddBackward0>)\n"
     ]
    }
   ],
   "source": [
    "diff = action(x.view(x.shape[0],L,L))+flow.log_prob(x)\n",
    "print(diff)"
   ]
  },
  {
   "cell_type": "code",
   "execution_count": 17,
   "id": "d7a106cd-f3dc-4655-92d1-2d0b2594d465",
   "metadata": {},
   "outputs": [
    {
     "name": "stdout",
     "output_type": "stream",
     "text": [
      "tensor([-2.7872, -7.0584, -4.9364, -1.0212,  5.7736,  6.1833, -2.4026,  3.0121,\n",
      "        -2.8043,  6.0412], device='mps:0', grad_fn=<SubBackward0>)\n"
     ]
    }
   ],
   "source": [
    "print(diff - diff.mean())"
   ]
  },
  {
   "cell_type": "code",
   "execution_count": 18,
   "id": "ecd05c4c-33f9-40c1-a1c2-c60a9369cfad",
   "metadata": {},
   "outputs": [
    {
     "data": {
      "text/plain": [
       "tensor(5.3809, device='mps:0', grad_fn=<StdBackward0>)"
      ]
     },
     "execution_count": 18,
     "metadata": {},
     "output_type": "execute_result"
    }
   ],
   "source": [
    "z = prior.sample((2000, 1)).squeeze()\n",
    "xz = flow.g(z).detach()\n",
    "diff = action(xz.view(xz.shape[0],L,L))+flow.log_prob(xz)\n",
    "diff.std()"
   ]
  },
  {
   "cell_type": "code",
   "execution_count": 19,
   "id": "df62867b-1cbf-45e2-885f-c484672d87d9",
   "metadata": {},
   "outputs": [
    {
     "data": {
      "text/plain": [
       "<matplotlib.collections.PathCollection at 0x177b6b860>"
      ]
     },
     "execution_count": 19,
     "metadata": {},
     "output_type": "execute_result"
    },
    {
     "data": {
      "image/png": "[encoded data removed]",
      "text/plain": [
       "<Figure size 640x480 with 1 Axes>"
      ]
     },
     "metadata": {},
     "output_type": "display_data"
    }
   ],
   "source": [
    "x = flow.sample(2000).detach().cpu().numpy()\n",
    "plt.scatter(x[:, 0,0], x[:, 0,1], c='r')"
   ]
  },
  {
   "cell_type": "code",
   "execution_count": null,
   "id": "67fc819a-fbcf-4f76-a0e4-647a99b87482",
   "metadata": {},
   "outputs": [],
   "source": []
  },
  {
   "cell_type": "code",
   "execution_count": 20,
   "id": "dd9565d1-68a6-4897-8bfd-76f0b853bb0f",
   "metadata": {},
   "outputs": [],
   "source": [
    "m_diff = diff.mean()\n",
    "diff -= m_diff"
   ]
  },
  {
   "cell_type": "code",
   "execution_count": 21,
   "id": "d04541b9-8737-40dd-af8a-3907dfba4176",
   "metadata": {},
   "outputs": [
    {
     "name": "stdout",
     "output_type": "stream",
     "text": [
      "max  action diff:  21.723114\n",
      "min  action diff:  0.005340576\n",
      "mean action diff:  -446.0355\n",
      "std  action diff:  5.380913\n"
     ]
    }
   ],
   "source": [
    "print(\"max  action diff: \", tr.max(diff.abs()).cpu().detach().numpy())\n",
    "print(\"min  action diff: \", tr.min(diff.abs()).cpu().detach().numpy())\n",
    "print(\"mean action diff: \", m_diff.detach().cpu().detach().numpy())\n",
    "print(\"std  action diff: \", diff.std().cpu().detach().numpy())"
   ]
  },
  {
   "cell_type": "code",
   "execution_count": 22,
   "id": "73beb8d6-10e3-4639-92c4-63e074ca38b9",
   "metadata": {},
   "outputs": [
    {
     "name": "stdout",
     "output_type": "stream",
     "text": [
      "mean re-weighting factor:  0.99999994\n",
      "std  re-weighting factor:  14.8558235\n"
     ]
    }
   ],
   "source": [
    "foo = tr.exp(-diff)\n",
    "#print(foo)\n",
    "w = foo/tr.mean(foo)\n",
    "\n",
    "print(\"mean re-weighting factor: \" , w.mean().cpu().detach().numpy())\n",
    "print(\"std  re-weighting factor: \" , w.std().cpu().detach().numpy())\n",
    "\n"
   ]
  },
  {
   "cell_type": "code",
   "execution_count": 23,
   "id": "0a48529b-ff0f-48c6-ab1e-375496b9d26f",
   "metadata": {},
   "outputs": [
    {
     "data": {
      "image/png": "[encoded data removed]",
      "text/plain": [
       "<Figure size 640x480 with 1 Axes>"
      ]
     },
     "metadata": {},
     "output_type": "display_data"
    }
   ],
   "source": [
    "logbins = np.logspace(np.log10(5e-2),np.log10(5e1),int(w.shape[0]/10))\n",
    "plt.hist(w.detach().cpu(),bins=logbins)\n",
    "plt.xscale('log')"
   ]
  },
  {
   "cell_type": "code",
   "execution_count": 24,
   "id": "68b633cc-ed25-4032-b204-28a5ac5748d5",
   "metadata": {},
   "outputs": [
    {
     "name": "stdout",
     "output_type": "stream",
     "text": [
      "parameter count:  50368512\n"
     ]
    }
   ],
   "source": [
    "c=0\n",
    "for tt in flow.parameters():\n",
    "    #print(tt.shape)\n",
    "    if tt.requires_grad==True :\n",
    "        c+=tt.numel()\n",
    "        \n",
    "print(\"parameter count: \",c)"
   ]
  },
  {
   "cell_type": "code",
   "execution_count": null,
   "id": "9845c649-2ec2-4ea6-a1de-7f2b636afdaf",
   "metadata": {},
   "outputs": [],
   "source": []
  },
  {
   "cell_type": "code",
   "execution_count": null,
   "id": "e5e9ba77-8aaf-48f7-a665-fd399950d8ba",
   "metadata": {},
   "outputs": [],
   "source": []
  }
 ],
 "metadata": {
  "kernelspec": {
   "display_name": "Python 3 (ipykernel)",
   "language": "python",
   "name": "python3"
  },
  "language_info": {
   "codemirror_mode": {
    "name": "ipython",
    "version": 3
   },
   "file_extension": ".py",
   "mimetype": "text/x-python",
   "name": "python",
   "nbconvert_exporter": "python",
   "pygments_lexer": "ipython3",
   "version": "3.12.3"
  }
 },
 "nbformat": 4,
 "nbformat_minor": 5
}
