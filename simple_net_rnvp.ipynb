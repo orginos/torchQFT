{
 "cells": [
  {
   "cell_type": "code",
   "execution_count": 1,
   "id": "113f0522-7251-4ed8-9e2f-867f4d5462f6",
   "metadata": {},
   "outputs": [],
   "source": [
    "import torch as tr\n",
    "import torch.nn as nn\n",
    "import torch.nn.functional as F\n",
    "from torch import distributions\n",
    "from torch.nn.parameter import Parameter\n",
    "import normflows as nf\n",
    "from tqdm import tqdm\n",
    "\n",
    "import numpy as np\n",
    "\n",
    "import matplotlib.pyplot as plt\n",
    "%matplotlib inline"
   ]
  },
  {
   "cell_type": "code",
   "execution_count": 2,
   "id": "e9ac163a-b18f-40fb-bb31-138657440ea6",
   "metadata": {},
   "outputs": [],
   "source": [
    "L=8 # the length of the lattice which is going to be L x L torus\n",
    "V=L*L # the volume"
   ]
  },
  {
   "cell_type": "code",
   "execution_count": 3,
   "id": "aefe5de4-a641-46c7-a445-2494c2e3ff27",
   "metadata": {},
   "outputs": [
    {
     "data": {
      "text/plain": [
       "array([[0, 1, 0, 1, 0, 1, 0, 1],\n",
       "       [1, 0, 1, 0, 1, 0, 1, 0],\n",
       "       [0, 1, 0, 1, 0, 1, 0, 1],\n",
       "       [1, 0, 1, 0, 1, 0, 1, 0],\n",
       "       [0, 1, 0, 1, 0, 1, 0, 1],\n",
       "       [1, 0, 1, 0, 1, 0, 1, 0],\n",
       "       [0, 1, 0, 1, 0, 1, 0, 1],\n",
       "       [1, 0, 1, 0, 1, 0, 1, 0]])"
      ]
     },
     "execution_count": 3,
     "metadata": {},
     "output_type": "execute_result"
    }
   ],
   "source": [
    "X = np.array(np.arange(L))[:,np.newaxis]\n",
    "Y = np.array(np.arange(L))[np.newaxis,:]\n",
    "#X = X[:,np.newaxis]\n",
    "\n",
    "X = np.repeat(X,L,axis=1)\n",
    "Y = np.repeat(Y,L,axis=0)\n",
    "mm = (X+Y)%2\n",
    "mm"
   ]
  },
  {
   "cell_type": "code",
   "execution_count": 4,
   "id": "30e79661-d57b-464f-8d93-0cb4d0471be8",
   "metadata": {},
   "outputs": [],
   "source": [
    "lm = mm.reshape(V) # the mask"
   ]
  },
  {
   "cell_type": "code",
   "execution_count": 5,
   "id": "589efdf6-2494-462c-8433-e58a8b342db9",
   "metadata": {},
   "outputs": [],
   "source": [
    "latent_size=V"
   ]
  },
  {
   "cell_type": "code",
   "execution_count": 6,
   "id": "2a042835-b64d-4740-9424-dc1668fd1e75",
   "metadata": {},
   "outputs": [],
   "source": [
    "b = tr.Tensor([1 if i % 2 == 0 else 0 for i in range(latent_size)])\n",
    "K=16"
   ]
  },
  {
   "cell_type": "code",
   "execution_count": 7,
   "id": "df631411-e1ec-419b-939c-9e42e6f9e5e1",
   "metadata": {},
   "outputs": [],
   "source": [
    "flows = []\n",
    "for i in range(K):\n",
    "    s = nf.nets.MLP([latent_size, 2 * latent_size, latent_size], init_zeros=True)\n",
    "    t = nf.nets.MLP([latent_size, 2 * latent_size, latent_size], init_zeros=True)\n",
    "    if i % 2 == 0:\n",
    "        flows += [nf.flows.MaskedAffineFlow(b, t, s)]\n",
    "    else:\n",
    "        flows += [nf.flows.MaskedAffineFlow(1 - b, t, s)]\n",
    "    flows += [nf.flows.ActNorm(latent_size)]\n"
   ]
  },
  {
   "cell_type": "code",
   "execution_count": 8,
   "id": "ad24d007-68a9-471d-934a-dba2cd895a38",
   "metadata": {},
   "outputs": [],
   "source": [
    "class phi4(nn.Module):\n",
    "    \"\"\"\n",
    "    Two-dimensional scalar phi4\n",
    "    \"\"\"\n",
    "\n",
    "    def __init__(self, mass, lam,lat, Nd=2):\n",
    "        \"\"\"Constructor\n",
    "        Args:\n",
    "          n_modes: Number of modes\n",
    "        \"\"\"\n",
    "        super(phi4, self).__init__()\n",
    "        self.mass = 2*Nd+mass\n",
    "        self.Nd = Nd\n",
    "        self.lam = lam\n",
    "        self.lat = lat\n",
    "        self.V = np.prod(lat)\n",
    "        #self.register_buffer(\n",
    "        #    \"scale\", torch.tensor(2 / 3 * np.sin(np.pi / self.n_modes)).float()\n",
    "        #)\n",
    "\n",
    "    def log_prob(self, x):\n",
    "        b=x.shape[0]\n",
    "        xx = x.view(b,self.lat[0],self.lat[1])\n",
    "        A = 0.5*self.mass*tr.sum(x*x,dim=1) + (self.lam/24.0)*tr.sum(x*x*x*x,dim=1)\n",
    "        \n",
    "        for mu in range(1,self.Nd+1):\n",
    "            A = A - tr.sum((xx*tr.roll(xx,shifts=-1,dims=mu)).view(b,self.V),dim=1)\n",
    "        return -A\n",
    "\n",
    "    def sample(self, num_samples=1):\n",
    "        return tr.zeros(100,num_samples)"
   ]
  },
  {
   "cell_type": "code",
   "execution_count": 9,
   "id": "1558319d-97bd-4c35-ba07-5475e215933a",
   "metadata": {},
   "outputs": [],
   "source": [
    "p4=phi4(-0.2,0.5,[L,L])\n",
    "base = nf.distributions.base.DiagGaussian(V)\n",
    "model = nf.NormalizingFlow(base, flows,p4)\n",
    "# Train model\n",
    "max_iter = 10000\n",
    "batch_size = 2 ** 12\n",
    "show_iter = 500\n",
    "loss_hist = np.array([])\n",
    "optimizer = tr.optim.Adam(model.parameters(), lr=5e-4, weight_decay=1e-5)\n",
    "\n",
    "\n",
    "optimizer.zero_grad()\n",
    "loss = model.reverse_kld(num_samples=batch_size)"
   ]
  },
  {
   "cell_type": "code",
   "execution_count": 10,
   "id": "511fcc03-9512-409f-9e57-01ba67d7486d",
   "metadata": {},
   "outputs": [
    {
     "name": "stdout",
     "output_type": "stream",
     "text": [
      "2.3286171e-07\n"
     ]
    }
   ],
   "source": [
    "#check reversibility\n",
    "z = base.sample(10)\n",
    "x=model(z)\n",
    "zz=model.inverse(x)\n",
    "print(tr.abs(z-zz).mean().detach().numpy())"
   ]
  },
  {
   "cell_type": "code",
   "execution_count": 11,
   "id": "4d4279c1-1dac-46d4-8bde-e0b5e70d55e2",
   "metadata": {},
   "outputs": [],
   "source": [
    "loss_hist = np.array([])"
   ]
  },
  {
   "cell_type": "code",
   "execution_count": 12,
   "id": "32bfaec5-581c-431d-80b6-02879a636471",
   "metadata": {},
   "outputs": [
    {
     "name": "stderr",
     "output_type": "stream",
     "text": [
      " 12%|█████████████▎                                                                                                   | 1175/10000 [03:42<27:54,  5.27it/s]\n"
     ]
    },
    {
     "ename": "KeyboardInterrupt",
     "evalue": "",
     "output_type": "error",
     "traceback": [
      "\u001b[0;31m---------------------------------------------------------------------------\u001b[0m",
      "\u001b[0;31mKeyboardInterrupt\u001b[0m                         Traceback (most recent call last)",
      "Cell \u001b[0;32mIn [12], line 3\u001b[0m\n\u001b[1;32m      1\u001b[0m \u001b[38;5;28;01mfor\u001b[39;00m it \u001b[38;5;129;01min\u001b[39;00m tqdm(\u001b[38;5;28mrange\u001b[39m(max_iter)):\n\u001b[1;32m      2\u001b[0m     optimizer\u001b[38;5;241m.\u001b[39mzero_grad()\n\u001b[0;32m----> 3\u001b[0m     loss \u001b[38;5;241m=\u001b[39m \u001b[43mmodel\u001b[49m\u001b[38;5;241;43m.\u001b[39;49m\u001b[43mreverse_kld\u001b[49m\u001b[43m(\u001b[49m\u001b[43mnum_samples\u001b[49m\u001b[38;5;241;43m=\u001b[39;49m\u001b[43mbatch_size\u001b[49m\u001b[43m)\u001b[49m\n\u001b[1;32m      4\u001b[0m     loss_hist \u001b[38;5;241m=\u001b[39m np\u001b[38;5;241m.\u001b[39mappend(loss_hist,loss\u001b[38;5;241m.\u001b[39mto(\u001b[38;5;124m'\u001b[39m\u001b[38;5;124mcpu\u001b[39m\u001b[38;5;124m'\u001b[39m)\u001b[38;5;241m.\u001b[39mdata\u001b[38;5;241m.\u001b[39mnumpy())\n\u001b[1;32m      5\u001b[0m     \u001b[38;5;66;03m# Optimization as usual\u001b[39;00m\n",
      "File \u001b[0;32m/opt/homebrew/lib/python3.10/site-packages/normflows/core.py:119\u001b[0m, in \u001b[0;36mNormalizingFlow.reverse_kld\u001b[0;34m(self, num_samples, beta, score_fn)\u001b[0m\n\u001b[1;32m    117\u001b[0m log_q \u001b[38;5;241m+\u001b[39m\u001b[38;5;241m=\u001b[39m log_q_\n\u001b[1;32m    118\u001b[0m \u001b[38;5;28;01mfor\u001b[39;00m flow \u001b[38;5;129;01min\u001b[39;00m \u001b[38;5;28mself\u001b[39m\u001b[38;5;241m.\u001b[39mflows:\n\u001b[0;32m--> 119\u001b[0m     z, log_det \u001b[38;5;241m=\u001b[39m \u001b[43mflow\u001b[49m\u001b[43m(\u001b[49m\u001b[43mz\u001b[49m\u001b[43m)\u001b[49m\n\u001b[1;32m    120\u001b[0m     log_q \u001b[38;5;241m-\u001b[39m\u001b[38;5;241m=\u001b[39m log_det\n\u001b[1;32m    121\u001b[0m \u001b[38;5;28;01mif\u001b[39;00m \u001b[38;5;129;01mnot\u001b[39;00m score_fn:\n",
      "File \u001b[0;32m/opt/homebrew/lib/python3.10/site-packages/torch/nn/modules/module.py:1501\u001b[0m, in \u001b[0;36mModule._call_impl\u001b[0;34m(self, *args, **kwargs)\u001b[0m\n\u001b[1;32m   1496\u001b[0m \u001b[38;5;66;03m# If we don't have any hooks, we want to skip the rest of the logic in\u001b[39;00m\n\u001b[1;32m   1497\u001b[0m \u001b[38;5;66;03m# this function, and just call forward.\u001b[39;00m\n\u001b[1;32m   1498\u001b[0m \u001b[38;5;28;01mif\u001b[39;00m \u001b[38;5;129;01mnot\u001b[39;00m (\u001b[38;5;28mself\u001b[39m\u001b[38;5;241m.\u001b[39m_backward_hooks \u001b[38;5;129;01mor\u001b[39;00m \u001b[38;5;28mself\u001b[39m\u001b[38;5;241m.\u001b[39m_backward_pre_hooks \u001b[38;5;129;01mor\u001b[39;00m \u001b[38;5;28mself\u001b[39m\u001b[38;5;241m.\u001b[39m_forward_hooks \u001b[38;5;129;01mor\u001b[39;00m \u001b[38;5;28mself\u001b[39m\u001b[38;5;241m.\u001b[39m_forward_pre_hooks\n\u001b[1;32m   1499\u001b[0m         \u001b[38;5;129;01mor\u001b[39;00m _global_backward_pre_hooks \u001b[38;5;129;01mor\u001b[39;00m _global_backward_hooks\n\u001b[1;32m   1500\u001b[0m         \u001b[38;5;129;01mor\u001b[39;00m _global_forward_hooks \u001b[38;5;129;01mor\u001b[39;00m _global_forward_pre_hooks):\n\u001b[0;32m-> 1501\u001b[0m     \u001b[38;5;28;01mreturn\u001b[39;00m \u001b[43mforward_call\u001b[49m\u001b[43m(\u001b[49m\u001b[38;5;241;43m*\u001b[39;49m\u001b[43margs\u001b[49m\u001b[43m,\u001b[49m\u001b[43m \u001b[49m\u001b[38;5;241;43m*\u001b[39;49m\u001b[38;5;241;43m*\u001b[39;49m\u001b[43mkwargs\u001b[49m\u001b[43m)\u001b[49m\n\u001b[1;32m   1502\u001b[0m \u001b[38;5;66;03m# Do not call functions when jit is used\u001b[39;00m\n\u001b[1;32m   1503\u001b[0m full_backward_hooks, non_full_backward_hooks \u001b[38;5;241m=\u001b[39m [], []\n",
      "File \u001b[0;32m/opt/homebrew/lib/python3.10/site-packages/normflows/flows/affine/coupling.py:215\u001b[0m, in \u001b[0;36mMaskedAffineFlow.forward\u001b[0;34m(self, z)\u001b[0m\n\u001b[1;32m    213\u001b[0m scale \u001b[38;5;241m=\u001b[39m torch\u001b[38;5;241m.\u001b[39mwhere(torch\u001b[38;5;241m.\u001b[39misfinite(scale), scale, nan)\n\u001b[1;32m    214\u001b[0m trans \u001b[38;5;241m=\u001b[39m \u001b[38;5;28mself\u001b[39m\u001b[38;5;241m.\u001b[39mt(z_masked)\n\u001b[0;32m--> 215\u001b[0m trans \u001b[38;5;241m=\u001b[39m torch\u001b[38;5;241m.\u001b[39mwhere(\u001b[43mtorch\u001b[49m\u001b[38;5;241;43m.\u001b[39;49m\u001b[43misfinite\u001b[49m\u001b[43m(\u001b[49m\u001b[43mtrans\u001b[49m\u001b[43m)\u001b[49m, trans, nan)\n\u001b[1;32m    216\u001b[0m z_ \u001b[38;5;241m=\u001b[39m z_masked \u001b[38;5;241m+\u001b[39m (\u001b[38;5;241m1\u001b[39m \u001b[38;5;241m-\u001b[39m \u001b[38;5;28mself\u001b[39m\u001b[38;5;241m.\u001b[39mb) \u001b[38;5;241m*\u001b[39m (z \u001b[38;5;241m*\u001b[39m torch\u001b[38;5;241m.\u001b[39mexp(scale) \u001b[38;5;241m+\u001b[39m trans)\n\u001b[1;32m    217\u001b[0m log_det \u001b[38;5;241m=\u001b[39m torch\u001b[38;5;241m.\u001b[39msum((\u001b[38;5;241m1\u001b[39m \u001b[38;5;241m-\u001b[39m \u001b[38;5;28mself\u001b[39m\u001b[38;5;241m.\u001b[39mb) \u001b[38;5;241m*\u001b[39m scale, dim\u001b[38;5;241m=\u001b[39m\u001b[38;5;28mlist\u001b[39m(\u001b[38;5;28mrange\u001b[39m(\u001b[38;5;241m1\u001b[39m, \u001b[38;5;28mself\u001b[39m\u001b[38;5;241m.\u001b[39mb\u001b[38;5;241m.\u001b[39mdim())))\n",
      "\u001b[0;31mKeyboardInterrupt\u001b[0m: "
     ]
    }
   ],
   "source": [
    "for it in tqdm(range(max_iter)):\n",
    "    optimizer.zero_grad()\n",
    "    loss = model.reverse_kld(num_samples=batch_size)\n",
    "    loss_hist = np.append(loss_hist,loss.to('cpu').data.numpy())\n",
    "    # Optimization as usual\n",
    "    loss.backward()\n",
    "    optimizer.step()\n",
    "    \n",
    "plt.plot(np.arange(loss_hist.size),loss_hist)\n",
    "    "
   ]
  },
  {
   "cell_type": "code",
   "execution_count": 40,
   "id": "a2a81405-73d9-4df0-b245-69647ac87a79",
   "metadata": {},
   "outputs": [],
   "source": [
    "(x,logp)=model.sample(4096)"
   ]
  },
  {
   "cell_type": "code",
   "execution_count": 41,
   "id": "2bfdba13-cd42-4bf4-a14c-27a06357d586",
   "metadata": {},
   "outputs": [],
   "source": [
    "diff=-p4.log_prob(x) + logp"
   ]
  },
  {
   "cell_type": "code",
   "execution_count": 42,
   "id": "dd9565d1-68a6-4897-8bfd-76f0b853bb0f",
   "metadata": {},
   "outputs": [],
   "source": [
    "m_diff = diff.mean()\n",
    "diff -= m_diff"
   ]
  },
  {
   "cell_type": "code",
   "execution_count": 43,
   "id": "ad6fa9fb-65ce-4b84-b0d4-84eec2280ead",
   "metadata": {},
   "outputs": [
    {
     "name": "stdout",
     "output_type": "stream",
     "text": [
      "max  action diff:  1.9300842\n",
      "min  action diff:  0.000118255615\n",
      "mean action diff:  -25.6992\n",
      "std  action diff:  0.38648328\n"
     ]
    }
   ],
   "source": [
    "\n",
    "print(\"max  action diff: \", tr.max(diff.abs()).detach().numpy())\n",
    "print(\"min  action diff: \", tr.min(diff.abs()).detach().numpy())\n",
    "print(\"mean action diff: \", m_diff.detach().detach().numpy())\n",
    "print(\"std  action diff: \", diff.std().detach().numpy())"
   ]
  },
  {
   "cell_type": "code",
   "execution_count": 44,
   "id": "8c38b3f4-ecfe-4578-bbe8-a29554aa59ac",
   "metadata": {},
   "outputs": [
    {
     "name": "stdout",
     "output_type": "stream",
     "text": [
      "mean re-weighting factor:  1.0000001\n",
      "std  re-weighting factor:  0.39944205\n"
     ]
    }
   ],
   "source": [
    "foo = tr.exp(-diff)\n",
    "#print(foo)\n",
    "w = foo/tr.mean(foo)\n",
    "\n",
    "print(\"mean re-weighting factor: \" , w.mean().detach().numpy())\n",
    "print(\"std  re-weighting factor: \" , w.std().detach().numpy())\n"
   ]
  },
  {
   "cell_type": "code",
   "execution_count": 45,
   "id": "d18b6ebf-e2ea-4927-87dd-6cb0bb484cf1",
   "metadata": {},
   "outputs": [
    {
     "data": {
      "image/png": "[encoded data removed]",
      "text/plain": [
       "<Figure size 640x480 with 1 Axes>"
      ]
     },
     "metadata": {},
     "output_type": "display_data"
    }
   ],
   "source": [
    "logbins = np.logspace(np.log10(5e-2),np.log10(5e1),int(w.shape[0]/10))\n",
    "plt.hist(w.detach(),bins=logbins)\n",
    "plt.xscale('log')"
   ]
  },
  {
   "cell_type": "code",
   "execution_count": 46,
   "id": "782cdfbc-57f8-4fba-b6b7-3efb3a3925ed",
   "metadata": {},
   "outputs": [
    {
     "name": "stdout",
     "output_type": "stream",
     "text": [
      "parameter count:  532608\n"
     ]
    }
   ],
   "source": [
    "c=0\n",
    "for tt in model.parameters():\n",
    "    #print(tt.shape)\n",
    "    if tt.requires_grad==True :\n",
    "        c+=tt.numel()\n",
    "        \n",
    "print(\"parameter count: \",c)"
   ]
  },
  {
   "cell_type": "code",
   "execution_count": null,
   "id": "ffe583aa-3410-408f-9e7f-c24cf7a1b33a",
   "metadata": {},
   "outputs": [],
   "source": []
  }
 ],
 "metadata": {
  "kernelspec": {
   "display_name": "Python 3 (ipykernel)",
   "language": "python",
   "name": "python3"
  },
  "language_info": {
   "codemirror_mode": {
    "name": "ipython",
    "version": 3
   },
   "file_extension": ".py",
   "mimetype": "text/x-python",
   "name": "python",
   "nbconvert_exporter": "python",
   "pygments_lexer": "ipython3",
   "version": "3.11.3"
  }
 },
 "nbformat": 4,
 "nbformat_minor": 5
}
