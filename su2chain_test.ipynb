{
 "cells": [
  {
   "cell_type": "code",
   "execution_count": 1,
   "id": "0744e8be-5076-454c-bd32-921126a68463",
   "metadata": {},
   "outputs": [],
   "source": [
    "import torch as tr\n",
    "import numpy as np\n",
    "import su2_chain as s\n",
    "import integrators as integ"
   ]
  },
  {
   "cell_type": "code",
   "execution_count": 2,
   "id": "88295c31-e791-46d0-8765-4e507dc9a63f",
   "metadata": {},
   "outputs": [
    {
     "name": "stdout",
     "output_type": "stream",
     "text": [
      "tensor([-0.9841, -1.4684, -0.3596, -0.8637])\n",
      "tensor([[-0.4920-0.4318j,  0.1798-0.7342j],\n",
      "        [-0.1798-0.7342j, -0.4920+0.4318j]])\n",
      "Should be identity\n",
      "tensor([[1.0000-5.9428e-09j, 0.0000-2.9802e-08j],\n",
      "        [0.0000-2.9802e-08j, 1.0000+5.9428e-09j]])\n"
     ]
    }
   ],
   "source": [
    "a = tr.normal(0.0,2.0,[4])\n",
    "a = 2*a/tr.norm(a)\n",
    "print(a)\n",
    "U = s.Mat(a) #tr.sum(a[:,None,None] * basis,dim=0)\n",
    "print(U)\n",
    "print(\"Should be identity\")\n",
    "print(s.TdxT(U,U))"
   ]
  },
  {
   "cell_type": "code",
   "execution_count": 3,
   "id": "9e3c4036-6611-4d19-8552-3bb2a09c4b7a",
   "metadata": {},
   "outputs": [
    {
     "name": "stdout",
     "output_type": "stream",
     "text": [
      "tensor([ 0.0308, -1.9323, -0.5043, -0.1052])\n",
      "tensor([[ 0.0154-0.0526j,  0.2521-0.9661j],\n",
      "        [-0.2521-0.9661j,  0.0154+0.0526j]])\n",
      "Should be identity\n",
      "tensor([[1.-2.4296e-09j, 0.+4.6566e-10j],\n",
      "        [0.+4.6566e-10j, 1.+2.4296e-09j]])\n"
     ]
    }
   ],
   "source": [
    "b = tr.normal(0.0,2.0,[4])\n",
    "b = 2*b/tr.norm(b)\n",
    "print(b)\n",
    "V = s.Mat(b) #tr.sum(a[:,None,None] * basis,dim=0)\n",
    "print(V)\n",
    "print(\"Should be identity\")\n",
    "print(s.TdxT(V,V))"
   ]
  },
  {
   "cell_type": "code",
   "execution_count": 4,
   "id": "57a5a0dd-d8fd-4ee4-a4c0-9a9dbc91a478",
   "metadata": {},
   "outputs": [
    {
     "data": {
      "text/plain": [
       "-5.960464477539063e-08"
      ]
     },
     "execution_count": 4,
     "metadata": {},
     "output_type": "execute_result"
    }
   ],
   "source": [
    "tr.trace(U@tr.conj(V.T)).real.item()/2-(a@b/4).item()"
   ]
  },
  {
   "cell_type": "code",
   "execution_count": 5,
   "id": "8cd48d5b-c9b3-4964-951d-196c6fea04ad",
   "metadata": {},
   "outputs": [],
   "source": [
    "su2f = s.field([128,128],Nbatch=10)"
   ]
  },
  {
   "cell_type": "code",
   "execution_count": 6,
   "id": "369d3d98-6656-4109-9841-c6761fe1e52b",
   "metadata": {},
   "outputs": [],
   "source": [
    "su2c = s.SU2chain(beta=3.0,field_type=su2f)"
   ]
  },
  {
   "cell_type": "code",
   "execution_count": 7,
   "id": "01e8b7cb-aeb1-41c3-8683-8bdbb0cce567",
   "metadata": {},
   "outputs": [],
   "source": [
    "P = su2c.refreshP()"
   ]
  },
  {
   "cell_type": "code",
   "execution_count": 8,
   "id": "9823270b-5e80-4c35-b79f-7669d9f6b80b",
   "metadata": {},
   "outputs": [
    {
     "data": {
      "text/plain": [
       "torch.Size([10, 128, 128, 2, 2])"
      ]
     },
     "execution_count": 8,
     "metadata": {},
     "output_type": "execute_result"
    }
   ],
   "source": [
    "U =su2c.f.hot()\n",
    "U.shape"
   ]
  },
  {
   "cell_type": "code",
   "execution_count": 9,
   "id": "3203175a-7ffd-48ad-be92-368b0a35aec1",
   "metadata": {},
   "outputs": [],
   "source": [
    "a= su2c.f.coeffs(U)"
   ]
  },
  {
   "cell_type": "code",
   "execution_count": 10,
   "id": "62272407-c78d-4df9-8db9-0bef3216da08",
   "metadata": {},
   "outputs": [
    {
     "data": {
      "text/plain": [
       "torch.Size([10, 128, 128, 4])"
      ]
     },
     "execution_count": 10,
     "metadata": {},
     "output_type": "execute_result"
    }
   ],
   "source": [
    "a.shape"
   ]
  },
  {
   "cell_type": "code",
   "execution_count": 11,
   "id": "41ad8cbf-f66b-4b2c-a65a-bc638fb935e3",
   "metadata": {},
   "outputs": [
    {
     "data": {
      "text/plain": [
       "tensor([[0.+0.j, 0.+0.j],\n",
       "        [0.+0.j, 0.+0.j]])"
      ]
     },
     "execution_count": 11,
     "metadata": {},
     "output_type": "execute_result"
    }
   ],
   "source": [
    "s.Mat(a[0,0,0,:])- U[0,0,0,:,:]"
   ]
  },
  {
   "cell_type": "code",
   "execution_count": 12,
   "id": "2dc0c964-9ea8-4ebe-a09a-69842c77ff4e",
   "metadata": {},
   "outputs": [],
   "source": [
    "FF = su2c.f.mat(a)"
   ]
  },
  {
   "cell_type": "code",
   "execution_count": 13,
   "id": "09c74c32-110c-4370-b3e6-d77de5132fb3",
   "metadata": {},
   "outputs": [
    {
     "data": {
      "text/plain": [
       "tensor(0.)"
      ]
     },
     "execution_count": 13,
     "metadata": {},
     "output_type": "execute_result"
    }
   ],
   "source": [
    "(FF-U).norm()"
   ]
  },
  {
   "cell_type": "code",
   "execution_count": 14,
   "id": "b9b46a87-fd6b-4ef3-806d-467dacc1fb93",
   "metadata": {},
   "outputs": [
    {
     "data": {
      "text/plain": [
       "torch.Size([10, 128, 128, 2, 2])"
      ]
     },
     "execution_count": 14,
     "metadata": {},
     "output_type": "execute_result"
    }
   ],
   "source": [
    "P.shape"
   ]
  },
  {
   "cell_type": "code",
   "execution_count": 15,
   "id": "11aed39b-69f4-491c-bd74-b6584b1003e3",
   "metadata": {},
   "outputs": [
    {
     "data": {
      "text/plain": [
       "(tensor(-6.7169e-05), tensor(0.5002), tensor(0.0005), tensor(0.5015))"
      ]
     },
     "execution_count": 15,
     "metadata": {},
     "output_type": "execute_result"
    }
   ],
   "source": [
    "P[...,1,0].real.mean(), P[...,1,0].real.std(),P[...,1,0].imag.mean(), P[...,1,0].imag.std()"
   ]
  },
  {
   "cell_type": "code",
   "execution_count": 16,
   "id": "6889c6ba-63b9-4ad5-928c-d8f79dec5027",
   "metadata": {},
   "outputs": [
    {
     "data": {
      "text/plain": [
       "(tensor(0.), tensor(0.), tensor(-0.0022), tensor(0.4989))"
      ]
     },
     "execution_count": 16,
     "metadata": {},
     "output_type": "execute_result"
    }
   ],
   "source": [
    "P[...,0,0].real.mean(), P[...,0,0].real.std(),P[...,0,0].imag.mean(), P[...,0,0].imag.std()"
   ]
  },
  {
   "cell_type": "code",
   "execution_count": 17,
   "id": "05881037-1595-4d65-986d-b39b9299f683",
   "metadata": {},
   "outputs": [
    {
     "data": {
      "text/plain": [
       "tensor(1.4142)"
      ]
     },
     "execution_count": 17,
     "metadata": {},
     "output_type": "execute_result"
    }
   ],
   "source": [
    "tr.sqrt(tr.tensor(2))"
   ]
  },
  {
   "cell_type": "code",
   "execution_count": 18,
   "id": "80fa2881-9c08-4afc-beab-61ddea71e157",
   "metadata": {},
   "outputs": [],
   "source": [
    "pp = 2.0*tr.einsum('kij,...ji->...k',s.tau,P)"
   ]
  },
  {
   "cell_type": "code",
   "execution_count": 19,
   "id": "024736f5-3902-4429-b71d-d0444b41e544",
   "metadata": {},
   "outputs": [
    {
     "data": {
      "text/plain": [
       "tensor([1.0029, 1.0004, 0.9978])"
      ]
     },
     "execution_count": 19,
     "metadata": {},
     "output_type": "execute_result"
    }
   ],
   "source": [
    "pp.real.std(dim=(0,1,2))"
   ]
  },
  {
   "cell_type": "code",
   "execution_count": 20,
   "id": "e10ccea2-d5b1-4377-bb3e-d24bd843f8de",
   "metadata": {},
   "outputs": [
    {
     "data": {
      "text/plain": [
       "torch.Size([10, 128, 128, 3])"
      ]
     },
     "execution_count": 20,
     "metadata": {},
     "output_type": "execute_result"
    }
   ],
   "source": [
    "pp.shape"
   ]
  },
  {
   "cell_type": "code",
   "execution_count": 21,
   "id": "26f75e01-a714-4f6b-804b-a38e33afd60b",
   "metadata": {},
   "outputs": [],
   "source": [
    "ff = -tr.einsum('...k,kij->...ij',pp,s.tau)"
   ]
  },
  {
   "cell_type": "code",
   "execution_count": 22,
   "id": "5a4c6821-974f-4cf6-812e-ba309df78681",
   "metadata": {},
   "outputs": [
    {
     "data": {
      "text/plain": [
       "tensor([[0.-2.9802e-08j, 0.+0.0000e+00j],\n",
       "        [0.+0.0000e+00j, -0.-2.9802e-08j]])"
      ]
     },
     "execution_count": 22,
     "metadata": {},
     "output_type": "execute_result"
    }
   ],
   "source": [
    "ff[0,0,0]-P[0,0,0]"
   ]
  },
  {
   "cell_type": "code",
   "execution_count": 23,
   "id": "14c855e8-514f-402e-8b6f-ff707f81ecba",
   "metadata": {},
   "outputs": [
    {
     "data": {
      "text/plain": [
       "tensor(0.+5.9605e-08j)"
      ]
     },
     "execution_count": 23,
     "metadata": {},
     "output_type": "execute_result"
    }
   ],
   "source": [
    "tr.trace(P[0,0,0])"
   ]
  },
  {
   "cell_type": "code",
   "execution_count": 24,
   "id": "947c6771-ef6a-4c71-b408-d2f4d45c4278",
   "metadata": {},
   "outputs": [
    {
     "data": {
      "text/plain": [
       "tensor(245942.3438)"
      ]
     },
     "execution_count": 24,
     "metadata": {},
     "output_type": "execute_result"
    }
   ],
   "source": [
    "tr.einsum('...ij,...ij->',P,P.conj()).real"
   ]
  },
  {
   "cell_type": "code",
   "execution_count": 25,
   "id": "53616e6a-0c02-482f-bbea-b66b2fc252c9",
   "metadata": {},
   "outputs": [
    {
     "data": {
      "text/plain": [
       "tensor(245942.3594+0.j)"
      ]
     },
     "execution_count": 25,
     "metadata": {},
     "output_type": "execute_result"
    }
   ],
   "source": [
    "tr.einsum('...k,...k->',pp,pp)/2"
   ]
  },
  {
   "cell_type": "code",
   "execution_count": 26,
   "id": "a4f3db83-06f5-45da-b670-98dd1ce2ad5a",
   "metadata": {},
   "outputs": [
    {
     "data": {
      "text/plain": [
       "tensor(2.7808e-05)"
      ]
     },
     "execution_count": 26,
     "metadata": {},
     "output_type": "execute_result"
    }
   ],
   "source": [
    "(tr.norm(P,dim=(su2c.f.ci[0],su2c.f.ci[1])) - tr.norm(pp,dim=(len(pp.shape)-1))/tr.sqrt(tr.tensor(2))).norm()"
   ]
  },
  {
   "cell_type": "code",
   "execution_count": 27,
   "id": "ecefdd20-fdfe-40ba-b8ac-a053e9ec9c33",
   "metadata": {},
   "outputs": [],
   "source": [
    "E = su2c.f.expo(P)"
   ]
  },
  {
   "cell_type": "code",
   "execution_count": 28,
   "id": "2b583a1e-b582-468e-8c56-39d9890566ed",
   "metadata": {},
   "outputs": [
    {
     "data": {
      "text/plain": [
       "tensor([[1.0000e+00+0.0000e+00j, 1.0811e-08-2.9802e-08j],\n",
       "        [1.0811e-08+2.9802e-08j, 1.0000e+00+0.0000e+00j]])"
      ]
     },
     "execution_count": 28,
     "metadata": {},
     "output_type": "execute_result"
    }
   ],
   "source": [
    "E[0,0,0] @ E[0,0,0].conj().transpose(0,1)"
   ]
  },
  {
   "cell_type": "code",
   "execution_count": 29,
   "id": "c92cb7a4-e507-4697-86cb-e769081e6202",
   "metadata": {},
   "outputs": [
    {
     "data": {
      "text/plain": [
       "(tensor([[ 0.6926-0.2853j,  0.6598+0.0096j],\n",
       "         [-0.6598+0.0096j,  0.6926+0.2853j]]),\n",
       " tensor([[ 0.6922-0.2864j,  0.6623+0.0096j],\n",
       "         [-0.6623+0.0096j,  0.6922+0.2864j]]))"
      ]
     },
     "execution_count": 29,
     "metadata": {},
     "output_type": "execute_result"
    }
   ],
   "source": [
    "tr.eye(2,2) + P[0,0,0]@(tr.eye(2,2) + 0.5*P[0,0,0]@(tr.eye(2,2)+ 1/3*P[0,0,0]@(tr.eye(2,2) + 1/4*P[0,0,0]))), E[0,0,0]"
   ]
  },
  {
   "cell_type": "code",
   "execution_count": 30,
   "id": "f16bbbec-81c0-4ca4-ba52-184677d39a17",
   "metadata": {},
   "outputs": [],
   "source": [
    "def expo0(P):\n",
    "        nn = tr.norm(P,dim=(-1,-2))/np.sqrt(2)\n",
    "        E = tr.einsum('...,ij->...ij',tr.cos(nn),tr.eye(2,2)) + tr.einsum('...,...ij->...ij',tr.sin(nn)/nn,P) \n",
    "        return E\n",
    "\n",
    "def expo(P):\n",
    "        nn = tr.norm(P,dim=(-1,-2))/np.sqrt(2)\n",
    "        cos=tr.cos(nn).unsqueeze(-1).unsqueeze(-1)\n",
    "        sin=tr.sin(nn).unsqueeze(-1).unsqueeze(-1)\n",
    "        mask = nn > 1e-8\n",
    "        eye = tr.eye(2, dtype=P.dtype, device=P.device).expand_as(P)\n",
    "        unit = tr.zeros_like(P)\n",
    "        unit[mask] = P[mask]/nn[mask].unsqueeze(-1).unsqueeze(-1)\n",
    "\n",
    "        return cos*eye + sin*unit\n",
    "\n",
    "def expo2(P):\n",
    "        nn = tr.norm(P,dim=(-1,-2))/np.sqrt(2)\n",
    "        cos=tr.cos(nn).unsqueeze(-1).unsqueeze(-1)\n",
    "        sin=tr.where(nn > 1e-8,tr.sin(nn)/nn,tr.ones_like(nn)).unsqueeze(-1).unsqueeze(-1)       \n",
    "        return cos*tr.eye(2, dtype=P.dtype, device=P.device).expand_as(P) + sin*P\n",
    "\n",
    "def expo3(P):\n",
    "        nn = tr.norm(P,dim=(-1,-2))/np.sqrt(2)\n",
    "        cos=tr.cos(nn)\n",
    "        sin=tr.where(nn > 1e-8,tr.sin(nn)/nn,tr.ones_like(nn))       \n",
    "\n",
    "        return tr.einsum('...,ij->...ij',cos,tr.eye(2)) + tr.einsum('...,...ij->...ij',sin,P) "
   ]
  },
  {
   "cell_type": "code",
   "execution_count": 31,
   "id": "b19cd85a-c63e-4c2f-9659-d934156702eb",
   "metadata": {},
   "outputs": [
    {
     "name": "stdout",
     "output_type": "stream",
     "text": [
      "20.3 ms ± 278 µs per loop (mean ± std. dev. of 7 runs, 10 loops each)\n",
      "21.2 ms ± 748 µs per loop (mean ± std. dev. of 7 runs, 10 loops each)\n",
      "20.5 ms ± 242 µs per loop (mean ± std. dev. of 7 runs, 10 loops each)\n"
     ]
    },
    {
     "data": {
      "text/plain": [
       "(tensor(0.), tensor(0.))"
      ]
     },
     "execution_count": 31,
     "metadata": {},
     "output_type": "execute_result"
    }
   ],
   "source": [
    "%timeit E = su2c.f.expo(P)\n",
    "%timeit EE = expo0(P)\n",
    "%timeit EEE = expo3(P)\n",
    "E   = su2c.f.expo(P)\n",
    "EE  = expo0(P)\n",
    "EEE = expo3(P)\n",
    "tr.norm(EE-E),tr.norm(EEE-E)"
   ]
  },
  {
   "cell_type": "code",
   "execution_count": 32,
   "id": "e87eda44-25a6-48a6-ad6a-ed8c9690718a",
   "metadata": {},
   "outputs": [
    {
     "name": "stdout",
     "output_type": "stream",
     "text": [
      "The total initial kinetic energy is:  tensor([24597.0352, 24636.8438, 24500.8516, 24676.9043, 24415.0645, 24504.3477,\n",
      "        24642.3398, 24556.2207, 24559.3789, 24641.1211])\n",
      "The total initial potential energy is:  tensor([98188.1484, 98104.3594, 98365.6562, 98224.4375, 98282.4609, 98480.6484,\n",
      "        98723.8125, 98765.5156, 98394.2969, 98328.4062])\n",
      "The total initial energy is:  tensor([122785.1875, 122741.2031, 122866.5078, 122901.3438, 122697.5234,\n",
      "        122985.0000, 123366.1562, 123321.7344, 122953.6719, 122969.5312])\n"
     ]
    }
   ],
   "source": [
    "P = su2c.refreshP()\n",
    "Ken = su2c.kinetic(P)\n",
    "Ven = su2c.action(U)\n",
    "Hi = Ken + Ven\n",
    "print(\"The total initial kinetic energy is: \",Ken)\n",
    "print(\"The total initial potential energy is: \",Ven)\n",
    "print(\"The total initial energy is: \",Hi)"
   ]
  },
  {
   "cell_type": "code",
   "execution_count": 33,
   "id": "ded8bde8-0557-4a26-9b15-fd01282e2cfb",
   "metadata": {},
   "outputs": [],
   "source": [
    "dt = 0.1\n",
    "k = 10\n",
    "l = integ.leapfrog(su2c.force,su2f.evolveQ,k,1.0)\n",
    "m = integ.minnorm2(su2c.force,su2f.evolveQ,k,1.0)\n",
    "PP ,QQ  = l.integrate(P,U)\n",
    "PP2,QQ2 = m.integrate(P,U)"
   ]
  },
  {
   "cell_type": "code",
   "execution_count": 34,
   "id": "f2712a83-1988-4bfa-9caf-671bd5f27cde",
   "metadata": {},
   "outputs": [
    {
     "name": "stdout",
     "output_type": "stream",
     "text": [
      "The total initial kinetic energy is:  tensor([58480.0938, 58965.4102, 57826.8125, 58277.0898, 58200.5664, 58881.5938,\n",
      "        58697.0664, 59296.6758, 58238.5273, 58292.2422])\n",
      "The total initial potential energy is:  tensor([64135.1484, 63601.3672, 64875.4062, 64455.5859, 64328.6953, 63929.9414,\n",
      "        64499.1719, 63850.2422, 64545.4297, 64506.8750])\n",
      "The total initial energy is:  tensor([122615.2422, 122566.7812, 122702.2188, 122732.6719, 122529.2656,\n",
      "        122811.5312, 123196.2344, 123146.9219, 122783.9531, 122799.1172])\n",
      "The total energy diff is:  tensor([-169.9453, -174.4219, -164.2891, -168.6719, -168.2578, -173.4688,\n",
      "        -169.9219, -174.8125, -169.7188, -170.4141])\n"
     ]
    }
   ],
   "source": [
    "KenF = su2c.kinetic(PP)\n",
    "VenF = su2c.action(QQ)\n",
    "Hf = KenF + VenF\n",
    "print(\"The total initial kinetic energy is: \",KenF)\n",
    "print(\"The total initial potential energy is: \",VenF)\n",
    "print(\"The total initial energy is: \",Hf)\n",
    "print(\"The total energy diff is: \",Hf-Hi)"
   ]
  },
  {
   "cell_type": "code",
   "execution_count": 35,
   "id": "4ebd646d-478c-4869-be0f-8b67b3ab4686",
   "metadata": {},
   "outputs": [
    {
     "name": "stdout",
     "output_type": "stream",
     "text": [
      "The total initial kinetic energy is:  tensor([58721.1914, 59209.3047, 58062.1836, 58515.5273, 58439.4219, 59124.8359,\n",
      "        58937.8281, 59540.6289, 58477.9570, 58533.1484])\n",
      "The total initial potential energy is:  tensor([64051.8984, 63519.6484, 64792.6758, 64374.0000, 64246.2578, 63848.1094,\n",
      "        64416.3750, 63768.8203, 64463.9414, 64424.4688])\n",
      "The total initial energy is:  tensor([122773.0938, 122728.9531, 122854.8594, 122889.5312, 122685.6797,\n",
      "        122972.9453, 123354.2031, 123309.4531, 122941.8984, 122957.6172])\n",
      "The total energy diff is:  tensor([-12.0938, -12.2500, -11.6484, -11.8125, -11.8438, -12.0547, -11.9531,\n",
      "        -12.2812, -11.7734, -11.9141])\n"
     ]
    }
   ],
   "source": [
    "KenF = su2c.kinetic(PP2)\n",
    "VenF = su2c.action(QQ2)\n",
    "Hf = KenF + VenF\n",
    "print(\"The total initial kinetic energy is: \",KenF)\n",
    "print(\"The total initial potential energy is: \",VenF)\n",
    "print(\"The total initial energy is: \",Hf)\n",
    "print(\"The total energy diff is: \",Hf-Hi)"
   ]
  },
  {
   "cell_type": "code",
   "execution_count": 36,
   "id": "ab8821a7-e9a1-4ab6-886b-edb08ab0e005",
   "metadata": {},
   "outputs": [],
   "source": [
    "foo = tr.einsum('kij,klm->ijlm',s.tau,s.tau)"
   ]
  },
  {
   "cell_type": "code",
   "execution_count": 37,
   "id": "240be0cc-250e-4c4a-a8bf-2acd9075983c",
   "metadata": {},
   "outputs": [
    {
     "data": {
      "text/plain": [
       "tensor(0.2500+0.j)"
      ]
     },
     "execution_count": 37,
     "metadata": {},
     "output_type": "execute_result"
    }
   ],
   "source": [
    "foo[0,0,1,1]"
   ]
  },
  {
   "cell_type": "code",
   "execution_count": 38,
   "id": "60c14b8b-655b-4ddf-8f24-4f4a290eff9d",
   "metadata": {},
   "outputs": [
    {
     "data": {
      "text/plain": [
       "tensor(1.+0.j)"
      ]
     },
     "execution_count": 38,
     "metadata": {},
     "output_type": "execute_result"
    }
   ],
   "source": [
    "2.0*tr.trace(s.tau[0]@s.tau[0].T.conj())"
   ]
  },
  {
   "cell_type": "code",
   "execution_count": 39,
   "id": "9e36f823-143a-4641-aeee-4a2d57abe9f7",
   "metadata": {},
   "outputs": [],
   "source": [
    "Pa=tr.tensor([2.0*tr.trace(P[0,0,0]@s.tau[0].T.conj()),2.0*tr.trace(P[0,0,0]@s.tau[1].T.conj()),2.0*tr.trace(P[0,0,0]@s.tau[2].T.conj())])"
   ]
  },
  {
   "cell_type": "code",
   "execution_count": 40,
   "id": "225fa67a-f6e6-45ff-b8ec-bbe8a302a7f2",
   "metadata": {},
   "outputs": [
    {
     "data": {
      "text/plain": [
       "tensor(1.4127+0.j)"
      ]
     },
     "execution_count": 40,
     "metadata": {},
     "output_type": "execute_result"
    }
   ],
   "source": [
    "tr.trace(P[0,0,0]@P[0,0,0].T.conj())"
   ]
  },
  {
   "cell_type": "code",
   "execution_count": 41,
   "id": "af749095-9247-4227-b04d-6d9f91567c2e",
   "metadata": {},
   "outputs": [
    {
     "data": {
      "text/plain": [
       "tensor(1.4127+0.j)"
      ]
     },
     "execution_count": 41,
     "metadata": {},
     "output_type": "execute_result"
    }
   ],
   "source": [
    "(Pa*Pa).sum()/2"
   ]
  },
  {
   "cell_type": "code",
   "execution_count": 42,
   "id": "764beec9-0b73-41ee-9a52-a847a6a30bdc",
   "metadata": {},
   "outputs": [
    {
     "data": {
      "text/plain": [
       "tensor([[ 0.0000-0.3738j,  0.4773+0.5821j],\n",
       "        [-0.4773+0.5821j,  0.0000+0.3738j]])"
      ]
     },
     "execution_count": 42,
     "metadata": {},
     "output_type": "execute_result"
    }
   ],
   "source": [
    "P[0,0,0]"
   ]
  },
  {
   "cell_type": "code",
   "execution_count": 43,
   "id": "889b916f-0710-4575-8dbf-160a3272cdee",
   "metadata": {},
   "outputs": [
    {
     "data": {
      "text/plain": [
       "tensor(2.9802e-08)"
      ]
     },
     "execution_count": 43,
     "metadata": {},
     "output_type": "execute_result"
    }
   ],
   "source": [
    "tr.norm(tr.einsum('aij,a->ij',s.tau,Pa) - P[0,0,0])"
   ]
  },
  {
   "cell_type": "code",
   "execution_count": 44,
   "id": "cb526df4-9ae4-4ea3-8ae1-256933fa06ce",
   "metadata": {},
   "outputs": [
    {
     "data": {
      "text/plain": [
       "tensor([24597.0352, 24636.8438, 24500.8516, 24676.9043, 24415.0645, 24504.3477,\n",
       "        24642.3398, 24556.2207, 24559.3789, 24641.1211])"
      ]
     },
     "execution_count": 44,
     "metadata": {},
     "output_type": "execute_result"
    }
   ],
   "source": [
    "su2c.kinetic(P)"
   ]
  },
  {
   "cell_type": "code",
   "execution_count": 45,
   "id": "1f37e149-de93-48da-a730-0e32b3c449de",
   "metadata": {},
   "outputs": [],
   "source": [
    "# the kinnetic energy derivative\n",
    "eps = 10.0\n",
    "D = tr.zeros_like(P)\n",
    "\n",
    "for x in range(P.shape[1]):\n",
    "    for y in range(P.shape[2]):\n",
    "        for a in range(3):\n",
    "            PPp = P.clone()\n",
    "            PPm = P.clone()\n",
    "            #PPp[:,x,y] = tr.einsum('ik,bkj->bij',Rp[a],PPp[:,x,y])\n",
    "            #PPm[:,x,y] = tr.einsum('ik,bkj->bij',Rm[a],PPm[:,x,y])\n",
    "            PPp[:,x,y] +=  eps*s.tau[a]\n",
    "            PPm[:,x,y] -=  eps*s.tau[a]\n",
    "            foo = (su2c.kinetic(PPp) - su2c.kinetic(PPm))/2.0/eps\n",
    "            for b in range(D.shape[0]):\n",
    "                D[b,x,y] += s.tau[a]*foo[b]\n",
    "            \n",
    "            "
   ]
  },
  {
   "cell_type": "code",
   "execution_count": 46,
   "id": "f0e06caa-3161-41b9-8b7d-4a797764c9da",
   "metadata": {},
   "outputs": [
    {
     "data": {
      "text/plain": [
       "tensor(5.1800e-05)"
      ]
     },
     "execution_count": 46,
     "metadata": {},
     "output_type": "execute_result"
    }
   ],
   "source": [
    "tr.norm(D-P)/tr.norm(P)"
   ]
  },
  {
   "cell_type": "code",
   "execution_count": 47,
   "id": "fa426e88-114b-43c2-8d53-58947689c6cf",
   "metadata": {},
   "outputs": [],
   "source": [
    "# the potential energy derivative \n",
    "eps = 0.01\n",
    "Rp = tr.zeros([3,2,2],dtype=tr.complex64)\n",
    "Rm = tr.zeros([3,2,2],dtype=tr.complex64)\n",
    "Dact = tr.zeros_like(P)\n",
    "for k in range(3):\n",
    "    Rp[k] = su2c.f.expo(+eps*s.tau[k].unsqueeze(0).unsqueeze(0).unsqueeze(0)).squeeze()\n",
    "    Rm[k] = su2c.f.expo(-eps*s.tau[k].unsqueeze(0).unsqueeze(0).unsqueeze(0)).squeeze()\n",
    "    \n",
    "\n",
    "for x in range(P.shape[1]):\n",
    "    for y in range(P.shape[2]):\n",
    "        for a in range(3):\n",
    "            Up = U.clone()\n",
    "            Um = U.clone()\n",
    "            Up[:,x,y] = tr.einsum('ik,bkj->bij',Rp[a],Up[:,x,y])\n",
    "            Um[:,x,y] = tr.einsum('ik,bkj->bij',Rm[a],Um[:,x,y])\n",
    "            foo = (su2c.action(Up) - su2c.action(Um))/2.0/eps\n",
    "            for b in range(D.shape[0]):\n",
    "                Dact[b,x,y] += s.tau[a]*foo[b]\n",
    "\n"
   ]
  },
  {
   "cell_type": "code",
   "execution_count": 48,
   "id": "3378463f-5642-4392-ae2e-d1db10c2e05b",
   "metadata": {},
   "outputs": [
    {
     "data": {
      "text/plain": [
       "tensor([[ 0.0000+0.5859j,  1.1719+0.5859j],\n",
       "        [-1.1719+0.5859j,  0.0000-0.5859j]])"
      ]
     },
     "execution_count": 48,
     "metadata": {},
     "output_type": "execute_result"
    }
   ],
   "source": [
    "Dact[0,0,0]"
   ]
  },
  {
   "cell_type": "code",
   "execution_count": 49,
   "id": "765881da-0454-49f6-93ab-a5c14d9c9cb7",
   "metadata": {},
   "outputs": [],
   "source": [
    "F=su2c.force(U)"
   ]
  },
  {
   "cell_type": "code",
   "execution_count": 50,
   "id": "c72ea164-e1a8-4e35-8551-4123ceda4811",
   "metadata": {},
   "outputs": [
    {
     "data": {
      "text/plain": [
       "tensor(0.2219)"
      ]
     },
     "execution_count": 50,
     "metadata": {},
     "output_type": "execute_result"
    }
   ],
   "source": [
    "tr.norm(F+Dact)/tr.norm(F)"
   ]
  },
  {
   "cell_type": "code",
   "execution_count": null,
   "id": "7ca78bca-935d-4ce4-8a78-f712533cb4e2",
   "metadata": {},
   "outputs": [],
   "source": []
  },
  {
   "cell_type": "code",
   "execution_count": null,
   "id": "dfe52977-e844-43ff-9cec-45788f820ed2",
   "metadata": {},
   "outputs": [],
   "source": []
  }
 ],
 "metadata": {
  "kernelspec": {
   "display_name": "Python 3 (ipykernel)",
   "language": "python",
   "name": "python3"
  },
  "language_info": {
   "codemirror_mode": {
    "name": "ipython",
    "version": 3
   },
   "file_extension": ".py",
   "mimetype": "text/x-python",
   "name": "python",
   "nbconvert_exporter": "python",
   "pygments_lexer": "ipython3",
   "version": "3.12.6"
  }
 },
 "nbformat": 4,
 "nbformat_minor": 5
}
