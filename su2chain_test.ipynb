{
 "cells": [
  {
   "cell_type": "code",
   "execution_count": 1,
   "id": "0744e8be-5076-454c-bd32-921126a68463",
   "metadata": {},
   "outputs": [],
   "source": [
    "import torch as tr\n",
    "import su2_chain as s\n"
   ]
  },
  {
   "cell_type": "code",
   "execution_count": 2,
   "id": "88295c31-e791-46d0-8765-4e507dc9a63f",
   "metadata": {},
   "outputs": [
    {
     "name": "stdout",
     "output_type": "stream",
     "text": [
      "tensor([ 0.8201, -1.2608, -0.3531, -1.2701])\n",
      "tensor([[ 0.4101-0.6350j,  0.1765-0.6304j],\n",
      "        [-0.1765-0.6304j,  0.4101+0.6350j]])\n",
      "Should be identity\n",
      "tensor([[1.0000-8.2928e-09j, 0.0000+0.0000e+00j],\n",
      "        [0.0000+0.0000e+00j, 1.0000+8.2928e-09j]])\n"
     ]
    }
   ],
   "source": [
    "a = tr.normal(0.0,2.0,[4])\n",
    "a = 2*a/tr.norm(a)\n",
    "print(a)\n",
    "U = s.Mat(a) #tr.sum(a[:,None,None] * basis,dim=0)\n",
    "print(U)\n",
    "print(\"Should be identity\")\n",
    "print(s.TdxT(U,U))"
   ]
  },
  {
   "cell_type": "code",
   "execution_count": 3,
   "id": "9e3c4036-6611-4d19-8552-3bb2a09c4b7a",
   "metadata": {},
   "outputs": [
    {
     "name": "stdout",
     "output_type": "stream",
     "text": [
      "tensor([ 0.9305, -0.7267, -1.5619,  0.4081])\n",
      "tensor([[ 0.4652+0.2041j,  0.7810-0.3633j],\n",
      "        [-0.7810-0.3633j,  0.4652-0.2041j]])\n",
      "Should be identity\n",
      "tensor([[1.0000-1.0293e-08j, 0.0000+0.0000e+00j],\n",
      "        [0.0000+0.0000e+00j, 1.0000+1.0293e-08j]])\n"
     ]
    }
   ],
   "source": [
    "b = tr.normal(0.0,2.0,[4])\n",
    "b = 2*b/tr.norm(b)\n",
    "print(b)\n",
    "V = s.Mat(b) #tr.sum(a[:,None,None] * basis,dim=0)\n",
    "print(V)\n",
    "print(\"Should be identity\")\n",
    "print(s.TdxT(V,V))"
   ]
  },
  {
   "cell_type": "code",
   "execution_count": 4,
   "id": "57a5a0dd-d8fd-4ee4-a4c0-9a9dbc91a478",
   "metadata": {},
   "outputs": [
    {
     "data": {
      "text/plain": [
       "0.0"
      ]
     },
     "execution_count": 4,
     "metadata": {},
     "output_type": "execute_result"
    }
   ],
   "source": [
    "tr.trace(U@tr.conj(V.T)).real.item()/2-(a@b/4).item()"
   ]
  },
  {
   "cell_type": "code",
   "execution_count": 5,
   "id": "8cd48d5b-c9b3-4964-951d-196c6fea04ad",
   "metadata": {},
   "outputs": [],
   "source": [
    "su2f = s.field([128,128],Nbatch=2)"
   ]
  },
  {
   "cell_type": "code",
   "execution_count": 6,
   "id": "369d3d98-6656-4109-9841-c6761fe1e52b",
   "metadata": {},
   "outputs": [],
   "source": [
    "su2c = s.SU2chain(beta=2.0,field_type=su2f)"
   ]
  },
  {
   "cell_type": "code",
   "execution_count": 7,
   "id": "01e8b7cb-aeb1-41c3-8683-8bdbb0cce567",
   "metadata": {},
   "outputs": [],
   "source": [
    "P = su2c.refreshP()"
   ]
  },
  {
   "cell_type": "code",
   "execution_count": 8,
   "id": "9823270b-5e80-4c35-b79f-7669d9f6b80b",
   "metadata": {},
   "outputs": [
    {
     "name": "stdout",
     "output_type": "stream",
     "text": [
      "torch.Size([2, 128, 128, 4])\n"
     ]
    },
    {
     "data": {
      "text/plain": [
       "torch.Size([2, 128, 128, 2, 2])"
      ]
     },
     "execution_count": 8,
     "metadata": {},
     "output_type": "execute_result"
    }
   ],
   "source": [
    "U =su2c.f.hot()\n",
    "U.shape"
   ]
  },
  {
   "cell_type": "code",
   "execution_count": 9,
   "id": "3203175a-7ffd-48ad-be92-368b0a35aec1",
   "metadata": {},
   "outputs": [],
   "source": [
    "a= su2c.f.coeffs(U)"
   ]
  },
  {
   "cell_type": "code",
   "execution_count": 10,
   "id": "62272407-c78d-4df9-8db9-0bef3216da08",
   "metadata": {},
   "outputs": [
    {
     "data": {
      "text/plain": [
       "torch.Size([2, 128, 128, 4])"
      ]
     },
     "execution_count": 10,
     "metadata": {},
     "output_type": "execute_result"
    }
   ],
   "source": [
    "a.shape"
   ]
  },
  {
   "cell_type": "code",
   "execution_count": 11,
   "id": "41ad8cbf-f66b-4b2c-a65a-bc638fb935e3",
   "metadata": {},
   "outputs": [
    {
     "data": {
      "text/plain": [
       "tensor([[0.+0.j, 0.+0.j],\n",
       "        [0.+0.j, 0.+0.j]])"
      ]
     },
     "execution_count": 11,
     "metadata": {},
     "output_type": "execute_result"
    }
   ],
   "source": [
    "s.Mat(a[0,0,0,:])- U[0,0,0,:,:]"
   ]
  },
  {
   "cell_type": "code",
   "execution_count": 12,
   "id": "2dc0c964-9ea8-4ebe-a09a-69842c77ff4e",
   "metadata": {},
   "outputs": [],
   "source": [
    "FF = su2c.f.mat(a)"
   ]
  },
  {
   "cell_type": "code",
   "execution_count": 13,
   "id": "09c74c32-110c-4370-b3e6-d77de5132fb3",
   "metadata": {},
   "outputs": [
    {
     "data": {
      "text/plain": [
       "tensor(0.)"
      ]
     },
     "execution_count": 13,
     "metadata": {},
     "output_type": "execute_result"
    }
   ],
   "source": [
    "(FF-U).norm()"
   ]
  },
  {
   "cell_type": "code",
   "execution_count": 14,
   "id": "b9b46a87-fd6b-4ef3-806d-467dacc1fb93",
   "metadata": {},
   "outputs": [
    {
     "data": {
      "text/plain": [
       "torch.Size([2, 128, 128, 2, 2])"
      ]
     },
     "execution_count": 14,
     "metadata": {},
     "output_type": "execute_result"
    }
   ],
   "source": [
    "P.shape"
   ]
  },
  {
   "cell_type": "code",
   "execution_count": null,
   "id": "013277e4-c121-4d4c-89ea-cba6d9ddf588",
   "metadata": {},
   "outputs": [],
   "source": []
  },
  {
   "cell_type": "code",
   "execution_count": 15,
   "id": "11aed39b-69f4-491c-bd74-b6584b1003e3",
   "metadata": {},
   "outputs": [
    {
     "data": {
      "text/plain": [
       "(tensor(-0.0014), tensor(0.4994), tensor(0.0052), tensor(0.5030))"
      ]
     },
     "execution_count": 15,
     "metadata": {},
     "output_type": "execute_result"
    }
   ],
   "source": [
    "P[...,1,0].real.mean(), P[...,1,0].real.std(),P[...,1,0].imag.mean(), P[...,1,0].imag.std()"
   ]
  },
  {
   "cell_type": "code",
   "execution_count": 16,
   "id": "6889c6ba-63b9-4ad5-928c-d8f79dec5027",
   "metadata": {},
   "outputs": [
    {
     "data": {
      "text/plain": [
       "(tensor(0.), tensor(0.), tensor(0.0014), tensor(0.5047))"
      ]
     },
     "execution_count": 16,
     "metadata": {},
     "output_type": "execute_result"
    }
   ],
   "source": [
    "P[...,0,0].real.mean(), P[...,0,0].real.std(),P[...,0,0].imag.mean(), P[...,0,0].imag.std()"
   ]
  },
  {
   "cell_type": "code",
   "execution_count": 17,
   "id": "05881037-1595-4d65-986d-b39b9299f683",
   "metadata": {},
   "outputs": [
    {
     "data": {
      "text/plain": [
       "tensor(1.4142)"
      ]
     },
     "execution_count": 17,
     "metadata": {},
     "output_type": "execute_result"
    }
   ],
   "source": [
    "tr.sqrt(tr.tensor(2))"
   ]
  },
  {
   "cell_type": "code",
   "execution_count": 18,
   "id": "80fa2881-9c08-4afc-beab-61ddea71e157",
   "metadata": {},
   "outputs": [],
   "source": [
    "pp = 2.0*tr.einsum('kij,...ji->...k',s.tau,P)"
   ]
  },
  {
   "cell_type": "code",
   "execution_count": 19,
   "id": "024736f5-3902-4429-b71d-d0444b41e544",
   "metadata": {},
   "outputs": [
    {
     "data": {
      "text/plain": [
       "tensor([1.0061, 0.9988, 1.0094])"
      ]
     },
     "execution_count": 19,
     "metadata": {},
     "output_type": "execute_result"
    }
   ],
   "source": [
    "pp.real.std(dim=(0,1,2))"
   ]
  },
  {
   "cell_type": "code",
   "execution_count": 20,
   "id": "e10ccea2-d5b1-4377-bb3e-d24bd843f8de",
   "metadata": {},
   "outputs": [
    {
     "data": {
      "text/plain": [
       "torch.Size([2, 128, 128, 3])"
      ]
     },
     "execution_count": 20,
     "metadata": {},
     "output_type": "execute_result"
    }
   ],
   "source": [
    "pp.shape"
   ]
  },
  {
   "cell_type": "code",
   "execution_count": 21,
   "id": "26f75e01-a714-4f6b-804b-a38e33afd60b",
   "metadata": {},
   "outputs": [],
   "source": [
    "ff = -tr.einsum('...k,kij->...ij',pp,s.tau)"
   ]
  },
  {
   "cell_type": "code",
   "execution_count": 22,
   "id": "5a4c6821-974f-4cf6-812e-ba309df78681",
   "metadata": {},
   "outputs": [
    {
     "data": {
      "text/plain": [
       "tensor([[0.+0.j, 0.+0.j],\n",
       "        [0.+0.j, -0.+0.j]])"
      ]
     },
     "execution_count": 22,
     "metadata": {},
     "output_type": "execute_result"
    }
   ],
   "source": [
    "ff[0,0,0]-P[0,0,0]"
   ]
  },
  {
   "cell_type": "code",
   "execution_count": 23,
   "id": "14c855e8-514f-402e-8b6f-ff707f81ecba",
   "metadata": {},
   "outputs": [
    {
     "data": {
      "text/plain": [
       "tensor(0.+0.j)"
      ]
     },
     "execution_count": 23,
     "metadata": {},
     "output_type": "execute_result"
    }
   ],
   "source": [
    "tr.trace(P[0,0,0])"
   ]
  },
  {
   "cell_type": "code",
   "execution_count": 24,
   "id": "947c6771-ef6a-4c71-b408-d2f4d45c4278",
   "metadata": {},
   "outputs": [
    {
     "data": {
      "text/plain": [
       "tensor(49622.0703)"
      ]
     },
     "execution_count": 24,
     "metadata": {},
     "output_type": "execute_result"
    }
   ],
   "source": [
    "tr.einsum('...ij,...ij->',P,P.conj()).real"
   ]
  },
  {
   "cell_type": "code",
   "execution_count": 25,
   "id": "53616e6a-0c02-482f-bbea-b66b2fc252c9",
   "metadata": {},
   "outputs": [
    {
     "data": {
      "text/plain": [
       "tensor(49622.0664+0.j)"
      ]
     },
     "execution_count": 25,
     "metadata": {},
     "output_type": "execute_result"
    }
   ],
   "source": [
    "tr.einsum('...k,...k->',pp,pp)/2"
   ]
  },
  {
   "cell_type": "code",
   "execution_count": 26,
   "id": "a4f3db83-06f5-45da-b670-98dd1ce2ad5a",
   "metadata": {},
   "outputs": [
    {
     "data": {
      "text/plain": [
       "tensor(1.2493e-05)"
      ]
     },
     "execution_count": 26,
     "metadata": {},
     "output_type": "execute_result"
    }
   ],
   "source": [
    "(tr.norm(P,dim=(su2c.f.ci[0],su2c.f.ci[1])) - tr.norm(pp,dim=(len(pp.shape)-1))/tr.sqrt(tr.tensor(2))).norm()"
   ]
  },
  {
   "cell_type": "code",
   "execution_count": 27,
   "id": "ecefdd20-fdfe-40ba-b8ac-a053e9ec9c33",
   "metadata": {},
   "outputs": [],
   "source": [
    "E = su2c.f.expo(P)"
   ]
  },
  {
   "cell_type": "code",
   "execution_count": 28,
   "id": "2b583a1e-b582-468e-8c56-39d9890566ed",
   "metadata": {},
   "outputs": [
    {
     "data": {
      "text/plain": [
       "tensor([[1.0000e+00+0.0000e+00j, 2.4200e-09-2.9802e-08j],\n",
       "        [2.4200e-09+2.9802e-08j, 1.0000e+00+0.0000e+00j]])"
      ]
     },
     "execution_count": 28,
     "metadata": {},
     "output_type": "execute_result"
    }
   ],
   "source": [
    "E[0,0,0] @ E[0,0,0].conj().transpose(0,1)"
   ]
  },
  {
   "cell_type": "code",
   "execution_count": 29,
   "id": "c92cb7a4-e507-4697-86cb-e769081e6202",
   "metadata": {},
   "outputs": [
    {
     "data": {
      "text/plain": [
       "(tensor([[ 0.8774-0.1190j, -0.2361+0.4001j],\n",
       "         [ 0.2361+0.4001j,  0.8774+0.1190j]]),\n",
       " tensor([[ 0.8774-0.1190j, -0.2362+0.4003j],\n",
       "         [ 0.2362+0.4003j,  0.8774+0.1190j]]))"
      ]
     },
     "execution_count": 29,
     "metadata": {},
     "output_type": "execute_result"
    }
   ],
   "source": [
    "tr.eye(2,2) + P[0,0,0]@(tr.eye(2,2) + 0.5*P[0,0,0]@(tr.eye(2,2)+ 1/3*P[0,0,0]@(tr.eye(2,2) + 1/4*P[0,0,0]))), E[0,0,0]"
   ]
  },
  {
   "cell_type": "code",
   "execution_count": null,
   "id": "e87eda44-25a6-48a6-ad6a-ed8c9690718a",
   "metadata": {},
   "outputs": [],
   "source": []
  }
 ],
 "metadata": {
  "kernelspec": {
   "display_name": "Python 3 (ipykernel)",
   "language": "python",
   "name": "python3"
  },
  "language_info": {
   "codemirror_mode": {
    "name": "ipython",
    "version": 3
   },
   "file_extension": ".py",
   "mimetype": "text/x-python",
   "name": "python",
   "nbconvert_exporter": "python",
   "pygments_lexer": "ipython3",
   "version": "3.12.6"
  }
 },
 "nbformat": 4,
 "nbformat_minor": 5
}
