{
 "cells": [
  {
   "cell_type": "code",
   "execution_count": 1,
   "id": "480842ae-310f-4a11-b1eb-6c1badbf64e2",
   "metadata": {},
   "outputs": [
    {
     "name": "stdout",
     "output_type": "stream",
     "text": [
      "3.12.3 (main, Apr  9 2024, 08:09:14) [Clang 15.0.0 (clang-1500.3.9.4)]\n"
     ]
    }
   ],
   "source": [
    "import os\n",
    "import glob\n",
    "import sys\n",
    "import numpy as np\n",
    "import matplotlib\n",
    "#matplotlib.use('agg')\n",
    "import matplotlib.pyplot as plt\n",
    "import torch as tr\n",
    "import torch.nn as nn\n",
    "import torch.optim as optim\n",
    "from torch import distributions\n",
    "from torch.nn.parameter import Parameter\n",
    "print(sys.version)"
   ]
  },
  {
   "cell_type": "code",
   "execution_count": 2,
   "id": "bf8808f1-e7a1-4671-b377-1211008184e5",
   "metadata": {},
   "outputs": [],
   "source": [
    "#O(3) generators\n",
    "L  = tr.tensor([[[  0,  0,  0],\n",
    "                 [  0,  0, -1],\n",
    "                 [  0,  1,  0]],\n",
    "                [[  0,  0,  1],\n",
    "                 [  0,  0,  0],\n",
    "                 [ -1,  0,  0]],\n",
    "                [[  0, -1,  0],\n",
    "                 [  1,  0,  0],\n",
    "                 [ 0,  0,  0]]],dtype=tr.float)"
   ]
  },
  {
   "cell_type": "code",
   "execution_count": 3,
   "id": "b0545538-815c-4990-b172-9b9b2d319a06",
   "metadata": {},
   "outputs": [],
   "source": [
    "v = tr.randn(3)\n",
    "v = v/tr.norm(v)\n",
    "u = tr.randn(3) \n",
    "u = u/tr.norm(u)"
   ]
  },
  {
   "cell_type": "code",
   "execution_count": 4,
   "id": "6d49bcbe-cc3f-4526-8194-14fb1e9c637a",
   "metadata": {},
   "outputs": [],
   "source": [
    "w = tr.linalg.cross(v,u,dim=0)"
   ]
  },
  {
   "cell_type": "markdown",
   "id": "c4ac93d8-e3f1-4973-87ee-2443fa83ee4d",
   "metadata": {},
   "source": [
    "We can show that \n",
    "$$\n",
    "(\\vec v \\times \\vec u)_a = - v^T L^a u\n",
    "$$"
   ]
  },
  {
   "cell_type": "code",
   "execution_count": 5,
   "id": "b035993f-b367-45bf-86f7-03d2827650f6",
   "metadata": {},
   "outputs": [
    {
     "data": {
      "text/plain": [
       "tensor([ 0.0000e+00, -3.7253e-09,  0.0000e+00])"
      ]
     },
     "execution_count": 5,
     "metadata": {},
     "output_type": "execute_result"
    }
   ],
   "source": [
    "# computing the cross product using generators...\n",
    "tr.einsum('s,sra,r->a',v,L,u) + tr.linalg.cross(v,u)"
   ]
  },
  {
   "cell_type": "code",
   "execution_count": 6,
   "id": "687a8777-839a-49c1-b9ee-0aee1d05c494",
   "metadata": {},
   "outputs": [
    {
     "data": {
      "text/plain": [
       "tensor([[ 0.0000,  0.1189,  0.0553],\n",
       "        [-0.1189,  0.0000, -0.7104],\n",
       "        [-0.0553,  0.7104,  0.0000]])"
      ]
     },
     "execution_count": 6,
     "metadata": {},
     "output_type": "execute_result"
    }
   ],
   "source": [
    "# computing outer product with einsum\n",
    "tr.einsum('s,r->sr',u,v) - tr.einsum('s,r->sr',v,u)  "
   ]
  },
  {
   "cell_type": "code",
   "execution_count": 7,
   "id": "05e54d05-233b-492f-9c8c-8a10781f1793",
   "metadata": {},
   "outputs": [
    {
     "data": {
      "text/plain": [
       "tensor([[ 0.0000,  0.1189,  0.0553],\n",
       "        [-0.1189,  0.0000, -0.7104],\n",
       "        [-0.0553,  0.7104,  0.0000]])"
      ]
     },
     "execution_count": 7,
     "metadata": {},
     "output_type": "execute_result"
    }
   ],
   "source": [
    "#einsum contractions\n",
    "tr.einsum('s,sra->ra',w,L)"
   ]
  },
  {
   "cell_type": "code",
   "execution_count": 8,
   "id": "18fcae6d-8ba0-4184-9bd9-246bfbe2ab30",
   "metadata": {},
   "outputs": [
    {
     "data": {
      "text/plain": [
       "tensor([[ 0.0000, -0.1189, -0.0553],\n",
       "        [ 0.1189,  0.0000,  0.7104],\n",
       "        [ 0.0553, -0.7104,  0.0000]])"
      ]
     },
     "execution_count": 8,
     "metadata": {},
     "output_type": "execute_result"
    }
   ],
   "source": [
    "#einsum for multi tensor contractions\n",
    "tr.einsum('s,sra,r,kla->kl',v,L,u,L)"
   ]
  },
  {
   "cell_type": "markdown",
   "id": "2f938630-8e9b-402c-af25-151f0e2b91b2",
   "metadata": {},
   "source": [
    "Rotating one vector to another.\n",
    "\n",
    "$$\n",
    "e^{\\theta (n\\cdot L)} = {\\bf 1} + 2 \\cos(\\theta/2) \\sin(\\theta/2) (n\\cdot L)  + 2 \\sin^2(\\theta/2) (n\\cdot L)^2 ={\\bf 1} +  \\sin(\\theta) (n\\cdot L)  + (1-\\cos(\\theta)) (n\\cdot L)^2\n",
    "$$\n",
    "\n",
    "If I want to rotate vector $\\vec v$ to vector $\\vec u$ where both are normalized then I need to perform the rotation\n",
    "\n",
    "$$ \n",
    "R = e^{\\theta\\frac{\\vec v \\times \\vec u}{|\\vec v \\times \\vec u|}\\cdot L }\n",
    "$$\n",
    "\n",
    "where $\\theta$ is the angle between the two vectors.\n",
    "$$\n",
    "\\cos(\\theta) = \\vec v \\cdot \\vec u\n",
    "$$\n",
    "\n",
    "$$\n",
    "A = (\\vec v \\times \\vec u) \\cdot L = - \\sum_a (v^T L^a u) L^a = u v^T - v u^T\n",
    "$$\n",
    "In our case  $\\vec n = \\frac{\\vec v \\times \\vec u}{|\\vec v \\times \\vec u|}$ and $\\sin(\\theta) = |\\vec v \\times \\vec u|$ which leads to\n",
    "$$ \n",
    "R = {\\bf 1} +  A  + \\frac{1-\\cos(\\theta)}{\\sin^2(\\theta)} A^2 = {\\bf 1} +  A  + \\frac{1}{ 1 + \\cos(\\theta)} A^2 = {\\bf 1} +  A  + \\frac{1}{ 1 + v^T u} A^2\n",
    "$$\n",
    "This formula has an apparent singularity for $\\theta = \\pi$ which might cause trouble."
   ]
  },
  {
   "cell_type": "code",
   "execution_count": 17,
   "id": "fe9e5621-8271-4a6c-a981-a0fb34ba4418",
   "metadata": {},
   "outputs": [],
   "source": [
    "def rotation(v,u):\n",
    "    A = tr.einsum('s,r->sr',u,v) - tr.einsum('s,r->sr',v,u) \n",
    "    dd = tr.dot(u,v)\n",
    "    return tr.eye(3) + A  + (A@A)/(1+dd)\n",
    "    #return tr.eye(3) + A  + (A@A)*(1.0-dd)/(1-dd**2)"
   ]
  },
  {
   "cell_type": "code",
   "execution_count": 18,
   "id": "0413a35c-ee82-4ef3-b61f-728bf041a064",
   "metadata": {},
   "outputs": [],
   "source": [
    "R= rotation(v,u)"
   ]
  },
  {
   "cell_type": "code",
   "execution_count": 19,
   "id": "ec6a52a9-d173-4f7f-9079-5279ed024117",
   "metadata": {},
   "outputs": [
    {
     "data": {
      "text/plain": [
       "tensor([-2.9802e-08,  2.3842e-07,  0.0000e+00])"
      ]
     },
     "execution_count": 19,
     "metadata": {},
     "output_type": "execute_result"
    }
   ],
   "source": [
    "R@v -u "
   ]
  },
  {
   "cell_type": "code",
   "execution_count": 20,
   "id": "a219cc7d-32a5-4b6d-9aeb-743520d638f4",
   "metadata": {},
   "outputs": [
    {
     "data": {
      "text/plain": [
       "tensor([[ 1.0000e+00, -3.7857e-09,  6.5422e-08],\n",
       "        [-3.7857e-09,  1.0000e+00,  4.0545e-08],\n",
       "        [ 6.5422e-08,  4.0545e-08,  1.0000e+00]])"
      ]
     },
     "execution_count": 20,
     "metadata": {},
     "output_type": "execute_result"
    }
   ],
   "source": [
    "R.T@R"
   ]
  },
  {
   "cell_type": "code",
   "execution_count": 21,
   "id": "5718be88-d401-4322-be63-a15aff810a2c",
   "metadata": {},
   "outputs": [],
   "source": [
    "w = tr.randn(3)\n",
    "w = w/tr.norm(w)"
   ]
  },
  {
   "cell_type": "code",
   "execution_count": 23,
   "id": "d02d7526-1316-4c6a-86e2-5df7117137c5",
   "metadata": {},
   "outputs": [
    {
     "data": {
      "text/plain": [
       "tensor([[1., 0., 0.],\n",
       "        [0., 1., 0.],\n",
       "        [0., 0., 1.]])"
      ]
     },
     "execution_count": 23,
     "metadata": {},
     "output_type": "execute_result"
    }
   ],
   "source": [
    "rotation(w,w)"
   ]
  },
  {
   "cell_type": "code",
   "execution_count": 207,
   "id": "7f3ba18f-ba04-47e9-b1a8-00d33e7d773e",
   "metadata": {},
   "outputs": [],
   "source": [
    "L=32\n",
    "Bs=4\n",
    "foo = tr.randn(Bs,3,3,L,L)\n",
    "f = tr.randn(Bs,3,L,L)\n",
    "nf = tr.norm(f,dim=1)\n",
    "f=f/nf.view(Bs,1,L,L)"
   ]
  },
  {
   "cell_type": "code",
   "execution_count": 208,
   "id": "e091b10a-59a1-4e77-af9f-eff483c7b7c6",
   "metadata": {},
   "outputs": [],
   "source": [
    "fooT = foo.transpose(1,2)"
   ]
  },
  {
   "cell_type": "code",
   "execution_count": 209,
   "id": "a609da91-090e-42a4-b7fd-7aba06dadb9c",
   "metadata": {},
   "outputs": [
    {
     "data": {
      "text/plain": [
       "(tensor([[-0.0702, -0.1419,  0.2844],\n",
       "         [ 1.1830, -0.3889,  0.1729],\n",
       "         [ 0.4689, -2.0186, -2.0850]]),\n",
       " tensor([[-0.0702,  1.1830,  0.4689],\n",
       "         [-0.1419, -0.3889, -2.0186],\n",
       "         [ 0.2844,  0.1729, -2.0850]]),\n",
       " tensor([[0., 0., 0.],\n",
       "         [0., 0., 0.],\n",
       "         [0., 0., 0.]]))"
      ]
     },
     "execution_count": 209,
     "metadata": {},
     "output_type": "execute_result"
    }
   ],
   "source": [
    "fooT[1,:,:,1,1], foo[1,:,:,1,1], fooT[1,:,:,1,1].T- foo[1,:,:,1,1]"
   ]
  },
  {
   "cell_type": "code",
   "execution_count": 210,
   "id": "4af427e5-f5f1-4da8-ae7c-1dfabbb7050d",
   "metadata": {},
   "outputs": [
    {
     "name": "stdout",
     "output_type": "stream",
     "text": [
      "504 ns ± 2.33 ns per loop (mean ± std. dev. of 7 runs, 1,000,000 loops each)\n"
     ]
    }
   ],
   "source": [
    "%timeit foo.transpose(1,2)"
   ]
  },
  {
   "cell_type": "code",
   "execution_count": 211,
   "id": "60417933-f343-44b0-a1a3-e952d4a0eddb",
   "metadata": {},
   "outputs": [
    {
     "name": "stdout",
     "output_type": "stream",
     "text": [
      "2.3 µs ± 49.1 ns per loop (mean ± std. dev. of 7 runs, 100,000 loops each)\n"
     ]
    }
   ],
   "source": [
    "%timeit tr.einsum('bsrxy->brsxy',foo)"
   ]
  },
  {
   "cell_type": "code",
   "execution_count": 215,
   "id": "8ecf22d6-0ecf-4f39-ade2-192ffb1efaa3",
   "metadata": {},
   "outputs": [],
   "source": [
    "mask_c = [[0.25,0.25],[0.25,0.25]]\n",
    "mask_r = [[1.00,1.00],[1.00,1.00]]\n",
    "restrict = nn.Conv2d(groups=3,in_channels=3, out_channels=3, kernel_size=(2,2),stride=2,bias=False)\n",
    "restrict.weight = tr.nn.Parameter(tr.tensor([[mask_c]]).repeat(3,1,1,1),requires_grad=False)\n",
    "prolong = nn.ConvTranspose2d(groups=3,in_channels=3,out_channels=3,kernel_size=(2,2),stride=2,bias=False)\n",
    "prolong.weight = tr.nn.Parameter(tr.tensor([[mask_r]]).repeat(3,1,1,1),requires_grad=False)\n",
    "def coarsen(f):\n",
    "    c = restrict(f)\n",
    "    nc = tr.norm(c,dim=1)\n",
    "    c = c/nc.view(c.shape[0],1,c.shape[2],c.shape[3])\n",
    "    fc = prolong(c)\n",
    "    #fc = fc/tr.norm(fc,dim=1).view(fc.shape[0],1,fc.shape[2],fc.shape[3])\n",
    "    i_one_p_dot = 1.0/(1+tr.einsum('bsxy,bsxy->bxy',fc,f))\n",
    "    A = tr.einsum('bsxy,brxy->bsrxy',fc,f) #- tr.einsum('bsxy,brxy->bsrxy',f,fc)\n",
    "    A = A - A.transpose(1,2)\n",
    "    A2 = tr.einsum('bxy,bskxy,bkrxy->bsrxy',i_one_p_dot,A,A)\n",
    "    r = tr.eye(3,3).view(1,3,3,1,1) + A + A2\n",
    "    return c,r,fc\n",
    "def refine(c,r):\n",
    "    f = prolong(c)\n",
    "    # rotate with the transpose\n",
    "    f = tr.einsum('brsxy,brxy->bsxy',r,f)\n",
    "    #f = tr.einsum('bsrxy,brxy->bsxy',r,f)\n",
    "    return f"
   ]
  },
  {
   "cell_type": "code",
   "execution_count": null,
   "id": "c730fddf-76ed-4513-8c75-de552dcc69b8",
   "metadata": {},
   "outputs": [],
   "source": []
  },
  {
   "cell_type": "code",
   "execution_count": null,
   "id": "7a89b474-061c-42b7-bded-56381f4e4eee",
   "metadata": {},
   "outputs": [],
   "source": []
  },
  {
   "cell_type": "code",
   "execution_count": 216,
   "id": "d21a0473-b92d-4066-aa59-4d0ff5394e38",
   "metadata": {},
   "outputs": [
    {
     "name": "stdout",
     "output_type": "stream",
     "text": [
      "485 µs ± 16.2 µs per loop (mean ± std. dev. of 7 runs, 1,000 loops each)\n"
     ]
    }
   ],
   "source": [
    "%timeit c,r,fc=coarsen(f)"
   ]
  },
  {
   "cell_type": "code",
   "execution_count": 218,
   "id": "0fae2a7c-059e-4d2e-94d9-19b0884983fd",
   "metadata": {},
   "outputs": [
    {
     "name": "stdout",
     "output_type": "stream",
     "text": [
      "4.27 ms ± 31.3 µs per loop (mean ± std. dev. of 7 runs, 100 loops each)\n"
     ]
    }
   ],
   "source": [
    "%timeit ff=refine(c,r)"
   ]
  },
  {
   "cell_type": "code",
   "execution_count": 219,
   "id": "1e0f25c5-d2f2-47c2-87bc-08f44b8f7bb8",
   "metadata": {},
   "outputs": [],
   "source": [
    "c,r,fc=coarsen(f)\n",
    "ff=refine(c,r)"
   ]
  },
  {
   "cell_type": "code",
   "execution_count": 234,
   "id": "7838cf38-c9cf-4f8b-9f74-1911caf9f57a",
   "metadata": {},
   "outputs": [
    {
     "data": {
      "text/plain": [
       "(tensor(3.1282e-07), tensor(64.))"
      ]
     },
     "execution_count": 234,
     "metadata": {},
     "output_type": "execute_result"
    }
   ],
   "source": [
    "tr.norm(f-ff).sum()/tr.norm(f),tr.norm(ff)"
   ]
  },
  {
   "cell_type": "code",
   "execution_count": 221,
   "id": "39e6fa25-c805-40df-a1b6-b398d54a7fa3",
   "metadata": {},
   "outputs": [
    {
     "data": {
      "text/plain": [
       "tensor(1.0000)"
      ]
     },
     "execution_count": 221,
     "metadata": {},
     "output_type": "execute_result"
    }
   ],
   "source": [
    "f[1,:,1,1].norm()"
   ]
  },
  {
   "cell_type": "code",
   "execution_count": 222,
   "id": "2d81fa33-b91d-4e54-953c-296329ec3d84",
   "metadata": {},
   "outputs": [
    {
     "data": {
      "text/plain": [
       "tensor(1.)"
      ]
     },
     "execution_count": 222,
     "metadata": {},
     "output_type": "execute_result"
    }
   ],
   "source": [
    "c[1,:,1,1].norm()"
   ]
  },
  {
   "cell_type": "code",
   "execution_count": 223,
   "id": "a8049fda-ccc1-48a6-a185-54e9964eef06",
   "metadata": {},
   "outputs": [
    {
     "data": {
      "text/plain": [
       "tensor([[ 1.0000e+00,  0.0000e+00, -5.9605e-08],\n",
       "        [ 0.0000e+00,  1.0000e+00, -2.9802e-08],\n",
       "        [-5.9605e-08, -2.9802e-08,  1.0000e+00]])"
      ]
     },
     "execution_count": 223,
     "metadata": {},
     "output_type": "execute_result"
    }
   ],
   "source": [
    "r[1,:,:,1,1].T@r[1,:,:,1,1]"
   ]
  },
  {
   "cell_type": "code",
   "execution_count": 224,
   "id": "ab9cd9fb-996e-40e4-a616-c86673fea0e8",
   "metadata": {},
   "outputs": [
    {
     "data": {
      "text/plain": [
       "(tensor([ 0.8547,  0.5164, -0.0520]), tensor(1.))"
      ]
     },
     "execution_count": 224,
     "metadata": {},
     "output_type": "execute_result"
    }
   ],
   "source": [
    "fc[1,:,1,1],tr.norm(fc[1,:,1,1])"
   ]
  },
  {
   "cell_type": "code",
   "execution_count": 225,
   "id": "50bfb96c-d036-47c6-8f76-c43716c81e0d",
   "metadata": {},
   "outputs": [],
   "source": [
    "b0 = f[0,:,0:2,0:2]"
   ]
  },
  {
   "cell_type": "code",
   "execution_count": 226,
   "id": "613e714b-b229-469e-bc8f-c5b3eadafa55",
   "metadata": {},
   "outputs": [],
   "source": [
    "c0 = b0.sum(dim=(1,2))\n",
    "c0 = c0/tr.norm(c0)"
   ]
  },
  {
   "cell_type": "code",
   "execution_count": 227,
   "id": "9e816717-685a-4592-845e-314245ae6f85",
   "metadata": {},
   "outputs": [
    {
     "data": {
      "text/plain": [
       "tensor([ 0.6182, -0.7573, -0.2106])"
      ]
     },
     "execution_count": 227,
     "metadata": {},
     "output_type": "execute_result"
    }
   ],
   "source": [
    "c0"
   ]
  },
  {
   "cell_type": "code",
   "execution_count": 228,
   "id": "e629ba05-a2d3-4cb2-9422-86af9006d287",
   "metadata": {},
   "outputs": [
    {
     "data": {
      "text/plain": [
       "tensor([ 0.6182, -0.7573, -0.2106])"
      ]
     },
     "execution_count": 228,
     "metadata": {},
     "output_type": "execute_result"
    }
   ],
   "source": [
    "c[0,:,0,0]"
   ]
  },
  {
   "cell_type": "code",
   "execution_count": 229,
   "id": "15f356e4-2fda-4334-a0cc-8b0ad79223a4",
   "metadata": {},
   "outputs": [
    {
     "data": {
      "text/plain": [
       "torch.Size([4, 3, 16, 16])"
      ]
     },
     "execution_count": 229,
     "metadata": {},
     "output_type": "execute_result"
    }
   ],
   "source": [
    "c.shape"
   ]
  },
  {
   "cell_type": "code",
   "execution_count": 230,
   "id": "c514c626-08b5-47d2-bba7-d7d281323aa6",
   "metadata": {},
   "outputs": [],
   "source": [
    "rn = tr.einsum('brkxy,bskxy->brsxy',r,r)"
   ]
  },
  {
   "cell_type": "code",
   "execution_count": 231,
   "id": "b2241b95-8d4e-40d6-a30f-f969523c22f9",
   "metadata": {},
   "outputs": [
    {
     "data": {
      "text/plain": [
       "tensor([[ 1.0000e+00, -8.9000e-09, -8.2250e-08],\n",
       "        [-8.9000e-09,  1.0000e+00, -2.0777e-08],\n",
       "        [-8.2250e-08, -2.0777e-08,  1.0000e+00]])"
      ]
     },
     "execution_count": 231,
     "metadata": {},
     "output_type": "execute_result"
    }
   ],
   "source": [
    "rn[0,:,:,0,0]"
   ]
  },
  {
   "cell_type": "code",
   "execution_count": 233,
   "id": "a75a8e8f-f52b-4299-86b0-f0afe229b81d",
   "metadata": {},
   "outputs": [
    {
     "data": {
      "text/plain": [
       "tensor(5.1610e-05)"
      ]
     },
     "execution_count": 233,
     "metadata": {},
     "output_type": "execute_result"
    }
   ],
   "source": [
    "tr.norm(rn - tr.eye(3).view(1,3,3,1,1))"
   ]
  },
  {
   "cell_type": "code",
   "execution_count": 255,
   "id": "392b2b2c-66c9-4f1d-8a7a-9c5f604a9132",
   "metadata": {},
   "outputs": [
    {
     "name": "stdout",
     "output_type": "stream",
     "text": [
      "Using cpu device\n",
      "Loading fields from:  o3_16_16_b1.263_bs4.pt\n",
      " HMC:  0  DH=  [0.0562744140625, -0.050537109375, -0.0548095703125, 0.01763916015625]  A/R=  [True, True, True, True]  Pacc=  1.0\n",
      " HMC:  1  DH=  [-0.0491943359375, 0.0400390625, 0.0537109375, 0.01959228515625]  A/R=  [True, True, True, True]  Pacc=  1.0\n",
      " HMC:  2  DH=  [0.0008544921875, -0.0216064453125, -0.05963134765625, 0.04278564453125]  A/R=  [True, True, True, True]  Pacc=  1.0\n",
      " HMC:  3  DH=  [-0.00640869140625, -0.00933837890625, 0.02398681640625, 0.012451171875]  A/R=  [True, True, True, True]  Pacc=  1.0\n",
      " HMC:  4  DH=  [0.040771484375, 0.0166015625, -0.00457763671875, -0.0452880859375]  A/R=  [True, True, True, True]  Pacc=  1.0\n",
      " HMC:  5  DH=  [-0.02197265625, 0.00775146484375, 0.01171875, 0.0181884765625]  A/R=  [True, True, True, True]  Pacc=  1.0\n",
      " HMC:  6  DH=  [-0.02960205078125, -0.015625, 0.08001708984375, -0.03594970703125]  A/R=  [True, True, True, True]  Pacc=  1.0\n",
      " HMC:  7  DH=  [0.0257568359375, -0.0323486328125, -0.036865234375, -0.01678466796875]  A/R=  [True, True, True, True]  Pacc=  1.0\n",
      " HMC:  8  DH=  [-0.00750732421875, -0.0067138671875, 0.028564453125, -0.03070068359375]  A/R=  [True, True, True, True]  Pacc=  1.0\n",
      " HMC:  9  DH=  [0.0028076171875, 0.0418701171875, -0.02587890625, 0.01953125]  A/R=  [True, True, True, True]  Pacc=  1.0\n",
      "torch.Size([3, 16, 16]) torch.Size([16, 16, 3])\n"
     ]
    },
    {
     "data": {
      "image/png": "[encoded data removed]",
      "text/plain": [
       "<Figure size 640x480 with 1 Axes>"
      ]
     },
     "metadata": {},
     "output_type": "display_data"
    }
   ],
   "source": [
    "import time\n",
    "import O3 as s\n",
    "import update as u\n",
    "import integrators as i\n",
    "    \n",
    "device = \"cuda\" if tr.cuda.is_available() else \"cpu\"\n",
    "print(f\"Using {device} device\")\n",
    "\n",
    "Nwarm =10\n",
    "L=16\n",
    "lat=[L,L]\n",
    "V=L*L\n",
    "batch_size=4\n",
    "beta = 1.263\n",
    "o  = s.O3(lat,beta,batch_size=batch_size)\n",
    "    \n",
    "sigma = o.hotStart()\n",
    "file='no-load'\n",
    "file='o3_16_16_b1.263_bs4.pt'\n",
    "if(file != 'no-load'):\n",
    "    print(\"Loading fields from: \",file)\n",
    "    sigma=tr.load(file)\n",
    "        \n",
    "mn2 = i.minnorm2(o.force,o.evolveQ,7,1.0)\n",
    "hmc = u.hmc(T=o,I=mn2)\n",
    "sigma = hmc.evolve(sigma,Nwarm)\n",
    "    \n",
    "sig2img = (sigma[0].permute((1,2,0))+1.0)/2.0\n",
    "print(sigma[0].shape,sig2img.shape)\n",
    "plt.imshow(sig2img, interpolation='nearest')\n",
    "tr.save(sigma,'o3_'+str(lat[0])+\"_\"+str(lat[1])+\"_b\"+str(beta)+\"_bs\"+str(o.Bs)+\".pt\")"
   ]
  },
  {
   "cell_type": "code",
   "execution_count": 266,
   "id": "1d62c222-1536-4291-aad1-4a9d1bc521d2",
   "metadata": {},
   "outputs": [
    {
     "name": "stdout",
     "output_type": "stream",
     "text": [
      "Reversibility check:  tensor(2.2500e-06)\n",
      "Orthogonality check:  tensor(6.8010e-05)\n"
     ]
    }
   ],
   "source": [
    "c,r,fc=coarsen(sigma)\n",
    "ff=refine(c,r)\n",
    "print(\"Reversibility check: \",tr.norm(sigma-ff).sum()/tr.norm(sigma))\n",
    "print(\"Orthogonality check: \",tr.norm(tr.einsum('brkxy,bskxy->brsxy',r,r) - tr.eye(3).view(1,3,3,1,1)))"
   ]
  },
  {
   "cell_type": "code",
   "execution_count": 286,
   "id": "251b1b7e-cb7f-42af-9c93-9ecff10258aa",
   "metadata": {},
   "outputs": [],
   "source": [
    "class RGlayer(nn.Module):\n",
    "    def __init__(self,transformation_type=\"select\",N=3):\n",
    "        super(RGlayer, self).__init__()\n",
    "        if(transformation_type==\"select\"):\n",
    "            mask_c = [[1.0,0.0],[0.0,0.0]]\n",
    "            mask_r = [[1.0,1.0],[1.0,1.0]]\n",
    "        elif(transformation_type==\"average\"):\n",
    "            mask_c = [[0.25,0.25],[0.25,0.25]]\n",
    "            mask_r = [[1.00,1.00],[1.00,1.00]]\n",
    "        else:\n",
    "            print(\"Uknown RG blocking transformation. Using default.\")\n",
    "            mask_c = [[1.0,0.0],[0.0,0.0]]\n",
    "            mask_r = [[1.0,0.0],[0.0,0.0]]\n",
    "                  \n",
    "        # We need this for debuging\n",
    "        self.type = transformation_type\n",
    "        print(\"Channels: \",N)\n",
    "        self.restrict = nn.Conv2d(groups=N,in_channels=N, out_channels=N, kernel_size=(2,2),stride=2,bias=False)\n",
    "        self.restrict.weight = tr.nn.Parameter(tr.tensor([[mask_c]]).repeat(N,1,1,1),requires_grad=False)\n",
    "        self.prolong = nn.ConvTranspose2d(groups=N,in_channels=N,out_channels=N,kernel_size=(2,2),stride=2,bias=False)\n",
    "        self.prolong.weight = tr.nn.Parameter(tr.tensor([[mask_r]]).repeat(N,1,1,1),requires_grad=False)\n",
    "\n",
    "    def coarsen(self,f):\n",
    "        c = self.restrict(f)\n",
    "        c = c/tr.norm(c,dim=1).view(c.shape[0],1,c.shape[2],c.shape[3])\n",
    "        fc = self.prolong(c)\n",
    "        i_one_p_dot = 1.0/(1.0+tr.einsum('bsxy,bsxy->bxy',fc,f))\n",
    "        A = tr.einsum('bsxy,brxy->bsrxy',fc,f)\n",
    "        A = A - A.transpose(1,2)\n",
    "        A2 = tr.einsum('bxy,bskxy,bkrxy->bsrxy',i_one_p_dot,A,A)\n",
    "        r = tr.eye(3,3).view(1,3,3,1,1) + A + A2\n",
    "        return c,r,fc\n",
    "    \n",
    "    def refine(self,c,r):\n",
    "        # rotate with the transpose\n",
    "        return tr.einsum('brsxy,brxy->bsxy',r,self.prolong(c))\n"
   ]
  },
  {
   "cell_type": "code",
   "execution_count": 287,
   "id": "e43085a3-5c52-4cfb-a6b9-1967df0587c0",
   "metadata": {},
   "outputs": [
    {
     "name": "stdout",
     "output_type": "stream",
     "text": [
      "Channels:  3\n"
     ]
    }
   ],
   "source": [
    "rg = RGlayer(transformation_type=\"average\")"
   ]
  },
  {
   "cell_type": "code",
   "execution_count": 288,
   "id": "5e5368ee-a852-4692-be1d-8acf2f09fa96",
   "metadata": {},
   "outputs": [],
   "source": [
    "cc,rr,ffc=rg.coarsen(sigma)"
   ]
  },
  {
   "cell_type": "code",
   "execution_count": 289,
   "id": "0ce71fe2-9986-400b-8b79-c4542f84ffcb",
   "metadata": {},
   "outputs": [
    {
     "data": {
      "text/plain": [
       "(tensor([0.7091, 0.6556, 0.2595]), tensor([0.7091, 0.6556, 0.2595]))"
      ]
     },
     "execution_count": 289,
     "metadata": {},
     "output_type": "execute_result"
    }
   ],
   "source": [
    "ffc[0,:,1,0],fc[0,:,1,0]"
   ]
  },
  {
   "cell_type": "code",
   "execution_count": 290,
   "id": "2508f7ed-d24b-4913-9462-f807c50f6b25",
   "metadata": {},
   "outputs": [
    {
     "data": {
      "text/plain": [
       "(tensor([0.7091, 0.6556, 0.2595]), tensor([0.7091, 0.6556, 0.2595]))"
      ]
     },
     "execution_count": 290,
     "metadata": {},
     "output_type": "execute_result"
    }
   ],
   "source": [
    "cc[0,:,0,0],c[0,:,0,0]"
   ]
  },
  {
   "cell_type": "code",
   "execution_count": 291,
   "id": "e7ee3aee-330f-4864-9fcd-4d15017337ea",
   "metadata": {},
   "outputs": [
    {
     "name": "stdout",
     "output_type": "stream",
     "text": [
      "Channels:  3\n"
     ]
    }
   ],
   "source": [
    "rgS = RGlayer()"
   ]
  },
  {
   "cell_type": "code",
   "execution_count": 292,
   "id": "3bd4a6b5-354a-4725-b7eb-e01c30a85c50",
   "metadata": {},
   "outputs": [],
   "source": [
    "ccS,rrS,ffcS=rgS.coarsen(sigma)"
   ]
  },
  {
   "cell_type": "code",
   "execution_count": 293,
   "id": "12d69aba-f2f8-4a29-b269-448993207d11",
   "metadata": {},
   "outputs": [],
   "source": [
    "fsigmaS = rgS.refine(ccS,rrS)"
   ]
  },
  {
   "cell_type": "code",
   "execution_count": 294,
   "id": "28329483-4afe-4cb5-a129-6ea86977a6e7",
   "metadata": {},
   "outputs": [
    {
     "data": {
      "text/plain": [
       "tensor(0.0004)"
      ]
     },
     "execution_count": 294,
     "metadata": {},
     "output_type": "execute_result"
    }
   ],
   "source": [
    "tr.norm(fsigmaS - sigma)"
   ]
  },
  {
   "cell_type": "code",
   "execution_count": 296,
   "id": "e8d31829-dfee-47f2-b7b8-b097b02ec5d3",
   "metadata": {},
   "outputs": [
    {
     "data": {
      "text/plain": [
       "(tensor([ 0.9877,  0.1438, -0.0619]), tensor([ 0.9877,  0.1438, -0.0619]))"
      ]
     },
     "execution_count": 296,
     "metadata": {},
     "output_type": "execute_result"
    }
   ],
   "source": [
    "fsigmaS[0,:,0,1],sigma[0,:,0,1]"
   ]
  },
  {
   "cell_type": "code",
   "execution_count": null,
   "id": "87e3320d-9f56-4c70-aee5-b1811c769756",
   "metadata": {},
   "outputs": [],
   "source": []
  }
 ],
 "metadata": {
  "kernelspec": {
   "display_name": "Python 3 (ipykernel)",
   "language": "python",
   "name": "python3"
  },
  "language_info": {
   "codemirror_mode": {
    "name": "ipython",
    "version": 3
   },
   "file_extension": ".py",
   "mimetype": "text/x-python",
   "name": "python",
   "nbconvert_exporter": "python",
   "pygments_lexer": "ipython3",
   "version": "3.12.3"
  }
 },
 "nbformat": 4,
 "nbformat_minor": 5
}
