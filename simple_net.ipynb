{
 "cells": [
  {
   "cell_type": "code",
   "execution_count": 24,
   "id": "113f0522-7251-4ed8-9e2f-867f4d5462f6",
   "metadata": {},
   "outputs": [],
   "source": [
    "import torch\n",
    "import torch.nn as nn\n",
    "import torch.nn.functional as F\n",
    "from torch import distributions\n",
    "from torch.nn.parameter import Parameter\n",
    "\n",
    "import numpy as np\n",
    "\n",
    "import matplotlib.pyplot as plt\n",
    "%matplotlib inline"
   ]
  },
  {
   "cell_type": "code",
   "execution_count": 2,
   "id": "430047d7-d370-45cd-ae12-75bb34548dbc",
   "metadata": {},
   "outputs": [],
   "source": [
    "mass = -0.2\n",
    "lam = 0.5\n",
    "def target_action(x):\n",
    "    A = torch.sum(lam/24.0* x**4 + (mass+2.0)*(x**2)/2.0 - x*torch.roll(x,dims=1,shifts=-1),dim=1 )\n",
    "    return A"
   ]
  },
  {
   "cell_type": "code",
   "execution_count": 3,
   "id": "3eddafea-6c2c-4c56-b1fe-366c7fe99af6",
   "metadata": {},
   "outputs": [],
   "source": [
    "x = torch.randn(1,2)"
   ]
  },
  {
   "cell_type": "code",
   "execution_count": 4,
   "id": "7817528d-6490-47c2-a327-6c4e3f2d5569",
   "metadata": {},
   "outputs": [
    {
     "data": {
      "text/plain": [
       "False"
      ]
     },
     "execution_count": 4,
     "metadata": {},
     "output_type": "execute_result"
    }
   ],
   "source": [
    "x.requires_grad"
   ]
  },
  {
   "cell_type": "code",
   "execution_count": 5,
   "id": "3ef8cfa3-3c6a-441f-ae5e-210c67618e6c",
   "metadata": {},
   "outputs": [],
   "source": [
    "class RealNVP(nn.Module):\n",
    "    def __init__(self, nets, nett, mask, prior):\n",
    "        super(RealNVP, self).__init__()\n",
    "        self.prior = prior\n",
    "        self.mask = nn.Parameter(mask, requires_grad=False)\n",
    "        self.t = torch.nn.ModuleList([nett() for _ in range(len(masks))])\n",
    "        self.s = torch.nn.ModuleList([nets() for _ in range(len(masks))])\n",
    "    \n",
    "    # this is the forward start from noise target\n",
    "    def g(self, z):\n",
    "        x = z\n",
    "        for i in range(len(self.t)):\n",
    "            x_ = x*self.mask[i]\n",
    "            s = self.s[i](x_)*(1 - self.mask[i])\n",
    "            t = self.t[i](x_)*(1 - self.mask[i])\n",
    "            x = x_ + (1 - self.mask[i]) * (x * torch.exp(s) + t)\n",
    "        return x\n",
    "    \n",
    "    # this is backward from target to noise\n",
    "    def f(self, x):\n",
    "        log_det_J, z = x.new_zeros(x.shape[0]), x\n",
    "        for i in reversed(range(len(self.t))):\n",
    "            z_ = self.mask[i] * z\n",
    "            s = self.s[i](z_) * (1-self.mask[i])\n",
    "            t = self.t[i](z_) * (1-self.mask[i])\n",
    "            z = (1 - self.mask[i]) * (z - t) * torch.exp(-s) + z_\n",
    "            log_det_J -= s.sum(dim=1)\n",
    "        return z, log_det_J\n",
    "    \n",
    "    def log_prob(self,x):\n",
    "        z, logp = self.f(x)\n",
    "        return self.prior.log_prob(z) + logp #+ self.C\n",
    "        \n",
    "    def sample(self, batchSize): \n",
    "        z = self.prior.sample((batchSize, 1))\n",
    "        #logp = self.prior.log_prob(z)\n",
    "        x = self.g(z)\n",
    "        return x\n",
    "    "
   ]
  },
  {
   "cell_type": "code",
   "execution_count": 6,
   "id": "4bfab531-a92a-4146-8da5-162011858da1",
   "metadata": {},
   "outputs": [],
   "source": [
    "# this are functions returning nets\n",
    "nets = lambda: nn.Sequential(nn.Linear(2, 256), nn.LeakyReLU(), nn.Linear(256, 256), nn.LeakyReLU(), nn.Linear(256, 2), nn.Tanh())\n",
    "nett = lambda: nn.Sequential(nn.Linear(2, 256), nn.LeakyReLU(), nn.Linear(256, 256), nn.LeakyReLU(), nn.Linear(256, 2))\n",
    "# the number of masks determines layers\n",
    "masks = torch.from_numpy(np.array([[0, 1], [1, 0]] * 3).astype(np.float32))\n",
    "prior = distributions.MultivariateNormal(torch.zeros(2), torch.eye(2))\n",
    "flow = RealNVP(nets, nett, masks, prior)"
   ]
  },
  {
   "cell_type": "code",
   "execution_count": 15,
   "id": "a6a97c5f-0fa4-4f54-940c-7e0192e1307f",
   "metadata": {},
   "outputs": [
    {
     "name": "stdout",
     "output_type": "stream",
     "text": [
      "iter 0: loss = -2.322\n",
      "iter 500: loss = -2.324\n",
      "iter 1000: loss = -2.326\n",
      "iter 1500: loss = -2.323\n",
      "iter 2000: loss = -2.326\n",
      "iter 2500: loss = -2.321\n",
      "iter 3000: loss = -2.324\n",
      "iter 3500: loss = -2.321\n",
      "iter 4000: loss = -2.326\n",
      "iter 4500: loss = -2.324\n",
      "iter 5000: loss = -2.323\n"
     ]
    }
   ],
   "source": [
    "optimizer = torch.optim.Adam([p for p in flow.parameters() if p.requires_grad==True], lr=1e-4)\n",
    "for t in range(5001):   \n",
    "    #with torch.no_grad():\n",
    "    z = prior.sample((2000, 1)).squeeze()\n",
    "    x = flow.g(z) # generate a sample\n",
    "    loss = (flow.log_prob(x)+target_action(x)).mean() # KL divergence (or not?)\n",
    "    optimizer.zero_grad()\n",
    "    loss.backward(retain_graph=True)\n",
    "    optimizer.step() \n",
    "    if t % 500 == 0:\n",
    "        #print(z.shape)\n",
    "        print('iter %s:' % t, 'loss = %.3f' % loss)"
   ]
  },
  {
   "cell_type": "code",
   "execution_count": 16,
   "id": "122ec0ce-1421-403a-8542-b36ba0c128ca",
   "metadata": {},
   "outputs": [],
   "source": [
    "z = prior.sample((10, 1)).squeeze()\n",
    "x = flow.g(z)"
   ]
  },
  {
   "cell_type": "code",
   "execution_count": 17,
   "id": "88411847-c3b4-4e19-bac9-41ed982730d6",
   "metadata": {},
   "outputs": [],
   "source": [
    "zz,j=flow.f(x)"
   ]
  },
  {
   "cell_type": "code",
   "execution_count": 18,
   "id": "9f380ba6-7b78-45b3-983b-7249ba5a0d5f",
   "metadata": {},
   "outputs": [
    {
     "data": {
      "text/plain": [
       "tensor([[-2.3842e-07,  1.1921e-07],\n",
       "        [ 1.1921e-07, -1.1921e-07],\n",
       "        [ 2.3842e-07,  0.0000e+00],\n",
       "        [-2.4214e-08, -5.9605e-08],\n",
       "        [-8.9407e-08,  1.1921e-07],\n",
       "        [-2.3842e-07,  1.1921e-07],\n",
       "        [-8.9407e-08,  7.4506e-09],\n",
       "        [ 0.0000e+00,  8.9407e-08],\n",
       "        [-6.5565e-07, -4.7684e-07],\n",
       "        [ 0.0000e+00, -4.1723e-07]], grad_fn=<SubBackward0>)"
      ]
     },
     "execution_count": 18,
     "metadata": {},
     "output_type": "execute_result"
    }
   ],
   "source": [
    "zz-z"
   ]
  },
  {
   "cell_type": "code",
   "execution_count": 19,
   "id": "34ebef39-138f-43e9-b5c4-f6b10a0e51e2",
   "metadata": {},
   "outputs": [
    {
     "name": "stdout",
     "output_type": "stream",
     "text": [
      "tensor([-2.2894, -2.2944, -2.2748, -2.3628, -2.3553, -2.2675, -2.3106, -2.3004,\n",
      "        -2.3906, -2.2086], grad_fn=<AddBackward0>)\n"
     ]
    }
   ],
   "source": [
    "diff = target_action(x)+flow.log_prob(x)\n",
    "print(diff)"
   ]
  },
  {
   "cell_type": "code",
   "execution_count": 20,
   "id": "d7a106cd-f3dc-4655-92d1-2d0b2594d465",
   "metadata": {},
   "outputs": [
    {
     "name": "stdout",
     "output_type": "stream",
     "text": [
      "tensor([ 0.0160,  0.0111,  0.0306, -0.0574, -0.0498,  0.0379, -0.0052,  0.0051,\n",
      "        -0.0852,  0.0968], grad_fn=<SubBackward0>)\n"
     ]
    }
   ],
   "source": [
    "print(diff - diff.mean())"
   ]
  },
  {
   "cell_type": "code",
   "execution_count": 21,
   "id": "ecd05c4c-33f9-40c1-a1c2-c60a9369cfad",
   "metadata": {},
   "outputs": [
    {
     "data": {
      "text/plain": [
       "tensor(5.3176, grad_fn=<MeanBackward0>)"
      ]
     },
     "execution_count": 21,
     "metadata": {},
     "output_type": "execute_result"
    }
   ],
   "source": [
    "((diff)**2).mean()"
   ]
  },
  {
   "cell_type": "code",
   "execution_count": 22,
   "id": "f80dcb1e-1c93-4bc8-ac71-5aa73814c672",
   "metadata": {},
   "outputs": [
    {
     "name": "stdout",
     "output_type": "stream",
     "text": [
      "True False\n"
     ]
    }
   ],
   "source": [
    "print(zz.requires_grad,z.requires_grad)"
   ]
  },
  {
   "cell_type": "code",
   "execution_count": 27,
   "id": "df62867b-1cbf-45e2-885f-c484672d87d9",
   "metadata": {},
   "outputs": [
    {
     "data": {
      "text/plain": [
       "<matplotlib.collections.PathCollection at 0x1368bba30>"
      ]
     },
     "execution_count": 27,
     "metadata": {},
     "output_type": "execute_result"
    },
    {
     "data": {
      "image/png": "[encoded data removed]",
      "text/plain": [
       "<Figure size 640x480 with 1 Axes>"
      ]
     },
     "metadata": {},
     "output_type": "display_data"
    }
   ],
   "source": [
    "x = flow.sample(2000).detach().numpy()\n",
    "plt.scatter(x[:, 0,0], x[:, 0,1], c='r')"
   ]
  },
  {
   "cell_type": "code",
   "execution_count": null,
   "id": "67fc819a-fbcf-4f76-a0e4-647a99b87482",
   "metadata": {},
   "outputs": [],
   "source": []
  }
 ],
 "metadata": {
  "kernelspec": {
   "display_name": "Python 3 (ipykernel)",
   "language": "python",
   "name": "python3"
  },
  "language_info": {
   "codemirror_mode": {
    "name": "ipython",
    "version": 3
   },
   "file_extension": ".py",
   "mimetype": "text/x-python",
   "name": "python",
   "nbconvert_exporter": "python",
   "pygments_lexer": "ipython3",
   "version": "3.10.8"
  }
 },
 "nbformat": 4,
 "nbformat_minor": 5
}
