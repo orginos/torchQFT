{
 "cells": [
  {
   "cell_type": "code",
   "execution_count": 1,
   "id": "0744e8be-5076-454c-bd32-921126a68463",
   "metadata": {},
   "outputs": [],
   "source": [
    "import torch as tr\n",
    "import su2_chain as s\n",
    "import integrators as integ"
   ]
  },
  {
   "cell_type": "code",
   "execution_count": 2,
   "id": "88295c31-e791-46d0-8765-4e507dc9a63f",
   "metadata": {},
   "outputs": [
    {
     "name": "stdout",
     "output_type": "stream",
     "text": [
      "tensor([ 0.3587, -1.7242,  0.9467, -0.0465])\n",
      "tensor([[ 0.1794-0.0233j, -0.4734-0.8621j],\n",
      "        [ 0.4734-0.8621j,  0.1794+0.0233j]])\n",
      "Should be identity\n",
      "tensor([[1.0000+1.1954e-08j, 0.0000+0.0000e+00j],\n",
      "        [0.0000+0.0000e+00j, 1.0000-1.1954e-08j]])\n"
     ]
    }
   ],
   "source": [
    "a = tr.normal(0.0,2.0,[4])\n",
    "a = 2*a/tr.norm(a)\n",
    "print(a)\n",
    "U = s.Mat(a) #tr.sum(a[:,None,None] * basis,dim=0)\n",
    "print(U)\n",
    "print(\"Should be identity\")\n",
    "print(s.TdxT(U,U))"
   ]
  },
  {
   "cell_type": "code",
   "execution_count": 3,
   "id": "9e3c4036-6611-4d19-8552-3bb2a09c4b7a",
   "metadata": {},
   "outputs": [
    {
     "name": "stdout",
     "output_type": "stream",
     "text": [
      "tensor([ 0.7586, -1.5493, -0.5290, -0.8627])\n",
      "tensor([[ 0.3793-0.4314j,  0.2645-0.7747j],\n",
      "        [-0.2645-0.7747j,  0.3793+0.4314j]])\n",
      "Should be identity\n",
      "tensor([[1.0000+2.0226e-09j, 0.0000+0.0000e+00j],\n",
      "        [0.0000+0.0000e+00j, 1.0000-2.0226e-09j]])\n"
     ]
    }
   ],
   "source": [
    "b = tr.normal(0.0,2.0,[4])\n",
    "b = 2*b/tr.norm(b)\n",
    "print(b)\n",
    "V = s.Mat(b) #tr.sum(a[:,None,None] * basis,dim=0)\n",
    "print(V)\n",
    "print(\"Should be identity\")\n",
    "print(s.TdxT(V,V))"
   ]
  },
  {
   "cell_type": "code",
   "execution_count": 4,
   "id": "57a5a0dd-d8fd-4ee4-a4c0-9a9dbc91a478",
   "metadata": {},
   "outputs": [
    {
     "data": {
      "text/plain": [
       "5.960464477539063e-08"
      ]
     },
     "execution_count": 4,
     "metadata": {},
     "output_type": "execute_result"
    }
   ],
   "source": [
    "tr.trace(U@tr.conj(V.T)).real.item()/2-(a@b/4).item()"
   ]
  },
  {
   "cell_type": "code",
   "execution_count": 5,
   "id": "8cd48d5b-c9b3-4964-951d-196c6fea04ad",
   "metadata": {},
   "outputs": [],
   "source": [
    "su2f = s.field([128,128],Nbatch=2)"
   ]
  },
  {
   "cell_type": "code",
   "execution_count": 6,
   "id": "369d3d98-6656-4109-9841-c6761fe1e52b",
   "metadata": {},
   "outputs": [],
   "source": [
    "su2c = s.SU2chain(beta=2.0,field_type=su2f)"
   ]
  },
  {
   "cell_type": "code",
   "execution_count": 7,
   "id": "01e8b7cb-aeb1-41c3-8683-8bdbb0cce567",
   "metadata": {},
   "outputs": [],
   "source": [
    "P = su2c.refreshP()"
   ]
  },
  {
   "cell_type": "code",
   "execution_count": 8,
   "id": "9823270b-5e80-4c35-b79f-7669d9f6b80b",
   "metadata": {},
   "outputs": [
    {
     "name": "stdout",
     "output_type": "stream",
     "text": [
      "torch.Size([2, 128, 128, 4])\n"
     ]
    },
    {
     "data": {
      "text/plain": [
       "torch.Size([2, 128, 128, 2, 2])"
      ]
     },
     "execution_count": 8,
     "metadata": {},
     "output_type": "execute_result"
    }
   ],
   "source": [
    "U =su2c.f.hot()\n",
    "U.shape"
   ]
  },
  {
   "cell_type": "code",
   "execution_count": 9,
   "id": "3203175a-7ffd-48ad-be92-368b0a35aec1",
   "metadata": {},
   "outputs": [],
   "source": [
    "a= su2c.f.coeffs(U)"
   ]
  },
  {
   "cell_type": "code",
   "execution_count": 10,
   "id": "62272407-c78d-4df9-8db9-0bef3216da08",
   "metadata": {},
   "outputs": [
    {
     "data": {
      "text/plain": [
       "torch.Size([2, 128, 128, 4])"
      ]
     },
     "execution_count": 10,
     "metadata": {},
     "output_type": "execute_result"
    }
   ],
   "source": [
    "a.shape"
   ]
  },
  {
   "cell_type": "code",
   "execution_count": 11,
   "id": "41ad8cbf-f66b-4b2c-a65a-bc638fb935e3",
   "metadata": {},
   "outputs": [
    {
     "data": {
      "text/plain": [
       "tensor([[0.+0.j, 0.+0.j],\n",
       "        [0.+0.j, 0.+0.j]])"
      ]
     },
     "execution_count": 11,
     "metadata": {},
     "output_type": "execute_result"
    }
   ],
   "source": [
    "s.Mat(a[0,0,0,:])- U[0,0,0,:,:]"
   ]
  },
  {
   "cell_type": "code",
   "execution_count": 12,
   "id": "2dc0c964-9ea8-4ebe-a09a-69842c77ff4e",
   "metadata": {},
   "outputs": [],
   "source": [
    "FF = su2c.f.mat(a)"
   ]
  },
  {
   "cell_type": "code",
   "execution_count": 13,
   "id": "09c74c32-110c-4370-b3e6-d77de5132fb3",
   "metadata": {},
   "outputs": [
    {
     "data": {
      "text/plain": [
       "tensor(0.)"
      ]
     },
     "execution_count": 13,
     "metadata": {},
     "output_type": "execute_result"
    }
   ],
   "source": [
    "(FF-U).norm()"
   ]
  },
  {
   "cell_type": "code",
   "execution_count": 14,
   "id": "b9b46a87-fd6b-4ef3-806d-467dacc1fb93",
   "metadata": {},
   "outputs": [
    {
     "data": {
      "text/plain": [
       "torch.Size([2, 128, 128, 2, 2])"
      ]
     },
     "execution_count": 14,
     "metadata": {},
     "output_type": "execute_result"
    }
   ],
   "source": [
    "P.shape"
   ]
  },
  {
   "cell_type": "code",
   "execution_count": null,
   "id": "013277e4-c121-4d4c-89ea-cba6d9ddf588",
   "metadata": {},
   "outputs": [],
   "source": []
  },
  {
   "cell_type": "code",
   "execution_count": 15,
   "id": "11aed39b-69f4-491c-bd74-b6584b1003e3",
   "metadata": {},
   "outputs": [
    {
     "data": {
      "text/plain": [
       "(tensor(-0.0006), tensor(0.5009), tensor(0.0008), tensor(0.5003))"
      ]
     },
     "execution_count": 15,
     "metadata": {},
     "output_type": "execute_result"
    }
   ],
   "source": [
    "P[...,1,0].real.mean(), P[...,1,0].real.std(),P[...,1,0].imag.mean(), P[...,1,0].imag.std()"
   ]
  },
  {
   "cell_type": "code",
   "execution_count": 16,
   "id": "6889c6ba-63b9-4ad5-928c-d8f79dec5027",
   "metadata": {},
   "outputs": [
    {
     "data": {
      "text/plain": [
       "(tensor(0.), tensor(0.), tensor(-0.0013), tensor(0.5009))"
      ]
     },
     "execution_count": 16,
     "metadata": {},
     "output_type": "execute_result"
    }
   ],
   "source": [
    "P[...,0,0].real.mean(), P[...,0,0].real.std(),P[...,0,0].imag.mean(), P[...,0,0].imag.std()"
   ]
  },
  {
   "cell_type": "code",
   "execution_count": 17,
   "id": "05881037-1595-4d65-986d-b39b9299f683",
   "metadata": {},
   "outputs": [
    {
     "data": {
      "text/plain": [
       "tensor(1.4142)"
      ]
     },
     "execution_count": 17,
     "metadata": {},
     "output_type": "execute_result"
    }
   ],
   "source": [
    "tr.sqrt(tr.tensor(2))"
   ]
  },
  {
   "cell_type": "code",
   "execution_count": 18,
   "id": "80fa2881-9c08-4afc-beab-61ddea71e157",
   "metadata": {},
   "outputs": [],
   "source": [
    "pp = 2.0*tr.einsum('kij,...ji->...k',s.tau,P)"
   ]
  },
  {
   "cell_type": "code",
   "execution_count": 19,
   "id": "024736f5-3902-4429-b71d-d0444b41e544",
   "metadata": {},
   "outputs": [
    {
     "data": {
      "text/plain": [
       "tensor([1.0005, 1.0018, 1.0017])"
      ]
     },
     "execution_count": 19,
     "metadata": {},
     "output_type": "execute_result"
    }
   ],
   "source": [
    "pp.real.std(dim=(0,1,2))"
   ]
  },
  {
   "cell_type": "code",
   "execution_count": 20,
   "id": "e10ccea2-d5b1-4377-bb3e-d24bd843f8de",
   "metadata": {},
   "outputs": [
    {
     "data": {
      "text/plain": [
       "torch.Size([2, 128, 128, 3])"
      ]
     },
     "execution_count": 20,
     "metadata": {},
     "output_type": "execute_result"
    }
   ],
   "source": [
    "pp.shape"
   ]
  },
  {
   "cell_type": "code",
   "execution_count": 21,
   "id": "26f75e01-a714-4f6b-804b-a38e33afd60b",
   "metadata": {},
   "outputs": [],
   "source": [
    "ff = -tr.einsum('...k,kij->...ij',pp,s.tau)"
   ]
  },
  {
   "cell_type": "code",
   "execution_count": 22,
   "id": "5a4c6821-974f-4cf6-812e-ba309df78681",
   "metadata": {},
   "outputs": [
    {
     "data": {
      "text/plain": [
       "tensor([[-0.+0.j, 0.+0.j],\n",
       "        [0.+0.j, 0.+0.j]])"
      ]
     },
     "execution_count": 22,
     "metadata": {},
     "output_type": "execute_result"
    }
   ],
   "source": [
    "ff[0,0,0]-P[0,0,0]"
   ]
  },
  {
   "cell_type": "code",
   "execution_count": 23,
   "id": "14c855e8-514f-402e-8b6f-ff707f81ecba",
   "metadata": {},
   "outputs": [
    {
     "data": {
      "text/plain": [
       "tensor(0.+0.j)"
      ]
     },
     "execution_count": 23,
     "metadata": {},
     "output_type": "execute_result"
    }
   ],
   "source": [
    "tr.trace(P[0,0,0])"
   ]
  },
  {
   "cell_type": "code",
   "execution_count": 24,
   "id": "947c6771-ef6a-4c71-b408-d2f4d45c4278",
   "metadata": {},
   "outputs": [
    {
     "data": {
      "text/plain": [
       "tensor(49283.2422)"
      ]
     },
     "execution_count": 24,
     "metadata": {},
     "output_type": "execute_result"
    }
   ],
   "source": [
    "tr.einsum('...ij,...ij->',P,P.conj()).real"
   ]
  },
  {
   "cell_type": "code",
   "execution_count": 25,
   "id": "53616e6a-0c02-482f-bbea-b66b2fc252c9",
   "metadata": {},
   "outputs": [
    {
     "data": {
      "text/plain": [
       "tensor(49283.2109+0.j)"
      ]
     },
     "execution_count": 25,
     "metadata": {},
     "output_type": "execute_result"
    }
   ],
   "source": [
    "tr.einsum('...k,...k->',pp,pp)/2"
   ]
  },
  {
   "cell_type": "code",
   "execution_count": 26,
   "id": "a4f3db83-06f5-45da-b670-98dd1ce2ad5a",
   "metadata": {},
   "outputs": [
    {
     "data": {
      "text/plain": [
       "tensor(1.2442e-05)"
      ]
     },
     "execution_count": 26,
     "metadata": {},
     "output_type": "execute_result"
    }
   ],
   "source": [
    "(tr.norm(P,dim=(su2c.f.ci[0],su2c.f.ci[1])) - tr.norm(pp,dim=(len(pp.shape)-1))/tr.sqrt(tr.tensor(2))).norm()"
   ]
  },
  {
   "cell_type": "code",
   "execution_count": 27,
   "id": "ecefdd20-fdfe-40ba-b8ac-a053e9ec9c33",
   "metadata": {},
   "outputs": [],
   "source": [
    "E = su2c.f.expo(P)"
   ]
  },
  {
   "cell_type": "code",
   "execution_count": 28,
   "id": "2b583a1e-b582-468e-8c56-39d9890566ed",
   "metadata": {},
   "outputs": [
    {
     "data": {
      "text/plain": [
       "tensor([[ 1.0000e+00+0.j, -3.2249e-10+0.j],\n",
       "        [-3.2249e-10+0.j,  1.0000e+00+0.j]])"
      ]
     },
     "execution_count": 28,
     "metadata": {},
     "output_type": "execute_result"
    }
   ],
   "source": [
    "E[0,0,0] @ E[0,0,0].conj().transpose(0,1)"
   ]
  },
  {
   "cell_type": "code",
   "execution_count": 29,
   "id": "c92cb7a4-e507-4697-86cb-e769081e6202",
   "metadata": {},
   "outputs": [
    {
     "data": {
      "text/plain": [
       "(tensor([[ 0.4029+0.5574j,  0.3409-0.6186j],\n",
       "         [-0.3409-0.6186j,  0.4029-0.5574j]]),\n",
       " tensor([[ 0.3997+0.5679j,  0.3473-0.6302j],\n",
       "         [-0.3473-0.6302j,  0.3997-0.5679j]]))"
      ]
     },
     "execution_count": 29,
     "metadata": {},
     "output_type": "execute_result"
    }
   ],
   "source": [
    "tr.eye(2,2) + P[0,0,0]@(tr.eye(2,2) + 0.5*P[0,0,0]@(tr.eye(2,2)+ 1/3*P[0,0,0]@(tr.eye(2,2) + 1/4*P[0,0,0]))), E[0,0,0]"
   ]
  },
  {
   "cell_type": "code",
   "execution_count": 30,
   "id": "e87eda44-25a6-48a6-ad6a-ed8c9690718a",
   "metadata": {},
   "outputs": [
    {
     "name": "stdout",
     "output_type": "stream",
     "text": [
      "The total initial kinetic energy is:  tensor([24678.9434, 24559.0566])\n",
      "The total initial potential energy is:  tensor([65234.5312, 65500.9297])\n",
      "The total initial energy is:  tensor([89913.4766, 90059.9844])\n"
     ]
    }
   ],
   "source": [
    "P = su2c.refreshP()\n",
    "Ken = su2c.kinetic(P)\n",
    "Ven = su2c.action(U)\n",
    "Hi = Ken + Ven\n",
    "print(\"The total initial kinetic energy is: \",Ken)\n",
    "print(\"The total initial potential energy is: \",Ven)\n",
    "print(\"The total initial energy is: \",Hi)"
   ]
  },
  {
   "cell_type": "code",
   "execution_count": 31,
   "id": "ded8bde8-0557-4a26-9b15-fd01282e2cfb",
   "metadata": {},
   "outputs": [],
   "source": [
    "dt = 0.1\n",
    "k = 10\n",
    "l = integ.leapfrog(su2c.force,su2f.evolveQ,k,1.0)\n",
    "m = integ.minnorm2(su2c.force,su2f.evolveQ,k,1.0)\n",
    "PP ,QQ  = l.integrate(P,U)\n",
    "PP2,QQ2 = m.integrate(P,U)"
   ]
  },
  {
   "cell_type": "code",
   "execution_count": 32,
   "id": "f2712a83-1988-4bfa-9caf-671bd5f27cde",
   "metadata": {},
   "outputs": [
    {
     "name": "stdout",
     "output_type": "stream",
     "text": [
      "The total initial kinetic energy is:  tensor([63384.7227, 63153.3750])\n",
      "The total initial potential energy is:  tensor([80647.8047, 80779.1562])\n",
      "The total initial energy is:  tensor([144032.5312, 143932.5312])\n",
      "The total energy diff is:  tensor([54119.0547, 53872.5469])\n"
     ]
    }
   ],
   "source": [
    "KenF = su2c.kinetic(PP)\n",
    "VenF = su2c.action(QQ)\n",
    "Hf = KenF + VenF\n",
    "print(\"The total initial kinetic energy is: \",KenF)\n",
    "print(\"The total initial potential energy is: \",VenF)\n",
    "print(\"The total initial energy is: \",Hf)\n",
    "print(\"The total energy diff is: \",Hf-Hi)"
   ]
  },
  {
   "cell_type": "code",
   "execution_count": 33,
   "id": "4ebd646d-478c-4869-be0f-8b67b3ab4686",
   "metadata": {},
   "outputs": [
    {
     "name": "stdout",
     "output_type": "stream",
     "text": [
      "The total initial kinetic energy is:  tensor([63513.3203, 63281.7227])\n",
      "The total initial potential energy is:  tensor([80689.8516, 80821.3906])\n",
      "The total initial energy is:  tensor([144203.1719, 144103.1094])\n",
      "The total energy diff is:  tensor([54289.6953, 54043.1250])\n"
     ]
    }
   ],
   "source": [
    "KenF = su2c.kinetic(PP2)\n",
    "VenF = su2c.action(QQ2)\n",
    "Hf = KenF + VenF\n",
    "print(\"The total initial kinetic energy is: \",KenF)\n",
    "print(\"The total initial potential energy is: \",VenF)\n",
    "print(\"The total initial energy is: \",Hf)\n",
    "print(\"The total energy diff is: \",Hf-Hi)"
   ]
  },
  {
   "cell_type": "code",
   "execution_count": 39,
   "id": "ab8821a7-e9a1-4ab6-886b-edb08ab0e005",
   "metadata": {},
   "outputs": [],
   "source": [
    "foo = tr.einsum('kij,klm->ijlm',s.tau,s.tau)"
   ]
  },
  {
   "cell_type": "code",
   "execution_count": 52,
   "id": "240be0cc-250e-4c4a-a8bf-2acd9075983c",
   "metadata": {},
   "outputs": [
    {
     "data": {
      "text/plain": [
       "tensor(0.2500+0.j)"
      ]
     },
     "execution_count": 52,
     "metadata": {},
     "output_type": "execute_result"
    }
   ],
   "source": [
    "foo[0,0,1,1]"
   ]
  },
  {
   "cell_type": "code",
   "execution_count": 53,
   "id": "86614ee0-4056-4b29-8b7a-161da21efa0a",
   "metadata": {},
   "outputs": [
    {
     "data": {
      "text/plain": [
       "tensor([[[[[ 0.8563-0.5045j, -0.0079+0.1100j],\n",
       "           [ 0.0079+0.1100j,  0.8563+0.5045j]],\n",
       "\n",
       "          [[ 0.6737+0.0687j, -0.0706+0.7324j],\n",
       "           [ 0.0706+0.7324j,  0.6737-0.0687j]],\n",
       "\n",
       "          [[ 0.5979-0.7358j,  0.3102+0.0701j],\n",
       "           [-0.3102+0.0701j,  0.5979+0.7358j]],\n",
       "\n",
       "          ...,\n",
       "\n",
       "          [[-0.4399-0.4763j,  0.6419+0.4093j],\n",
       "           [-0.6419+0.4093j, -0.4399+0.4763j]],\n",
       "\n",
       "          [[-0.6025-0.0933j,  0.4669-0.6406j],\n",
       "           [-0.4669-0.6406j, -0.6025+0.0933j]],\n",
       "\n",
       "          [[ 0.0201+0.0138j,  0.9656-0.2590j],\n",
       "           [-0.9656-0.2590j,  0.0201-0.0138j]]],\n",
       "\n",
       "\n",
       "         [[[-0.1203-0.3299j, -0.1690+0.9210j],\n",
       "           [ 0.1690+0.9210j, -0.1203+0.3299j]],\n",
       "\n",
       "          [[ 0.9226-0.0844j,  0.2718-0.2602j],\n",
       "           [-0.2718-0.2602j,  0.9226+0.0844j]],\n",
       "\n",
       "          [[-0.9321-0.0189j, -0.3318-0.1440j],\n",
       "           [ 0.3318-0.1440j, -0.9321+0.0189j]],\n",
       "\n",
       "          ...,\n",
       "\n",
       "          [[-0.0930-0.5381j,  0.3804+0.7464j],\n",
       "           [-0.3804+0.7464j, -0.0930+0.5381j]],\n",
       "\n",
       "          [[ 0.0746-0.2835j,  0.5374-0.7907j],\n",
       "           [-0.5374-0.7907j,  0.0746+0.2835j]],\n",
       "\n",
       "          [[ 0.6040-0.1607j, -0.7399+0.2486j],\n",
       "           [ 0.7399+0.2486j,  0.6040+0.1607j]]],\n",
       "\n",
       "\n",
       "         [[[-0.4430-0.0727j,  0.2612+0.8545j],\n",
       "           [-0.2612+0.8545j, -0.4430+0.0727j]],\n",
       "\n",
       "          [[-0.3841+0.6728j, -0.6197-0.1257j],\n",
       "           [ 0.6197-0.1257j, -0.3841-0.6728j]],\n",
       "\n",
       "          [[ 0.4229+0.6294j, -0.3454-0.5529j],\n",
       "           [ 0.3454-0.5529j,  0.4229-0.6294j]],\n",
       "\n",
       "          ...,\n",
       "\n",
       "          [[-0.0063-0.3986j, -0.4249+0.8127j],\n",
       "           [ 0.4249+0.8127j, -0.0063+0.3986j]],\n",
       "\n",
       "          [[ 0.2136-0.4232j,  0.8418+0.2579j],\n",
       "           [-0.8418+0.2579j,  0.2136+0.4232j]],\n",
       "\n",
       "          [[-0.1613-0.2643j,  0.8608-0.4039j],\n",
       "           [-0.8608-0.4039j, -0.1613+0.2643j]]],\n",
       "\n",
       "\n",
       "         ...,\n",
       "\n",
       "\n",
       "         [[[ 0.0126-0.3178j,  0.1008-0.9427j],\n",
       "           [-0.1008-0.9427j,  0.0126+0.3178j]],\n",
       "\n",
       "          [[ 0.7612+0.2990j,  0.5447-0.1853j],\n",
       "           [-0.5447-0.1853j,  0.7612-0.2990j]],\n",
       "\n",
       "          [[ 0.3388+0.9092j, -0.1812+0.1604j],\n",
       "           [ 0.1812+0.1604j,  0.3388-0.9092j]],\n",
       "\n",
       "          ...,\n",
       "\n",
       "          [[ 0.6511+0.6229j,  0.2759+0.3347j],\n",
       "           [-0.2759+0.3347j,  0.6511-0.6229j]],\n",
       "\n",
       "          [[-0.7742-0.3988j,  0.4194-0.2563j],\n",
       "           [-0.4194-0.2563j, -0.7742+0.3988j]],\n",
       "\n",
       "          [[-0.4888+0.7291j,  0.4220+0.2267j],\n",
       "           [-0.4220+0.2267j, -0.4888-0.7291j]]],\n",
       "\n",
       "\n",
       "         [[[-0.5649-0.1060j, -0.7732+0.2680j],\n",
       "           [ 0.7732+0.2680j, -0.5649+0.1060j]],\n",
       "\n",
       "          [[-0.6391-0.1828j,  0.7201+0.1987j],\n",
       "           [-0.7201+0.1987j, -0.6391+0.1828j]],\n",
       "\n",
       "          [[-0.7399-0.5946j, -0.1537-0.2746j],\n",
       "           [ 0.1537-0.2746j, -0.7399+0.5946j]],\n",
       "\n",
       "          ...,\n",
       "\n",
       "          [[-0.5059-0.1072j,  0.6297-0.5798j],\n",
       "           [-0.6297-0.5798j, -0.5059+0.1072j]],\n",
       "\n",
       "          [[-0.3222+0.1763j,  0.3204+0.8732j],\n",
       "           [-0.3204+0.8732j, -0.3222-0.1763j]],\n",
       "\n",
       "          [[ 0.3856+0.6038j,  0.0253-0.6973j],\n",
       "           [-0.0253-0.6973j,  0.3856-0.6038j]]],\n",
       "\n",
       "\n",
       "         [[[-0.3268+0.5555j,  0.4183-0.6401j],\n",
       "           [-0.4183-0.6401j, -0.3268-0.5555j]],\n",
       "\n",
       "          [[-0.6410-0.0415j, -0.7658-0.0319j],\n",
       "           [ 0.7658-0.0319j, -0.6410+0.0415j]],\n",
       "\n",
       "          [[ 0.0119+0.2545j,  0.1071+0.9610j],\n",
       "           [-0.1071+0.9610j,  0.0119-0.2545j]],\n",
       "\n",
       "          ...,\n",
       "\n",
       "          [[ 0.7909+0.1313j, -0.5065-0.3171j],\n",
       "           [ 0.5065-0.3171j,  0.7909-0.1313j]],\n",
       "\n",
       "          [[ 0.1362+0.3764j,  0.1058-0.9103j],\n",
       "           [-0.1058-0.9103j,  0.1362-0.3764j]],\n",
       "\n",
       "          [[ 0.7030+0.2465j,  0.6110-0.2676j],\n",
       "           [-0.6110-0.2676j,  0.7030-0.2465j]]]],\n",
       "\n",
       "\n",
       "\n",
       "        [[[[ 0.1024-0.0774j, -0.8827-0.4521j],\n",
       "           [ 0.8827-0.4521j,  0.1024+0.0774j]],\n",
       "\n",
       "          [[-0.3588+0.4080j,  0.1164-0.8314j],\n",
       "           [-0.1164-0.8314j, -0.3588-0.4080j]],\n",
       "\n",
       "          [[ 0.2672-0.5347j,  0.4528+0.6616j],\n",
       "           [-0.4528+0.6616j,  0.2672+0.5347j]],\n",
       "\n",
       "          ...,\n",
       "\n",
       "          [[-0.7714+0.3465j, -0.5264+0.0878j],\n",
       "           [ 0.5264+0.0878j, -0.7714-0.3465j]],\n",
       "\n",
       "          [[-0.2140-0.2478j, -0.2408-0.9137j],\n",
       "           [ 0.2408-0.9137j, -0.2140+0.2478j]],\n",
       "\n",
       "          [[ 0.7546+0.1936j,  0.5523-0.2969j],\n",
       "           [-0.5523-0.2969j,  0.7546-0.1936j]]],\n",
       "\n",
       "\n",
       "         [[[ 0.1391-0.5151j, -0.5253-0.6629j],\n",
       "           [ 0.5253-0.6629j,  0.1391+0.5151j]],\n",
       "\n",
       "          [[ 0.4550+0.6117j, -0.3559-0.5405j],\n",
       "           [ 0.3559-0.5405j,  0.4550-0.6117j]],\n",
       "\n",
       "          [[ 0.1471+0.0559j, -0.2635-0.9517j],\n",
       "           [ 0.2635-0.9517j,  0.1471-0.0559j]],\n",
       "\n",
       "          ...,\n",
       "\n",
       "          [[ 0.7015+0.4769j,  0.4692-0.2457j],\n",
       "           [-0.4692-0.2457j,  0.7015-0.4769j]],\n",
       "\n",
       "          [[ 0.0911-0.1753j, -0.7902+0.5802j],\n",
       "           [ 0.7902+0.5802j,  0.0911+0.1753j]],\n",
       "\n",
       "          [[ 0.7226+0.5293j, -0.1857-0.4039j],\n",
       "           [ 0.1857-0.4039j,  0.7226-0.5293j]]],\n",
       "\n",
       "\n",
       "         [[[-0.2719-0.7825j, -0.5597+0.0214j],\n",
       "           [ 0.5597+0.0214j, -0.2719+0.7825j]],\n",
       "\n",
       "          [[ 0.8548+0.4358j, -0.1092-0.2596j],\n",
       "           [ 0.1092-0.2596j,  0.8548-0.4358j]],\n",
       "\n",
       "          [[-0.5523+0.7079j,  0.1912-0.3967j],\n",
       "           [-0.1912-0.3967j, -0.5523-0.7079j]],\n",
       "\n",
       "          ...,\n",
       "\n",
       "          [[-0.5379-0.2414j, -0.6987+0.4053j],\n",
       "           [ 0.6987+0.4053j, -0.5379+0.2414j]],\n",
       "\n",
       "          [[ 0.6181+0.7844j,  0.0499+0.0145j],\n",
       "           [-0.0499+0.0145j,  0.6181-0.7844j]],\n",
       "\n",
       "          [[-0.7701+0.1174j,  0.1536+0.6079j],\n",
       "           [-0.1536+0.6079j, -0.7701-0.1174j]]],\n",
       "\n",
       "\n",
       "         ...,\n",
       "\n",
       "\n",
       "         [[[ 0.4713+0.2395j, -0.1054-0.8423j],\n",
       "           [ 0.1054-0.8423j,  0.4713-0.2395j]],\n",
       "\n",
       "          [[ 0.0239-0.8401j,  0.4607-0.2852j],\n",
       "           [-0.4607-0.2852j,  0.0239+0.8401j]],\n",
       "\n",
       "          [[ 0.2897+0.9262j,  0.2256+0.0861j],\n",
       "           [-0.2256+0.0861j,  0.2897-0.9262j]],\n",
       "\n",
       "          ...,\n",
       "\n",
       "          [[-0.0104-0.6673j, -0.5281+0.5251j],\n",
       "           [ 0.5281+0.5251j, -0.0104+0.6673j]],\n",
       "\n",
       "          [[-0.1860+0.5139j,  0.8208-0.1660j],\n",
       "           [-0.8208-0.1660j, -0.1860-0.5139j]],\n",
       "\n",
       "          [[-0.6134+0.6028j,  0.4816-0.1688j],\n",
       "           [-0.4816-0.1688j, -0.6134-0.6028j]]],\n",
       "\n",
       "\n",
       "         [[[-0.5128-0.7830j,  0.2403+0.2574j],\n",
       "           [-0.2403+0.2574j, -0.5128+0.7830j]],\n",
       "\n",
       "          [[ 0.8020-0.3035j, -0.3911+0.3341j],\n",
       "           [ 0.3911+0.3341j,  0.8020+0.3035j]],\n",
       "\n",
       "          [[ 0.6439-0.1647j,  0.7435-0.0734j],\n",
       "           [-0.7435-0.0734j,  0.6439+0.1647j]],\n",
       "\n",
       "          ...,\n",
       "\n",
       "          [[-0.4054+0.6959j,  0.1137+0.5818j],\n",
       "           [-0.1137+0.5818j, -0.4054-0.6959j]],\n",
       "\n",
       "          [[-0.7277+0.2071j,  0.0802+0.6489j],\n",
       "           [-0.0802+0.6489j, -0.7277-0.2071j]],\n",
       "\n",
       "          [[-0.6230-0.5919j,  0.5069+0.0669j],\n",
       "           [-0.5069+0.0669j, -0.6230+0.5919j]]],\n",
       "\n",
       "\n",
       "         [[[ 0.0411+0.3191j, -0.3513-0.8792j],\n",
       "           [ 0.3513-0.8792j,  0.0411-0.3191j]],\n",
       "\n",
       "          [[ 0.8654+0.4265j, -0.0536+0.2575j],\n",
       "           [ 0.0536+0.2575j,  0.8654-0.4265j]],\n",
       "\n",
       "          [[-0.2199-0.8374j, -0.0854+0.4930j],\n",
       "           [ 0.0854+0.4930j, -0.2199+0.8374j]],\n",
       "\n",
       "          ...,\n",
       "\n",
       "          [[ 0.1254-0.9236j,  0.2636+0.2486j],\n",
       "           [-0.2636+0.2486j,  0.1254+0.9236j]],\n",
       "\n",
       "          [[-0.9100+0.2117j, -0.0329+0.3549j],\n",
       "           [ 0.0329+0.3549j, -0.9100-0.2117j]],\n",
       "\n",
       "          [[ 0.1266+0.7709j, -0.5687+0.2574j],\n",
       "           [ 0.5687+0.2574j,  0.1266-0.7709j]]]]])"
      ]
     },
     "execution_count": 53,
     "metadata": {},
     "output_type": "execute_result"
    }
   ],
   "source": [
    "U"
   ]
  },
  {
   "cell_type": "code",
   "execution_count": 55,
   "id": "60c14b8b-655b-4ddf-8f24-4f4a290eff9d",
   "metadata": {},
   "outputs": [
    {
     "data": {
      "text/plain": [
       "tensor(1.2466+0.j)"
      ]
     },
     "execution_count": 55,
     "metadata": {},
     "output_type": "execute_result"
    }
   ],
   "source": [
    "tr.trace(U[0,0,0]@U[0,0,1].T.conj())"
   ]
  },
  {
   "cell_type": "code",
   "execution_count": null,
   "id": "9e36f823-143a-4641-aeee-4a2d57abe9f7",
   "metadata": {},
   "outputs": [],
   "source": []
  }
 ],
 "metadata": {
  "kernelspec": {
   "display_name": "Python 3 (ipykernel)",
   "language": "python",
   "name": "python3"
  },
  "language_info": {
   "codemirror_mode": {
    "name": "ipython",
    "version": 3
   },
   "file_extension": ".py",
   "mimetype": "text/x-python",
   "name": "python",
   "nbconvert_exporter": "python",
   "pygments_lexer": "ipython3",
   "version": "3.12.6"
  }
 },
 "nbformat": 4,
 "nbformat_minor": 5
}
